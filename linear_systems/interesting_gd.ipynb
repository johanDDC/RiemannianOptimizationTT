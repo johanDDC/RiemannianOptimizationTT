{
  "nbformat": 4,
  "nbformat_minor": 0,
  "metadata": {
    "colab": {
      "name": "Untitled4.ipynb",
      "provenance": []
    },
    "kernelspec": {
      "name": "python3",
      "display_name": "Python 3"
    },
    "language_info": {
      "name": "python"
    }
  },
  "cells": [
    {
      "cell_type": "code",
      "metadata": {
        "id": "ZjBLl6_sE854"
      },
      "source": [
        "!pip install ttax==0.0.2\n",
        "!pip install ttpy"
      ],
      "execution_count": null,
      "outputs": []
    },
    {
      "cell_type": "code",
      "metadata": {
        "id": "Vhxk1E3eE_pC"
      },
      "source": [
        "import jax\n",
        "import tt\n",
        "import jax.numpy as jnp\n",
        "from numpy import random\n",
        "import numpy as np\n",
        "import matplotlib.pyplot as plt\n",
        "import ttax\n",
        "%matplotlib inline"
      ],
      "execution_count": 2,
      "outputs": []
    },
    {
      "cell_type": "code",
      "metadata": {
        "id": "mceE4xYkb3_d"
      },
      "source": [
        "ort = ttax.orthogonalize\n",
        "rkey = lambda x: jax.random.PRNGKey(x)"
      ],
      "execution_count": 118,
      "outputs": []
    },
    {
      "cell_type": "code",
      "metadata": {
        "id": "8BphLy_4FA9T"
      },
      "source": [
        "jaxkey = rkey(42)"
      ],
      "execution_count": 119,
      "outputs": []
    },
    {
      "cell_type": "markdown",
      "metadata": {
        "id": "ecGHnaqdm5H2"
      },
      "source": [
        "Сначала напишем кучу вспомогательных функций, затем будем генерировать примеры нужного вида, и запускать от них GD"
      ]
    },
    {
      "cell_type": "code",
      "metadata": {
        "id": "G8_iAeaiJRRM"
      },
      "source": [
        "def ttax_make_operator(A):\n",
        "  \"\"\"\n",
        "    converts a TT representation of A with 2n 3d factors into \n",
        "    a n-factor 4d representation convenient for TT-TT multiplication\n",
        "  \"\"\"\n",
        "  return [\n",
        "          jnp.einsum('abi,icd->abcd', A.tt_cores[i], A.tt_cores[i + 1],\n",
        "                        precision=jax.lax.Precision.HIGHEST)\n",
        "          for i in range(0, len(A.tt_cores), 2)\n",
        "  ]\n",
        "\n",
        "def ttax_matmul(operator_cores, vector_cores):\n",
        "  \"\"\"\n",
        "  applies operator represented by its 4d tensor cores operator_cores \n",
        "  to vector given its 3d TT cores vector_cores\n",
        "  \"\"\"\n",
        "\n",
        "  return ttax.base_class.TT([\n",
        "      jnp.einsum('abic,eig->aebcg', operator_cores[i], vector_cores.tt_cores[i], precision=jax.lax.Precision.HIGHEST).reshape((\n",
        "            operator_cores[i].shape[0] * vector_cores.tt_ranks[i], operator_cores[i].shape[1],\n",
        "            operator_cores[i].shape[3] * vector_cores.tt_ranks[i + 1]), order=\"F\",\n",
        "      )\n",
        "      for i in range(len(vector_cores.tt_cores))\n",
        "  ])"
      ],
      "execution_count": 187,
      "outputs": []
    },
    {
      "cell_type": "code",
      "metadata": {
        "id": "YilRDr_6M0K5"
      },
      "source": [
        "@jax.jit\n",
        "def simultaneous_convolution(Q, D, X):\n",
        "  \"\"\"\n",
        "  \"efficiently\" evaluates the objective function:\n",
        "        (DQx, Qx)\n",
        "  \"\"\"\n",
        "\n",
        "  # ttax.ort would be of good here, but unimplemented in ttax\n",
        "  Qx = ttax_matmul(Q, X)\n",
        "\n",
        "  return jnp.array([\n",
        "    jnp.einsum( \n",
        "        \"abic,eig,xiy->\",\n",
        "         D[i], core, core,\n",
        "         optimize='greedy',\n",
        "         precision=jax.lax.Precision.HIGHEST\n",
        "    )\n",
        "    for i, core in enumerate(Qx.tt_cores)\n",
        "  ]).prod()\n",
        "\n",
        "def simultaneous_apply(example, X):\n",
        "  \"\"\"\n",
        "  evaluates the objective function:\n",
        "        (D1 Q1 X, Q1 X) + (D2 Q2 X, Q2 X) \n",
        "  with matrices provided by the given example\n",
        "  \"\"\"\n",
        "\n",
        "  Q1, Q2, D1, D2 = example.Q1, example.Q2, example.D1, example.D2\n",
        "  return simultaneous_convolution(Q1, D1, X) + simultaneous_convolution(Q2, D2, X)"
      ],
      "execution_count": 188,
      "outputs": []
    },
    {
      "cell_type": "code",
      "metadata": {
        "id": "o77Sn-8zJRn7"
      },
      "source": [
        "def ttax_make_objective(example):\n",
        "  \"\"\"\n",
        "  returns a callable functional of x,\n",
        "  where A and b are provided by the example\n",
        "    0.5 * x*A*x - x*b \n",
        "  \"\"\"\n",
        "  B = example.B\n",
        "  return lambda x: 0.5 * simultaneous_apply(example, x) - ttax.flat_inner(x, B)\n",
        "\n",
        "def ttax_norm(x):\n",
        "  \"\"\"\n",
        "   returns a norm of a tensor x \n",
        "    <x, x>^0.5 \n",
        "  \"\"\"\n",
        "  return jnp.sqrt(ttax.flat_inner(x, x))\n",
        "\n",
        "def ttax_make_residual(example):\n",
        "  \"\"\"\n",
        "   returns a callable functional of x\n",
        "   where A is a generic callable operator on x' space\n",
        "   and is provided by the given example\n",
        "    |A*x - b| \n",
        "  \"\"\"\n",
        "  B = example.B\n",
        "  return lambda x: ttax_norm(ort(ttax.round(example.evaluate(x) + (-1)*B, example.rkx)))"
      ],
      "execution_count": 189,
      "outputs": []
    },
    {
      "cell_type": "code",
      "metadata": {
        "id": "ulTylFMBJRyY"
      },
      "source": [
        "def ttax_retract(TT, v, r):\n",
        "  \"\"\"\n",
        "  returns retraction R(T, v) = T + v\n",
        "  while rounding result to the closest tensor of rank r\n",
        "  \"\"\"\n",
        "  return ort(ttax.round(TT + v, max_tt_rank=r))\n",
        "\n",
        "def ttax_armijo_backtracking(init, grad, mul, beta, func, x, rk):\n",
        "    \"\"\"\n",
        "    Standard Armijo line search algorithm\n",
        "    \"\"\"\n",
        "    alpha = init\n",
        "    while func(x) < func(ttax_retract(x, -alpha*grad, rk)) + mul*alpha*ttax_norm(grad)**2:\n",
        "        alpha *= beta\n",
        "    return alpha\n",
        "\n",
        "def transpose_operator(operator_cores):\n",
        "    \"\"\"\n",
        "    Transposes the given operator\n",
        "    \"\"\"\n",
        "    cores = [jnp.einsum('aijb->ajib', core) for core in operator_cores]\n",
        "    return cores"
      ],
      "execution_count": 190,
      "outputs": []
    },
    {
      "cell_type": "markdown",
      "metadata": {
        "id": "Evs0VmG_kzOu"
      },
      "source": [
        "Генерация примера из условия"
      ]
    },
    {
      "cell_type": "code",
      "metadata": {
        "id": "j5wIwBQeMcFZ"
      },
      "source": [
        "class Example:\n",
        "  def __init__(self, Q1, D1, Q2, D2, X, x0, B, evaluate, rkx):\n",
        "    self.Q1 = Q1\n",
        "    self.D1 = D1\n",
        "    self.Q2 = Q2\n",
        "    self.D2 = D2\n",
        "    self.X = X\n",
        "    self.x0 = x0\n",
        "    self.B = B\n",
        "    self.evaluate = evaluate\n",
        "    self.rkx = rkx\n",
        "\n",
        "def generate_example(shape, rkq = 6, rkd = 2, rkx = 8):\n",
        "  \"\"\"\n",
        "  Returns:\n",
        "      matrices Q, D with ranks of rkq, rkd respectively \n",
        "    in a TT representation each\n",
        "      vector X with rank rkx in a TT representation\n",
        "  \"\"\"\n",
        "  assert len(shape) == 4\n",
        "  \n",
        "  Xshape = (shape[0], shape[2])\n",
        "\n",
        "  # Q, D - tensor operators from R^xshape to R^xshape\n",
        "  # feelsgood xd \n",
        "\n",
        "  Q1 = ttax.random.tensor(jaxkey, shape=shape, tt_rank=rkq)\n",
        "  D1 = ttax.random.tensor(jaxkey, shape=shape, tt_rank=rkd)\n",
        "\n",
        "  Q2 = ttax.random.tensor(jaxkey, shape=shape, tt_rank=rkq)\n",
        "  D2 = ttax.random.tensor(jaxkey, shape=shape, tt_rank=rkd)\n",
        "\n",
        "  x0 = ttax.random.tensor(jax.random.PRNGKey(43), shape=Xshape, tt_rank=rkx)\n",
        "  X = ttax.random.tensor(jaxkey, shape=Xshape, tt_rank=rkx)\n",
        "\n",
        "  Q1o = ttax_make_operator(Q1)\n",
        "  Q2o = ttax_make_operator(Q2)\n",
        "  D1o = ttax_make_operator(D1)\n",
        "  D2o = ttax_make_operator(D2)\n",
        "\n",
        "  Q1oT = transpose_operator(Q1o)\n",
        "  Q2oT = transpose_operator(Q2o)\n",
        "\n",
        "  # looks good\n",
        "  evaluate = lambda x: ort(ttax.round(ttax_matmul(Q1oT, ttax_matmul(D1o, ttax_matmul(Q1o, x))) \\\n",
        "                        + ttax_matmul(Q2oT, ttax_matmul(D2o, ttax_matmul(Q2o, x))), max_tt_rank=rkx))\n",
        "  \n",
        "  B = evaluate(X)\n",
        "  \n",
        "  return Example(Q1o, D1o, Q2o, D2o, X, x0, B, evaluate, rkx)"
      ],
      "execution_count": 191,
      "outputs": []
    },
    {
      "cell_type": "code",
      "metadata": {
        "id": "IMAtJuw7JR6W"
      },
      "source": [
        "def ttax_solve(objective, residual, x0, rk, iters=500, tol=1e-2, debug=False):\n",
        "\n",
        "  riemann_grad_at = ttax.autodiff.grad(objective)\n",
        "\n",
        "  x = x0\n",
        "\n",
        "  residuals = []\n",
        "\n",
        "  i = 0\n",
        "\n",
        "  while residual(x) > tol and i < iters:\n",
        "\n",
        "    riemann_grad = ort(riemann_grad_at(x))\n",
        "    alpha = ttax_armijo_backtracking(1, riemann_grad, 1e-4, 0.8, objective, x, rk)\n",
        "    \n",
        "    x = ttax_retract(x, (-alpha)*riemann_grad, rk)\n",
        "\n",
        "    residuals.append( residual(x) )   \n",
        "    if debug:\n",
        "      print(f\"{i} th iteration: {residuals[-1]}\")\n",
        "\n",
        "    i += 1\n",
        "\n",
        "  return x, residuals"
      ],
      "execution_count": 193,
      "outputs": []
    },
    {
      "cell_type": "code",
      "metadata": {
        "id": "TpSTkc6frI7n"
      },
      "source": [
        ""
      ],
      "execution_count": 198,
      "outputs": []
    },
    {
      "cell_type": "code",
      "metadata": {
        "id": "4vXvowcYKB3B"
      },
      "source": [
        "n = 4\n",
        "shape = (n, n, n, n)\n",
        "\n",
        "rkq, rkd, rkx = 6, 2, 3\n",
        "example = generate_example(shape, rkq = rkq, rkd = rkd, rkx = rkx)"
      ],
      "execution_count": 199,
      "outputs": []
    },
    {
      "cell_type": "code",
      "metadata": {
        "id": "pd9O46kdR6OB"
      },
      "source": [
        "objective = ttax_make_objective(example)\n",
        "residual = ttax_make_residual(example)"
      ],
      "execution_count": 200,
      "outputs": []
    },
    {
      "cell_type": "markdown",
      "metadata": {
        "id": "-t0Woj-xkigK"
      },
      "source": [
        "sanity checks"
      ]
    },
    {
      "cell_type": "code",
      "metadata": {
        "id": "YUmwDpoWS_OZ"
      },
      "source": [
        "assert residual(example.X) < 1e-1\n",
        "assert ttax_norm(example.evaluate(example.X) + (-1)*example.B) < 1e-1"
      ],
      "execution_count": 201,
      "outputs": []
    },
    {
      "cell_type": "code",
      "metadata": {
        "colab": {
          "base_uri": "https://localhost:8080/"
        },
        "id": "7mYwJn2KKD6s",
        "outputId": "cd196077-b3ab-48a3-a0ed-85c07507075f"
      },
      "source": [
        "y, res = ttax_solve(objective, residual, x0=example.x0, rk=rkx, debug=True, tol=1e-1)"
      ],
      "execution_count": 202,
      "outputs": [
        {
          "output_type": "stream",
          "text": [
            "0 th iteration: 610272083968.0\n",
            "1 th iteration: nan\n"
          ],
          "name": "stdout"
        }
      ]
    },
    {
      "cell_type": "code",
      "metadata": {
        "colab": {
          "base_uri": "https://localhost:8080/"
        },
        "id": "t1W3P0DASyfP",
        "outputId": "8c8d1ea5-c3e5-46ee-b1a6-0d87d1676c3f"
      },
      "source": [
        "res"
      ],
      "execution_count": 203,
      "outputs": [
        {
          "output_type": "execute_result",
          "data": {
            "text/plain": [
              "[DeviceArray(6.102721e+11, dtype=float32), DeviceArray(nan, dtype=float32)]"
            ]
          },
          "metadata": {
            "tags": []
          },
          "execution_count": 203
        }
      ]
    },
    {
      "cell_type": "code",
      "metadata": {
        "id": "C-svs6F4VKiu"
      },
      "source": [
        ""
      ],
      "execution_count": 165,
      "outputs": []
    },
    {
      "cell_type": "code",
      "metadata": {
        "id": "cgINkMfdVMQS"
      },
      "source": [
        ""
      ],
      "execution_count": null,
      "outputs": []
    }
  ]
}