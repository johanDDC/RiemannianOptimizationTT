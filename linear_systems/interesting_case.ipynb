{
  "nbformat": 4,
  "nbformat_minor": 0,
  "metadata": {
    "colab": {
      "name": "interesting_case.ipynb",
      "provenance": []
    },
    "kernelspec": {
      "name": "python3",
      "display_name": "Python 3"
    },
    "language_info": {
      "name": "python"
    }
  },
  "cells": [
    {
      "cell_type": "code",
      "metadata": {
        "id": "gzEJt_9T4NXI"
      },
      "source": [
        ""
      ],
      "execution_count": null,
      "outputs": []
    },
    {
      "cell_type": "code",
      "metadata": {
        "id": "nD0NhwzV4LHL"
      },
      "source": [
        "!pip install ttax==0.0.2\n",
        "!pip install ttpy"
      ],
      "execution_count": null,
      "outputs": []
    },
    {
      "cell_type": "code",
      "metadata": {
        "id": "KDhydVnF4ONH"
      },
      "source": [
        "import jax\n",
        "import tt\n",
        "import jax.numpy as jnp\n",
        "from numpy import random\n",
        "import numpy as np\n",
        "import matplotlib.pyplot as plt\n",
        "import ttax\n",
        "%matplotlib inline"
      ],
      "execution_count": 2,
      "outputs": []
    },
    {
      "cell_type": "code",
      "metadata": {
        "id": "67shxt4X6VfH"
      },
      "source": [
        ""
      ],
      "execution_count": 2,
      "outputs": []
    },
    {
      "cell_type": "markdown",
      "metadata": {
        "id": "u-HYjy3c6YNg"
      },
      "source": [
        "Хотим считать проекцию градиента для матрицы в задаче решения линейной системы\n",
        "\n",
        "$$A = Q_1^TD_1Q_1 + Q_2^TD_2Q_2$$\n",
        "\n",
        "\n",
        "где $~rk(D_i) = 10$, $~~rk(Q_i) = 35$\n",
        "\n",
        "Можно воспользоваться автодифом из ttax. Тогда самым содержательным будет вопрос подсчета $$(Ax, x)$$ из функционала энергии.\n",
        "\n"
      ]
    },
    {
      "cell_type": "markdown",
      "metadata": {
        "id": "zBIEpmOK7glL"
      },
      "source": [
        "Попробуем.\n",
        "По определению билинейной формы перенесем транспонирование\n",
        "$$(Ax, x) = (D_1Q_1x, Q_1x) + (D_2Q_2x, Q_2x)$$\n",
        "\n",
        "$(D_1Q_1x, Q_1x)$ "
      ]
    },
    {
      "cell_type": "code",
      "metadata": {
        "colab": {
          "base_uri": "https://localhost:8080/"
        },
        "id": "hl6z_CeS6Vzw",
        "outputId": "950afd81-5acd-4694-f962-e71aae504f0d"
      },
      "source": [
        "seed = 42\n",
        "jaxkey = jax.random.PRNGKey(seed)"
      ],
      "execution_count": 3,
      "outputs": [
        {
          "output_type": "stream",
          "text": [
            "WARNING:absl:No GPU/TPU found, falling back to CPU. (Set TF_CPP_MIN_LOG_LEVEL=0 and rerun for more info.)\n"
          ],
          "name": "stderr"
        }
      ]
    },
    {
      "cell_type": "code",
      "metadata": {
        "id": "lfqaexkE6WBY"
      },
      "source": [
        "def generate_example(shape, rkq = 6, rkd = 2, rkx = 8):\n",
        "  \"\"\"\n",
        "  Returns:\n",
        "      matrices Q, D with ranks of rkq, rkd respectively \n",
        "    in a TT representation each\n",
        "      vector X with rank rkx in a TT representation\n",
        "  \"\"\"\n",
        "  assert len(shape) == 4\n",
        "  \n",
        "  Xshape = (shape[0], shape[2])\n",
        "\n",
        "  # Q, D - tensor operators from R^xshape to R^xshape\n",
        "  # feelsgood xd \n",
        "\n",
        "  Q = ttax.random.tensor(jaxkey, shape=shape, tt_rank=rkq)\n",
        "  D = ttax.random.tensor(jaxkey, shape=shape, tt_rank=rkd)\n",
        "  X = ttax.random.tensor(jaxkey, shape=Xshape, tt_rank=rkx)\n",
        "  \n",
        "  return Q, D, X"
      ],
      "execution_count": 4,
      "outputs": []
    },
    {
      "cell_type": "code",
      "metadata": {
        "id": "6xGis-bc82ZL"
      },
      "source": [
        ""
      ],
      "execution_count": 4,
      "outputs": []
    },
    {
      "cell_type": "code",
      "metadata": {
        "id": "UOBNEDSP84jJ"
      },
      "source": [
        ""
      ],
      "execution_count": 4,
      "outputs": []
    },
    {
      "cell_type": "code",
      "metadata": {
        "id": "SBEbiz2VAl42"
      },
      "source": [
        ""
      ],
      "execution_count": 4,
      "outputs": []
    },
    {
      "cell_type": "code",
      "metadata": {
        "id": "glcFAIGOOmY1"
      },
      "source": [
        "def ttax_make_operator(A):\n",
        "  \"\"\"\n",
        "    converts a TT representation of A with 2n 3d factors into \n",
        "    a n-factor 4d representation convenient for TT-TT multiplication\n",
        "  \"\"\"\n",
        "  return [\n",
        "          jnp.einsum('abi,icd->abcd', A.tt_cores[i], A.tt_cores[i + 1],\n",
        "                        optimize=True)\n",
        "          for i in range(0, len(A.tt_cores), 2)\n",
        "  ]\n",
        "\n",
        "def ttax_matmul(operator_cores, vector_cores):\n",
        "  \"\"\"\n",
        "    transforms a vector represented by vector_cores under an operator\n",
        "    formed by operator_cores \n",
        "\n",
        "    input: \n",
        "          . 4d cores operator_cores\n",
        "          . 3d cores vector_cores\n",
        "    \n",
        "    outout:\n",
        "          . 3d cores \n",
        "  \"\"\"\n",
        "  return ttax.base_class.TT([\n",
        "      jnp.einsum(\"abic,eig->aebcg\", operator_cores[i], vector_cores.tt_cores[i], optimize=True).reshape((\n",
        "            operator_cores[i].shape[0] * vector_cores.tt_ranks[i], operator_cores[i].shape[1],\n",
        "            operator_cores[i].shape[3] * vector_cores.tt_ranks[i + 1]), order=\"F\",\n",
        "      )\n",
        "      for i in range(len(vector_cores.tt_cores))\n",
        "  ])\n",
        "\n",
        "def ttax_transpose_operator(operator_cores):\n",
        "    cores = [jnp.einsum('aijb->ajib', core) for core in operator_cores]\n",
        "    return cores"
      ],
      "execution_count": 5,
      "outputs": []
    },
    {
      "cell_type": "markdown",
      "metadata": {
        "id": "p5k87d_xQsvK"
      },
      "source": [
        "Тензор-тензор умножения и скалярное умножение последовательно"
      ]
    },
    {
      "cell_type": "code",
      "metadata": {
        "id": "UBRCbB2j_ybB"
      },
      "source": [
        "@jax.jit\n",
        "def objective_1(Q, D, X):\n",
        "  \"\"\"\n",
        "  objective function:\n",
        "        (DQx, Qx)\n",
        "  \"\"\"\n",
        "\n",
        "  Qx = ttax_matmul(Q, X)\n",
        "\n",
        "  DQx = ttax_matmul(D, Qx)\n",
        "\n",
        "  return ttax.flat_inner(ttax.orthogonalize(Qx), ttax.orthogonalize(DQx))"
      ],
      "execution_count": 6,
      "outputs": []
    },
    {
      "cell_type": "markdown",
      "metadata": {
        "id": "GVcUdHqxXq6m"
      },
      "source": [
        "попробуем по другому (что-то не заработало)\n",
        "\n"
      ]
    },
    {
      "cell_type": "code",
      "metadata": {
        "id": "W8eM264TXHOr"
      },
      "source": [
        "@jax.jit\n",
        "def objective_2(DQ, Q, X):\n",
        "  \"\"\"\n",
        "  objective function:\n",
        "        (DQx, Qx)\n",
        "  \"\"\"\n",
        "\n",
        "  Qx = ttax_matmul(Q, X)\n",
        "\n",
        "  # (Dy, y)\n",
        "\n",
        "  ### hmmm , как бы написать einsum\n",
        "  return jnp.einsum(\"ijk,xyz,abc->\", DQ, Qx, X, optimize=True)"
      ],
      "execution_count": 7,
      "outputs": []
    },
    {
      "cell_type": "code",
      "metadata": {
        "id": "NKz8O2G2Qej_"
      },
      "source": [
        "@jax.jit\n",
        "def objective_3(QDQ, X):\n",
        "  \"\"\"\n",
        "  objective function:\n",
        "        (DQx, Qx)\n",
        "  \"\"\"\n",
        "\n",
        "  return jnp.flat_inner(QDQ, ttax.orthogonalize(X))"
      ],
      "execution_count": 8,
      "outputs": []
    },
    {
      "cell_type": "code",
      "metadata": {
        "id": "bQtAxwAhQe6G"
      },
      "source": [
        "n = 4\n",
        "shape = (n, n, n, n)\n",
        "\n",
        "rkq, rkd, rkx = 6, 2, 2\n",
        "Q, D, X = generate_example(shape, rkq = rkq, rkd = rkd, rkx = rkx)"
      ],
      "execution_count": 9,
      "outputs": []
    },
    {
      "cell_type": "code",
      "metadata": {
        "id": "AI0OIvEDQfs9"
      },
      "source": [
        "# пара тестов на корректность примеров\n",
        "assert np.linalg.matrix_rank( ttax.full(Q).reshape((n**2, n**2)) ) == rkq\n",
        "assert np.linalg.matrix_rank( ttax.full(D).reshape((n**2, n**2)) ) == rkd\n",
        "assert np.linalg.matrix_rank( ttax.full(X).reshape((n, n)) )       == rkx"
      ],
      "execution_count": 10,
      "outputs": []
    },
    {
      "cell_type": "code",
      "metadata": {
        "id": "IH9sQl8tVMnB"
      },
      "source": [
        ""
      ],
      "execution_count": 10,
      "outputs": []
    },
    {
      "cell_type": "markdown",
      "metadata": {
        "id": "1s6XO2sMW-9x"
      },
      "source": [
        "### проверим на двух матрицах\n",
        "\n",
        "матрица $~2^{12} \\times 2^{12}$"
      ]
    },
    {
      "cell_type": "code",
      "metadata": {
        "id": "6SGUo_Z5VMRc"
      },
      "source": [
        "n = 64\n",
        "shape = (n, n, n, n)\n",
        "\n",
        "rkq, rkd, rkx = 35, 10, 40\n",
        "Q1, D1, X1 = generate_example(shape, rkq = rkq, rkd = rkd, rkx = rkx)\n",
        "# преобразовывать такое в матрицу уже не получится"
      ],
      "execution_count": 11,
      "outputs": []
    },
    {
      "cell_type": "markdown",
      "metadata": {
        "id": "djXhdsu6dnRA"
      },
      "source": [
        "матрица $~2^{20} \\times 2^{20}$"
      ]
    },
    {
      "cell_type": "code",
      "metadata": {
        "id": "1C-fb9wadVw_"
      },
      "source": [
        "n = 2**10\n",
        "shape = (n, n, n, n)\n",
        "\n",
        "Q2, D2, X2 = generate_example(shape, rkq = rkq, rkd = rkd, rkx = rkx)"
      ],
      "execution_count": 12,
      "outputs": []
    },
    {
      "cell_type": "code",
      "metadata": {
        "id": "IenbR5oJd0cY"
      },
      "source": [
        ""
      ],
      "execution_count": 12,
      "outputs": []
    },
    {
      "cell_type": "markdown",
      "metadata": {
        "id": "dPM-kBIFemmF"
      },
      "source": [
        "алгосы"
      ]
    },
    {
      "cell_type": "code",
      "metadata": {
        "id": "Apna1L7l_341"
      },
      "source": [
        "Qo1 = ttax_make_operator(Q1)\n",
        "Do1 = ttax_make_operator(D1)\n",
        "\n",
        "Qo2 = ttax_make_operator(Q2)\n",
        "Do2 = ttax_make_operator(D2)"
      ],
      "execution_count": 13,
      "outputs": []
    },
    {
      "cell_type": "code",
      "metadata": {
        "colab": {
          "base_uri": "https://localhost:8080/"
        },
        "id": "vKMnlKT-MADB",
        "outputId": "3e3875cb-b5cc-4f43-8cfd-7705790420c8"
      },
      "source": [
        "%timeit c = objective_1(Qo1, Do1, X1)[...]\n",
        "%timeit c = objective_1(Qo2, Do2, X2)[...]"
      ],
      "execution_count": 14,
      "outputs": [
        {
          "output_type": "stream",
          "text": [
            "The slowest run took 6.63 times longer than the fastest. This could mean that an intermediate result is being cached.\n",
            "1 loop, best of 5: 59.6 ms per loop\n",
            "1 loop, best of 5: 3.67 s per loop\n"
          ],
          "name": "stdout"
        }
      ]
    },
    {
      "cell_type": "markdown",
      "metadata": {
        "id": "ZTZc0Kh_fA_o"
      },
      "source": [
        "60ms на матрицу n = 4000 и 4s на n = 2^20"
      ]
    },
    {
      "cell_type": "code",
      "metadata": {
        "id": "XQ5b4nYvYVk3"
      },
      "source": [
        "\n",
        "# end of file\n",
        "#####################################################\n"
      ],
      "execution_count": 22,
      "outputs": []
    },
    {
      "cell_type": "code",
      "metadata": {
        "id": "QCWfwG02Pwqu"
      },
      "source": [
        ""
      ],
      "execution_count": null,
      "outputs": []
    },
    {
      "cell_type": "code",
      "metadata": {
        "id": "04CLrN-GYbC2"
      },
      "source": [
        ""
      ],
      "execution_count": 116,
      "outputs": []
    },
    {
      "cell_type": "code",
      "metadata": {
        "id": "mqB-1k3LRKyh"
      },
      "source": [
        ""
      ],
      "execution_count": null,
      "outputs": []
    },
    {
      "cell_type": "code",
      "metadata": {
        "id": "qW_AmFyzRd3w"
      },
      "source": [
        ""
      ],
      "execution_count": null,
      "outputs": []
    },
    {
      "cell_type": "code",
      "metadata": {
        "id": "B_ODYJwgReEL"
      },
      "source": [
        ""
      ],
      "execution_count": null,
      "outputs": []
    },
    {
      "cell_type": "code",
      "metadata": {
        "id": "cYlk26zmReMk"
      },
      "source": [
        "A = ttax.random.tensor(jaxkey, shape=(2, 2, 2, 2), tt_rank=2)\n",
        "Af = ttax.full(A)\n",
        "B = ttax.random.tensor(jaxkey, shape=(2, 2, 2, 2), tt_rank=2)\n",
        "Bf = ttax.full(B)"
      ],
      "execution_count": 16,
      "outputs": []
    },
    {
      "cell_type": "code",
      "metadata": {
        "colab": {
          "base_uri": "https://localhost:8080/"
        },
        "id": "S69g_be-UHBK",
        "outputId": "b8afd52b-17a4-4c48-b0f1-1fb5be4bbb01"
      },
      "source": [
        "np.inner(Af, Bf).sum()"
      ],
      "execution_count": 17,
      "outputs": [
        {
          "output_type": "execute_result",
          "data": {
            "text/plain": [
              "122.364174"
            ]
          },
          "metadata": {
            "tags": []
          },
          "execution_count": 17
        }
      ]
    },
    {
      "cell_type": "code",
      "metadata": {
        "colab": {
          "base_uri": "https://localhost:8080/"
        },
        "id": "6LkIlHwNUaKg",
        "outputId": "d863b31f-9c62-4668-c47b-19d74c005199"
      },
      "source": [
        "ttax.flat_inner(ttax.orthogonalize(A), ttax.orthogonalize(B))"
      ],
      "execution_count": 18,
      "outputs": [
        {
          "output_type": "execute_result",
          "data": {
            "text/plain": [
              "DeviceArray(97.19842, dtype=float32)"
            ]
          },
          "metadata": {
            "tags": []
          },
          "execution_count": 18
        }
      ]
    },
    {
      "cell_type": "code",
      "metadata": {
        "id": "IZ1p212yUgpB"
      },
      "source": [
        "A = np.array([\n",
        "              [1, 1],\n",
        "              [2, 3]\n",
        "])\n",
        "B = np.array([\n",
        "              [2, 4],\n",
        "              [10, 1]\n",
        "])"
      ],
      "execution_count": 19,
      "outputs": []
    },
    {
      "cell_type": "code",
      "metadata": {
        "colab": {
          "base_uri": "https://localhost:8080/"
        },
        "id": "-TWYSSm2Xa43",
        "outputId": "c4b533de-cd4b-4847-b1b4-ee02f70b28e2"
      },
      "source": [
        "jnp.inner(A, B)"
      ],
      "execution_count": 20,
      "outputs": [
        {
          "output_type": "execute_result",
          "data": {
            "text/plain": [
              "DeviceArray([[ 6, 11],\n",
              "             [16, 23]], dtype=int32)"
            ]
          },
          "metadata": {
            "tags": []
          },
          "execution_count": 20
        }
      ]
    },
    {
      "cell_type": "code",
      "metadata": {
        "colab": {
          "base_uri": "https://localhost:8080/"
        },
        "id": "YFNhuH5cbEDg",
        "outputId": "d2e50d9a-6b68-4861-9a85-e7213715b47c"
      },
      "source": [
        "# hmmmm\n",
        "jnp.einsum(\"ij,ij->\", A, B)"
      ],
      "execution_count": 21,
      "outputs": [
        {
          "output_type": "execute_result",
          "data": {
            "text/plain": [
              "DeviceArray(29, dtype=int32)"
            ]
          },
          "metadata": {
            "tags": []
          },
          "execution_count": 21
        }
      ]
    },
    {
      "cell_type": "code",
      "metadata": {
        "id": "EE_DUNU5bNU_"
      },
      "source": [
        ""
      ],
      "execution_count": null,
      "outputs": []
    }
  ]
}