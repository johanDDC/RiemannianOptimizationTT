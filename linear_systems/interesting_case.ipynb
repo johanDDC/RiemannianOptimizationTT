{
  "nbformat": 4,
  "nbformat_minor": 0,
  "metadata": {
    "colab": {
      "name": "interesting_case.ipynb",
      "provenance": []
    },
    "kernelspec": {
      "name": "python3",
      "display_name": "Python 3"
    },
    "language_info": {
      "name": "python"
    }
  },
  "cells": [
    {
      "cell_type": "code",
      "metadata": {
        "id": "lyaOiJ2-CUZ7"
      },
      "source": [
        ""
      ],
      "execution_count": null,
      "outputs": []
    },
    {
      "cell_type": "code",
      "metadata": {
        "id": "gzEJt_9T4NXI"
      },
      "source": [
        ""
      ],
      "execution_count": null,
      "outputs": []
    },
    {
      "cell_type": "code",
      "metadata": {
        "id": "nD0NhwzV4LHL"
      },
      "source": [
        "!pip install ttax==0.0.2\n",
        "!pip install ttpy"
      ],
      "execution_count": null,
      "outputs": []
    },
    {
      "cell_type": "code",
      "metadata": {
        "id": "KDhydVnF4ONH"
      },
      "source": [
        "import jax\n",
        "import tt\n",
        "import jax.numpy as jnp\n",
        "from numpy import random\n",
        "import numpy as np\n",
        "import matplotlib.pyplot as plt\n",
        "import ttax\n",
        "%matplotlib inline"
      ],
      "execution_count": 2,
      "outputs": []
    },
    {
      "cell_type": "code",
      "metadata": {
        "id": "67shxt4X6VfH"
      },
      "source": [
        ""
      ],
      "execution_count": null,
      "outputs": []
    },
    {
      "cell_type": "markdown",
      "metadata": {
        "id": "u-HYjy3c6YNg"
      },
      "source": [
        "Хотим считать проекцию градиента для матрицы в задаче решения линейной системы\n",
        "\n",
        "$$A = Q_1^TD_1Q_1 + Q_2^TD_2Q_2$$\n",
        "\n",
        "\n",
        "где $~rk(D_i) = 10$, $~~rk(Q_i) = 35$\n",
        "\n",
        "Можно воспользоваться автодифом из ttax. Тогда самым содержательным будет вопрос подсчета $$(Ax, x)$$ из функционала энергии.\n",
        "\n"
      ]
    },
    {
      "cell_type": "markdown",
      "metadata": {
        "id": "zBIEpmOK7glL"
      },
      "source": [
        "Попробуем.\n",
        "\n",
        "$$(Ax, x) = (D_1Q_1x, Q_1x) + (D_2Q_2x, Q_2x)$$\n",
        "\n",
        "Сначала умножим $~y = Qx~$, затем $~z = Dy~$, и в конце $~inner(z, y)$ \n",
        "\n",
        "После того, как ко мне вернется память о том, как умножать матрицы в einsum, скомпоную эти шаги в один."
      ]
    },
    {
      "cell_type": "code",
      "metadata": {
        "id": "hl6z_CeS6Vzw"
      },
      "source": [
        "seed = 42\n",
        "jaxkey = jax.random.PRNGKey(seed)"
      ],
      "execution_count": 102,
      "outputs": []
    },
    {
      "cell_type": "code",
      "metadata": {
        "id": "lfqaexkE6WBY"
      },
      "source": [
        "def generate_example(shape, rkq = 6, rkd = 2, rkx = 8):\n",
        "  \"\"\"\n",
        "  Returns:\n",
        "      matrices Q, D with ranks of rkq, rkd respectively \n",
        "    in a TT representation each\n",
        "      vector X with rank rkx in a TT representation\n",
        "  \"\"\"\n",
        "  assert len(shape) == 4\n",
        "  \n",
        "  Xshape = (shape[0], shape[2])\n",
        "\n",
        "  # Q, D - tensor operators from R^xshape to R^xshape\n",
        "  # feelsgood xd \n",
        "\n",
        "  Q = ttax.random.tensor(jaxkey, shape=shape, tt_rank=rkq)\n",
        "  D = ttax.random.tensor(jaxkey, shape=shape, tt_rank=rkd)\n",
        "  X = ttax.random.tensor(jaxkey, shape=Xshape, tt_rank=rkx)\n",
        "  \n",
        "  return Q, D, X"
      ],
      "execution_count": 103,
      "outputs": []
    },
    {
      "cell_type": "code",
      "metadata": {
        "id": "6xGis-bc82ZL"
      },
      "source": [
        ""
      ],
      "execution_count": 4,
      "outputs": []
    },
    {
      "cell_type": "code",
      "metadata": {
        "id": "UOBNEDSP84jJ"
      },
      "source": [
        ""
      ],
      "execution_count": 4,
      "outputs": []
    },
    {
      "cell_type": "code",
      "metadata": {
        "id": "SBEbiz2VAl42"
      },
      "source": [
        ""
      ],
      "execution_count": 4,
      "outputs": []
    },
    {
      "cell_type": "code",
      "metadata": {
        "id": "glcFAIGOOmY1"
      },
      "source": [
        "def ttax_make_operator(A):\n",
        "  \"\"\"\n",
        "    converts a TT representation of A with 2n 3d factors into \n",
        "    a n-factor 4d representation convenient for TT-TT multiplication\n",
        "  \"\"\"\n",
        "  return [\n",
        "          jnp.einsum('abi,icd->abcd', A.tt_cores[i], A.tt_cores[i + 1],\n",
        "                        optimize=True, precision=jax.lax.Precision.HIGHEST)\n",
        "          for i in range(0, len(A.tt_cores), 2)\n",
        "  ]\n",
        "\n",
        "def ttax_matmul(operator_cores, vector_cores, ttax_format=True):\n",
        "  \"\"\"\n",
        "    transforms a vector represented by vector_cores under an operator\n",
        "    formed by operator_cores \n",
        "\n",
        "    input: \n",
        "          . 4d cores operator_cores\n",
        "          . 3d cores vector_cores\n",
        "    \n",
        "    outout:\n",
        "          . 3d cores \n",
        "  \"\"\"\n",
        "  tmp = [\n",
        "      jnp.einsum(\"abic,eig->aebcg\", operator_cores[i], vector_cores.tt_cores[i],\n",
        "                 optimize=True, precision=jax.lax.Precision.HIGHEST)\n",
        "      for i in range(len(vector_cores.tt_cores))\n",
        "  ]\n",
        "\n",
        "  if ttax_format:\n",
        "    tmp = ttax.base_class.TT([\n",
        "       core.reshape((\n",
        "            operator_cores[i].shape[0] * vector_cores.tt_ranks[i], operator_cores[i].shape[1],\n",
        "            operator_cores[i].shape[3] * vector_cores.tt_ranks[i + 1]), order=\"F\",\n",
        "      )   \n",
        "      for i, core in enumerate(tmp)\n",
        "    ])\n",
        "\n",
        "  return tmp\n",
        "\n",
        "def ttax_transpose_operator(operator_cores):\n",
        "    cores = [jnp.einsum('aijb->ajib', core) for core in operator_cores]\n",
        "    return cores"
      ],
      "execution_count": 359,
      "outputs": []
    },
    {
      "cell_type": "markdown",
      "metadata": {
        "id": "p5k87d_xQsvK"
      },
      "source": [
        "Тензор-тензор умножения и скалярное умножение последовательно"
      ]
    },
    {
      "cell_type": "code",
      "metadata": {
        "id": "UBRCbB2j_ybB"
      },
      "source": [
        "@jax.jit\n",
        "def objective_1(Q, D, X):\n",
        "  \"\"\"\n",
        "  objective function:\n",
        "        (DQx, Qx)\n",
        "  \"\"\"\n",
        "\n",
        "  Qx = ttax.orthogonalize(ttax_matmul(Q, X))\n",
        "\n",
        "  DQx = ttax_matmul(D, Qx)\n",
        "\n",
        "  return ttax.flat_inner(Qx, ttax.orthogonalize(DQx))"
      ],
      "execution_count": 256,
      "outputs": []
    },
    {
      "cell_type": "markdown",
      "metadata": {
        "id": "GVcUdHqxXq6m"
      },
      "source": [
        "попробуем по другому\n",
        "\n"
      ]
    },
    {
      "cell_type": "code",
      "metadata": {
        "id": "W8eM264TXHOr"
      },
      "source": [
        "@jax.jit\n",
        "def objective_2(Q, D, X):\n",
        "  \"\"\"\n",
        "  objective function:\n",
        "        (DQx, Qx)\n",
        "  \"\"\"\n",
        "\n",
        "  Qx = ttax.orthogonalize(ttax_matmul(Q, X))\n",
        "\n",
        "  return jnp.array([\n",
        "    jnp.einsum( \n",
        "        \"abic,eig,xiy->\",\n",
        "         D[i], core, core,\n",
        "         optimize='greedy',\n",
        "         precision=jax.lax.Precision.HIGHEST\n",
        "    )\n",
        "    for i, core in enumerate(Qx.tt_cores)\n",
        "  ]).prod()"
      ],
      "execution_count": 360,
      "outputs": []
    },
    {
      "cell_type": "code",
      "metadata": {
        "id": "c54M64UpSXX2"
      },
      "source": [
        "@jax.jit\n",
        "def objective_3(Q, D, X):\n",
        "  \"\"\"\n",
        "  objective function:\n",
        "        (DQx, Qx)\n",
        "  \"\"\"\n",
        "\n",
        "  Qx = ttax.orthogonalize(ttax_matmul(Q, X))\n",
        "\n",
        "  return jnp.array([\n",
        "    jnp.einsum( \n",
        "        \"abic,eig,eix->\",\n",
        "         D[i], core, core,\n",
        "         optimize='greedy'\n",
        "    )\n",
        "    for i, core in enumerate(Qx.tt_cores)\n",
        "  ]).prod()"
      ],
      "execution_count": 340,
      "outputs": []
    },
    {
      "cell_type": "code",
      "metadata": {
        "id": "9RNH6NnhSX53"
      },
      "source": [
        ""
      ],
      "execution_count": 340,
      "outputs": []
    },
    {
      "cell_type": "code",
      "metadata": {
        "id": "NKz8O2G2Qej_"
      },
      "source": [
        ""
      ],
      "execution_count": 340,
      "outputs": []
    },
    {
      "cell_type": "code",
      "metadata": {
        "id": "bQtAxwAhQe6G"
      },
      "source": [
        "n = 4\n",
        "shape = (n, n, n, n)\n",
        "\n",
        "rkq, rkd, rkx = 6, 2, 3\n",
        "Q, D, X = generate_example(shape, rkq = rkq, rkd = rkd, rkx = rkx)"
      ],
      "execution_count": 341,
      "outputs": []
    },
    {
      "cell_type": "code",
      "metadata": {
        "id": "AI0OIvEDQfs9"
      },
      "source": [
        "# пара тестов на корректность примеров\n",
        "assert np.linalg.matrix_rank( ttax.full(Q).reshape((n**2, n**2)) ) == rkq\n",
        "assert np.linalg.matrix_rank( ttax.full(D).reshape((n**2, n**2)) ) == rkd\n",
        "assert np.linalg.matrix_rank( ttax.full(X).reshape((n, n)) )       == rkx"
      ],
      "execution_count": 342,
      "outputs": []
    },
    {
      "cell_type": "code",
      "metadata": {
        "id": "AmgZjCCJSVLT"
      },
      "source": [
        "Qo = ttax_make_operator(Q)\n",
        "Do = ttax_make_operator(D)"
      ],
      "execution_count": 343,
      "outputs": []
    },
    {
      "cell_type": "code",
      "metadata": {
        "id": "zatmR76Z-pBN"
      },
      "source": [
        "assert [core.shape for core in Qo] == [(1, n, n, rkq), (rkq, n, n, 1)]\n",
        "assert [core.shape for core in Do] == [(1, n, n, rkd), (rkd, n, n, 1)]\n",
        "assert [core.shape for core in X.tt_cores] == [(1, n, rkx), (rkx, n, 1)]"
      ],
      "execution_count": 344,
      "outputs": []
    },
    {
      "cell_type": "code",
      "metadata": {
        "id": "G-Lc4be8CWHU"
      },
      "source": [
        ""
      ],
      "execution_count": 344,
      "outputs": []
    },
    {
      "cell_type": "code",
      "metadata": {
        "id": "mTptLv-oSVTL"
      },
      "source": [
        "Qx_5d = ttax_matmul(Qo, X, ttax_format=False)\n",
        "Qx = ttax_matmul(Qo, X)\n",
        "DQx_5d = ttax_matmul(Do, Qx, ttax_format=False)\n",
        "DQx = ttax_matmul(Do, Qx)"
      ],
      "execution_count": 361,
      "outputs": []
    },
    {
      "cell_type": "code",
      "metadata": {
        "colab": {
          "base_uri": "https://localhost:8080/"
        },
        "id": "1Ip4U7IdCYAL",
        "outputId": "e2f4445a-3016-4760-b370-dcc0c0888de4"
      },
      "source": [
        "[core.shape for core in Do]"
      ],
      "execution_count": 346,
      "outputs": [
        {
          "output_type": "execute_result",
          "data": {
            "text/plain": [
              "[(1, 4, 4, 2), (2, 4, 4, 1)]"
            ]
          },
          "metadata": {
            "tags": []
          },
          "execution_count": 346
        }
      ]
    },
    {
      "cell_type": "code",
      "metadata": {
        "colab": {
          "base_uri": "https://localhost:8080/"
        },
        "id": "RfRB91B5IlFD",
        "outputId": "ed67029e-017d-48bf-f87f-91b8768437df"
      },
      "source": [
        "[core.shape for core in X.tt_cores]"
      ],
      "execution_count": 347,
      "outputs": [
        {
          "output_type": "execute_result",
          "data": {
            "text/plain": [
              "[(1, 4, 3), (3, 4, 1)]"
            ]
          },
          "metadata": {
            "tags": []
          },
          "execution_count": 347
        }
      ]
    },
    {
      "cell_type": "code",
      "metadata": {
        "colab": {
          "base_uri": "https://localhost:8080/"
        },
        "id": "Z8aU0nUg_ZJp",
        "outputId": "38f5e61c-59e5-4497-e57e-c14d8ba6b775"
      },
      "source": [
        " [core.shape for core in Qx_5d], [core.shape for core in Qx.tt_cores]"
      ],
      "execution_count": 348,
      "outputs": [
        {
          "output_type": "execute_result",
          "data": {
            "text/plain": [
              "([(1, 1, 4, 6, 3), (6, 3, 4, 1, 1)], [(1, 4, 18), (18, 4, 1)])"
            ]
          },
          "metadata": {
            "tags": []
          },
          "execution_count": 348
        }
      ]
    },
    {
      "cell_type": "code",
      "metadata": {
        "colab": {
          "base_uri": "https://localhost:8080/"
        },
        "id": "AkjUyZ2mSVbh",
        "outputId": "93b4356d-cc52-4e19-b59b-da64d305c3f5"
      },
      "source": [
        " [core.shape for core in DQx_5d], [core.shape for core in DQx.tt_cores]"
      ],
      "execution_count": 349,
      "outputs": [
        {
          "output_type": "execute_result",
          "data": {
            "text/plain": [
              "([(1, 1, 4, 2, 18), (2, 18, 4, 1, 1)], [(1, 4, 36), (36, 4, 1)])"
            ]
          },
          "metadata": {
            "tags": []
          },
          "execution_count": 349
        }
      ]
    },
    {
      "cell_type": "code",
      "metadata": {
        "colab": {
          "base_uri": "https://localhost:8080/"
        },
        "id": "Au75MlASBr30",
        "outputId": "9513629d-7c01-46e1-c2c0-46c84748096a"
      },
      "source": [
        "ttax.full(Qx).shape"
      ],
      "execution_count": 350,
      "outputs": [
        {
          "output_type": "execute_result",
          "data": {
            "text/plain": [
              "(4, 4)"
            ]
          },
          "metadata": {
            "tags": []
          },
          "execution_count": 350
        }
      ]
    },
    {
      "cell_type": "code",
      "metadata": {
        "colab": {
          "base_uri": "https://localhost:8080/"
        },
        "id": "fDF97n5GB5Hh",
        "outputId": "b46baee5-d4cc-40c3-96e4-0e38a1685abf"
      },
      "source": [
        "ttax.full(DQx).shape"
      ],
      "execution_count": 351,
      "outputs": [
        {
          "output_type": "execute_result",
          "data": {
            "text/plain": [
              "(4, 4)"
            ]
          },
          "metadata": {
            "tags": []
          },
          "execution_count": 351
        }
      ]
    },
    {
      "cell_type": "markdown",
      "metadata": {
        "id": "1s6XO2sMW-9x"
      },
      "source": [
        "### проверим на двух матрицах\n",
        "\n",
        "матрица $~2^{12} \\times 2^{12}$"
      ]
    },
    {
      "cell_type": "code",
      "metadata": {
        "id": "6SGUo_Z5VMRc"
      },
      "source": [
        "n = 64\n",
        "shape = (n, n, n, n)\n",
        "\n",
        "rkq, rkd, rkx = 35, 10, 40\n",
        "Q1, D1, X1 = generate_example(shape, rkq = rkq, rkd = rkd, rkx = rkx)\n",
        "# преобразовывать такое в матрицу уже не получится"
      ],
      "execution_count": 352,
      "outputs": []
    },
    {
      "cell_type": "markdown",
      "metadata": {
        "id": "djXhdsu6dnRA"
      },
      "source": [
        "матрица $~2^{20} \\times 2^{20}$"
      ]
    },
    {
      "cell_type": "code",
      "metadata": {
        "id": "1C-fb9wadVw_"
      },
      "source": [
        "n = 2**10\n",
        "shape = (n, n, n, n)\n",
        "\n",
        "Q2, D2, X2 = generate_example(shape, rkq = rkq, rkd = rkd, rkx = rkx)"
      ],
      "execution_count": 353,
      "outputs": []
    },
    {
      "cell_type": "code",
      "metadata": {
        "id": "IenbR5oJd0cY"
      },
      "source": [
        ""
      ],
      "execution_count": 353,
      "outputs": []
    },
    {
      "cell_type": "markdown",
      "metadata": {
        "id": "dPM-kBIFemmF"
      },
      "source": [
        "алгосы"
      ]
    },
    {
      "cell_type": "code",
      "metadata": {
        "id": "Apna1L7l_341"
      },
      "source": [
        "Qo1 = ttax_make_operator(Q1)\n",
        "Do1 = ttax_make_operator(D1)\n",
        "\n",
        "Qo2 = ttax_make_operator(Q2)\n",
        "Do2 = ttax_make_operator(D2)"
      ],
      "execution_count": 362,
      "outputs": []
    },
    {
      "cell_type": "code",
      "metadata": {
        "colab": {
          "base_uri": "https://localhost:8080/"
        },
        "id": "Zne0DbodfrvU",
        "outputId": "cf7d04a0-66e6-44d7-ed79-61033a2458e4"
      },
      "source": [
        "objective_2(Qo, Do, X)"
      ],
      "execution_count": 363,
      "outputs": [
        {
          "output_type": "execute_result",
          "data": {
            "text/plain": [
              "DeviceArray(85903.02, dtype=float32)"
            ]
          },
          "metadata": {
            "tags": []
          },
          "execution_count": 363
        }
      ]
    },
    {
      "cell_type": "code",
      "metadata": {
        "colab": {
          "base_uri": "https://localhost:8080/"
        },
        "id": "VbdbjErzh3l5",
        "outputId": "d9bdc56c-baf1-4a68-9b4d-aa60bf7e8e12"
      },
      "source": [
        "objective_1(Qo, Do, X)"
      ],
      "execution_count": 364,
      "outputs": [
        {
          "output_type": "execute_result",
          "data": {
            "text/plain": [
              "DeviceArray(80900.11, dtype=float32)"
            ]
          },
          "metadata": {
            "tags": []
          },
          "execution_count": 364
        }
      ]
    },
    {
      "cell_type": "code",
      "metadata": {
        "colab": {
          "base_uri": "https://localhost:8080/"
        },
        "id": "NxkgXPitFezf",
        "outputId": "fc214e76-fa59-46bd-e0b4-6f3c3d98e3a9"
      },
      "source": [
        "objective_3(Qo, Do, X)"
      ],
      "execution_count": 365,
      "outputs": [
        {
          "output_type": "execute_result",
          "data": {
            "text/plain": [
              "DeviceArray(172864.81, dtype=float32)"
            ]
          },
          "metadata": {
            "tags": []
          },
          "execution_count": 365
        }
      ]
    },
    {
      "cell_type": "code",
      "metadata": {
        "id": "DX0_esFGiCPE"
      },
      "source": [
        "xs = objective_2(Qo2, Do2, X2)"
      ],
      "execution_count": 358,
      "outputs": []
    },
    {
      "cell_type": "code",
      "metadata": {
        "colab": {
          "base_uri": "https://localhost:8080/"
        },
        "id": "PV3VSz5YiG4z",
        "outputId": "97eff179-a2ec-48f1-eb82-a7124b5132b4"
      },
      "source": [
        "objective_1(Qo2, Do2, X2)"
      ],
      "execution_count": 80,
      "outputs": [
        {
          "output_type": "execute_result",
          "data": {
            "text/plain": [
              "DeviceArray(1.1699865e+19, dtype=float32)"
            ]
          },
          "metadata": {
            "tags": []
          },
          "execution_count": 80
        }
      ]
    },
    {
      "cell_type": "code",
      "metadata": {
        "colab": {
          "base_uri": "https://localhost:8080/"
        },
        "id": "vKMnlKT-MADB",
        "outputId": "33a36823-088d-4bc7-fd37-64639c3900ac"
      },
      "source": [
        "%timeit c = objective_1(Qo1, Do1, X1)\n",
        "%timeit c = objective_1(Qo2, Do2, X2)"
      ],
      "execution_count": 258,
      "outputs": [
        {
          "output_type": "stream",
          "text": [
            "The slowest run took 37.99 times longer than the fastest. This could mean that an intermediate result is being cached.\n",
            "1 loop, best of 5: 7.96 ms per loop\n",
            "1 loop, best of 5: 2.5 s per loop\n"
          ],
          "name": "stdout"
        }
      ]
    },
    {
      "cell_type": "code",
      "metadata": {
        "colab": {
          "base_uri": "https://localhost:8080/"
        },
        "id": "ZYOYoDkkiPKh",
        "outputId": "f04ea11b-7c43-49b8-81e3-89c72568d23a"
      },
      "source": [
        "%timeit c = objective_2(Qo1, Do1, X1)\n",
        "%timeit c = objective_2(Qo2, Do2, X2)"
      ],
      "execution_count": 259,
      "outputs": [
        {
          "output_type": "stream",
          "text": [
            "The slowest run took 61.37 times longer than the fastest. This could mean that an intermediate result is being cached.\n",
            "1 loop, best of 5: 5.14 ms per loop\n",
            "1 loop, best of 5: 824 ms per loop\n"
          ],
          "name": "stdout"
        }
      ]
    },
    {
      "cell_type": "markdown",
      "metadata": {
        "id": "ZTZc0Kh_fA_o"
      },
      "source": [
        "60ms на матрицу n = 4000 и 4s на n = 2^20"
      ]
    },
    {
      "cell_type": "code",
      "metadata": {
        "id": "XQ5b4nYvYVk3"
      },
      "source": [
        "\n",
        "# end of file\n",
        "#####################################################\n"
      ],
      "execution_count": null,
      "outputs": []
    },
    {
      "cell_type": "code",
      "metadata": {
        "id": "QCWfwG02Pwqu"
      },
      "source": [
        ""
      ],
      "execution_count": null,
      "outputs": []
    },
    {
      "cell_type": "code",
      "metadata": {
        "id": "04CLrN-GYbC2"
      },
      "source": [
        ""
      ],
      "execution_count": null,
      "outputs": []
    },
    {
      "cell_type": "code",
      "metadata": {
        "id": "mqB-1k3LRKyh"
      },
      "source": [
        ""
      ],
      "execution_count": null,
      "outputs": []
    },
    {
      "cell_type": "code",
      "metadata": {
        "id": "qW_AmFyzRd3w"
      },
      "source": [
        ""
      ],
      "execution_count": null,
      "outputs": []
    },
    {
      "cell_type": "code",
      "metadata": {
        "id": "B_ODYJwgReEL"
      },
      "source": [
        ""
      ],
      "execution_count": null,
      "outputs": []
    },
    {
      "cell_type": "code",
      "metadata": {
        "id": "cYlk26zmReMk"
      },
      "source": [
        "A = ttax.random.tensor(jaxkey, shape=(2, 2, 2, 2), tt_rank=2)\n",
        "Af = ttax.full(A)\n",
        "B = ttax.random.tensor(jaxkey, shape=(2, 2, 2, 2), tt_rank=2)\n",
        "Bf = ttax.full(B)"
      ],
      "execution_count": null,
      "outputs": []
    },
    {
      "cell_type": "code",
      "metadata": {
        "colab": {
          "base_uri": "https://localhost:8080/"
        },
        "id": "S69g_be-UHBK",
        "outputId": "b8afd52b-17a4-4c48-b0f1-1fb5be4bbb01"
      },
      "source": [
        "np.inner(Af, Bf).sum()"
      ],
      "execution_count": null,
      "outputs": [
        {
          "output_type": "execute_result",
          "data": {
            "text/plain": [
              "122.364174"
            ]
          },
          "metadata": {
            "tags": []
          },
          "execution_count": 17
        }
      ]
    },
    {
      "cell_type": "code",
      "metadata": {
        "colab": {
          "base_uri": "https://localhost:8080/"
        },
        "id": "6LkIlHwNUaKg",
        "outputId": "d863b31f-9c62-4668-c47b-19d74c005199"
      },
      "source": [
        "ttax.flat_inner(ttax.orthogonalize(A), ttax.orthogonalize(B))"
      ],
      "execution_count": null,
      "outputs": [
        {
          "output_type": "execute_result",
          "data": {
            "text/plain": [
              "DeviceArray(97.19842, dtype=float32)"
            ]
          },
          "metadata": {
            "tags": []
          },
          "execution_count": 18
        }
      ]
    },
    {
      "cell_type": "code",
      "metadata": {
        "id": "IZ1p212yUgpB"
      },
      "source": [
        "A = np.array([\n",
        "              [1, 2],\n",
        "              [3, 4]\n",
        "])\n",
        "x = np.array([-1, 2])\n",
        "B = np.array([\n",
        "              [2, 4],\n",
        "              [10, 1]\n",
        "])"
      ],
      "execution_count": 122,
      "outputs": []
    },
    {
      "cell_type": "code",
      "metadata": {
        "colab": {
          "base_uri": "https://localhost:8080/"
        },
        "id": "IZdoyhh8WlQJ",
        "outputId": "dec28dab-9110-4b1c-c333-4eeb85461c7e"
      },
      "source": [
        "np.einsum(\"ij,j,i->\", A, x, x)"
      ],
      "execution_count": 129,
      "outputs": [
        {
          "output_type": "execute_result",
          "data": {
            "text/plain": [
              "7"
            ]
          },
          "metadata": {
            "tags": []
          },
          "execution_count": 129
        }
      ]
    },
    {
      "cell_type": "code",
      "metadata": {
        "id": "JtOG-9IRXWb_"
      },
      "source": [
        "A = random.rand(2, 2, 2)\n",
        "B = random.rand(2, 2, 2)"
      ],
      "execution_count": 35,
      "outputs": []
    },
    {
      "cell_type": "code",
      "metadata": {
        "id": "thekjLQTXs0A"
      },
      "source": [
        ""
      ],
      "execution_count": 259,
      "outputs": []
    },
    {
      "cell_type": "code",
      "metadata": {
        "id": "E30wXQD3XQrb"
      },
      "source": [
        ""
      ],
      "execution_count": 259,
      "outputs": []
    },
    {
      "cell_type": "code",
      "metadata": {
        "id": "xX1bKqUyXsYR"
      },
      "source": [
        ""
      ],
      "execution_count": 259,
      "outputs": []
    },
    {
      "cell_type": "code",
      "metadata": {
        "id": "Bx1cwHwfXohu"
      },
      "source": [
        ""
      ],
      "execution_count": 259,
      "outputs": []
    },
    {
      "cell_type": "code",
      "metadata": {
        "colab": {
          "base_uri": "https://localhost:8080/"
        },
        "id": "-TWYSSm2Xa43",
        "outputId": "c60a5d89-7adf-4c34-f465-cf09acd95d19"
      },
      "source": [
        "jnp.inner(A @ x, x)"
      ],
      "execution_count": 260,
      "outputs": [
        {
          "output_type": "execute_result",
          "data": {
            "text/plain": [
              "DeviceArray(7, dtype=int32)"
            ]
          },
          "metadata": {
            "tags": []
          },
          "execution_count": 260
        }
      ]
    },
    {
      "cell_type": "code",
      "metadata": {
        "colab": {
          "base_uri": "https://localhost:8080/"
        },
        "id": "YFNhuH5cbEDg",
        "outputId": "5d6fdd4e-f016-4205-ab6c-bbdcaade6e4f"
      },
      "source": [
        "# hmmmm\n",
        "jnp.einsum(\"ij,ij->\", A, B)"
      ],
      "execution_count": 261,
      "outputs": [
        {
          "output_type": "execute_result",
          "data": {
            "text/plain": [
              "DeviceArray(44, dtype=int32)"
            ]
          },
          "metadata": {
            "tags": []
          },
          "execution_count": 261
        }
      ]
    },
    {
      "cell_type": "code",
      "metadata": {
        "id": "EE_DUNU5bNU_"
      },
      "source": [
        ""
      ],
      "execution_count": null,
      "outputs": []
    }
  ]
}