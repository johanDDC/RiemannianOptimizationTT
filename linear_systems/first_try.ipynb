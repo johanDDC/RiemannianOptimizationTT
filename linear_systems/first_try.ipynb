{
  "nbformat": 4,
  "nbformat_minor": 0,
  "metadata": {
    "colab": {
      "name": "last_2.ipynb",
      "provenance": [],
      "collapsed_sections": [],
      "toc_visible": true
    },
    "kernelspec": {
      "name": "python3",
      "display_name": "Python 3"
    },
    "language_info": {
      "name": "python"
    }
  },
  "cells": [
    {
      "cell_type": "code",
      "metadata": {
        "id": "nEpH4Av9mM60"
      },
      "source": [
        "!pip install ttax==0.0.2\n",
        "!pip install ttpy"
      ],
      "execution_count": null,
      "outputs": []
    },
    {
      "cell_type": "code",
      "metadata": {
        "id": "lUWjf3qlOvo-"
      },
      "source": [
        "import jax\n",
        "import tt\n",
        "import jax.numpy as jnp\n",
        "from numpy import random\n",
        "import numpy as np\n",
        "import matplotlib.pyplot as plt\n",
        "import ttax\n",
        "%matplotlib inline"
      ],
      "execution_count": 2,
      "outputs": []
    },
    {
      "cell_type": "code",
      "metadata": {
        "id": "qmLfcUMJl_Sm"
      },
      "source": [
        ""
      ],
      "execution_count": 2,
      "outputs": []
    },
    {
      "cell_type": "code",
      "metadata": {
        "id": "5KNRxWQke51L",
        "colab": {
          "base_uri": "https://localhost:8080/"
        },
        "outputId": "70697ede-97eb-4ba6-8015-add1cc107a3e"
      },
      "source": [
        "seed = 42\n",
        "jaxkey = jax.random.PRNGKey(seed)"
      ],
      "execution_count": 3,
      "outputs": [
        {
          "output_type": "stream",
          "text": [
            "WARNING:absl:No GPU/TPU found, falling back to CPU. (Set TF_CPP_MIN_LOG_LEVEL=0 and rerun for more info.)\n"
          ],
          "name": "stderr"
        }
      ]
    },
    {
      "cell_type": "code",
      "metadata": {
        "id": "RYubIjsHPGDs"
      },
      "source": [
        "def orthoproject(x, v):\n",
        "  \"\"\"\n",
        "  returns orthoprojection of x onto span{v}\n",
        "  \"\"\"\n",
        "  return v - jnp.inner(x, v) * x\n",
        "\n",
        "def retract(v, x):\n",
        "  \"\"\"\n",
        "  returns retraction R_x(v) = (x + v) / |x + v|\n",
        "  \"\"\"\n",
        "  vx = v + x\n",
        "  return vx / jnp.linalg.norm(vx, ord=2)\n",
        "\n",
        "def armijo_backtracking(f, dfx, x, alpha=1, beta=1e-4, tau=0.5):\n",
        "  \"\"\"\n",
        "  line-search algorithm. The notation is taken from \n",
        "    https://www.numerical.rl.ac.uk/people/nimg/oumsc/lectures/uepart2.2.pdf\n",
        "  \"\"\"\n",
        "\n",
        "  \"\"\"\n",
        "    not working (:\n",
        "  \"\"\"\n",
        "\n",
        "  while f(x - alpha*dfx) - f(x) <= alpha*beta*jnp.linalg.norm(dfx)**2 :\n",
        "    alpha = alpha * tau\n",
        "  return alpha\n",
        "\n",
        "def armijo_backtracking_2(init, grad, mul, beta, func, x):\n",
        "    \"\"\"\n",
        "    using this one\n",
        "    \"\"\"\n",
        "    alpha = init\n",
        "    i = 0\n",
        "    iters = 100\n",
        "    while func(x) < func(retract(x, -alpha * grad)) + mul*alpha*jnp.linalg.norm(grad)**2 and i < iters:\n",
        "        alpha *= beta\n",
        "        i += 1\n",
        "    return alpha"
      ],
      "execution_count": 4,
      "outputs": []
    },
    {
      "cell_type": "code",
      "metadata": {
        "id": "fnhTMgPwcAyE"
      },
      "source": [
        "def make_objective(A, b):\n",
        "  \"\"\"\n",
        "  returns a callable functional of x\n",
        "    0.5 * x*A*x - x*b \n",
        "  \"\"\"\n",
        "  return lambda x: jnp.squeeze((0.5 * jnp.inner(x, A @ x) - jnp.inner(x, b)))\n",
        "\n",
        "def make_residual(A, b):\n",
        "  \"\"\"\n",
        "   returns a callable functional of x\n",
        "    |A*x - b| \n",
        "  \"\"\"\n",
        "  return lambda x: jnp.linalg.norm(A @ x - b, ord=2)"
      ],
      "execution_count": 5,
      "outputs": []
    },
    {
      "cell_type": "code",
      "metadata": {
        "id": "Rj5xFPJBXEEu"
      },
      "source": [
        "def solve(A, b, iters=500, tol=1e-2, debug=False):\n",
        "  \"\"\"\n",
        "  solves system Ax = b with a GD method using Riemann optimization technique\n",
        "  and returns n*1 vector\n",
        "  :params:\n",
        "    A       : n*n matrix\n",
        "    b       : n*1 vector\n",
        "    iters   : max number of descent iterations\n",
        "    tol     : desired accuracy\n",
        "  \"\"\"\n",
        "  n = A.shape[0]\n",
        "\n",
        "  residual = make_residual(A, b)\n",
        "  objective = make_objective(A, b)\n",
        "\n",
        "  i = 0\n",
        "  x = jax.random.uniform(jaxkey, (n,))\n",
        "\n",
        "  residuals = []\n",
        "  relresiduals = []\n",
        "  energies = []\n",
        "\n",
        "  while residual(x) > tol and i < iters:\n",
        "    grad_at = jax.grad(objective)\n",
        "    riemann_grad = orthoproject(x, grad_at(x))\n",
        "    alpha = armijo_backtracking_2(1, riemann_grad, 1e-5, 0.8, objective, x)\n",
        "    # alpha = armijo_backtracking(objective, riemann_grad, x)\n",
        "    x = retract(x, -alpha*riemann_grad)\n",
        "\n",
        "    residuals.append( residual(x) ) \n",
        "    relresiduals.append( residual(x) / jnp.linalg.norm(A @ x, ord=2) )\n",
        "    energies.append( objective(x) )\n",
        "\n",
        "    if i % 10 == 0 and debug:\n",
        "      print(f\"{i} th iteration: {residuals[-1]}\")\n",
        "\n",
        "    i += 1\n",
        "\n",
        "  return x, residuals"
      ],
      "execution_count": 52,
      "outputs": []
    },
    {
      "cell_type": "markdown",
      "metadata": {
        "id": "QIxFT5KzPvQj"
      },
      "source": [
        "попробуем на простом примере"
      ]
    },
    {
      "cell_type": "code",
      "metadata": {
        "id": "FswGHNK9f8fo",
        "colab": {
          "base_uri": "https://localhost:8080/"
        },
        "outputId": "49716950-1414-46c5-de40-0834df732c79"
      },
      "source": [
        "A = jnp.array([\n",
        "               [100, 2, 3, 4],\n",
        "               [2, 10, 1, 3],\n",
        "               [3, 1, 7, 2],\n",
        "               [4, 3, 2, 30]\n",
        "], dtype=jnp.float64)\n",
        "b = jnp.array([1, 2, 3, 4], dtype=jnp.float64)"
      ],
      "execution_count": 7,
      "outputs": [
        {
          "output_type": "stream",
          "text": [
            "/usr/local/lib/python3.7/dist-packages/jax/_src/numpy/lax_numpy.py:3026: UserWarning: Explicitly requested dtype <class 'jax._src.numpy.lax_numpy.float64'> requested in array is not available, and will be truncated to dtype float32. To enable more dtypes, set the jax_enable_x64 configuration option or the JAX_ENABLE_X64 shell environment variable. See https://github.com/google/jax#current-gotchas for more.\n",
            "  lax._check_user_dtype_supported(dtype, \"array\")\n"
          ],
          "name": "stderr"
        }
      ]
    },
    {
      "cell_type": "code",
      "metadata": {
        "id": "5zjuMs-qgGKy",
        "colab": {
          "base_uri": "https://localhost:8080/",
          "height": 345
        },
        "outputId": "bcd3d3c0-b98f-44a6-e2e7-c8792d7c9366"
      },
      "source": [
        "x, residuals = solve(A, b, iters=100, tol=1, debug=True)"
      ],
      "execution_count": 8,
      "outputs": [
        {
          "output_type": "stream",
          "text": [
            "0 th iteration: 55.86521530151367\n",
            "10 th iteration: 19.825815200805664\n",
            "20 th iteration: 18.64072608947754\n",
            "30 th iteration: 5.232542514801025\n",
            "40 th iteration: 4.291931629180908\n",
            "50 th iteration: 4.191511154174805\n",
            "60 th iteration: 4.167981147766113\n",
            "70 th iteration: 4.1635541915893555\n",
            "80 th iteration: 4.162425518035889\n",
            "90 th iteration: 4.16219425201416\n"
          ],
          "name": "stdout"
        },
        {
          "output_type": "error",
          "ename": "ValueError",
          "evalue": "ignored",
          "traceback": [
            "\u001b[0;31m---------------------------------------------------------------------------\u001b[0m",
            "\u001b[0;31mValueError\u001b[0m                                Traceback (most recent call last)",
            "\u001b[0;32m<ipython-input-8-189cb6342860>\u001b[0m in \u001b[0;36m<module>\u001b[0;34m()\u001b[0m\n\u001b[0;32m----> 1\u001b[0;31m \u001b[0mx\u001b[0m\u001b[0;34m,\u001b[0m \u001b[0mresiduals\u001b[0m \u001b[0;34m=\u001b[0m \u001b[0msolve\u001b[0m\u001b[0;34m(\u001b[0m\u001b[0mA\u001b[0m\u001b[0;34m,\u001b[0m \u001b[0mb\u001b[0m\u001b[0;34m,\u001b[0m \u001b[0miters\u001b[0m\u001b[0;34m=\u001b[0m\u001b[0;36m100\u001b[0m\u001b[0;34m,\u001b[0m \u001b[0mtol\u001b[0m\u001b[0;34m=\u001b[0m\u001b[0;36m1\u001b[0m\u001b[0;34m,\u001b[0m \u001b[0mdebug\u001b[0m\u001b[0;34m=\u001b[0m\u001b[0;32mTrue\u001b[0m\u001b[0;34m)\u001b[0m\u001b[0;34m\u001b[0m\u001b[0;34m\u001b[0m\u001b[0m\n\u001b[0m",
            "\u001b[0;31mValueError\u001b[0m: too many values to unpack (expected 2)"
          ]
        }
      ]
    },
    {
      "cell_type": "markdown",
      "metadata": {
        "id": "K1eG8mzU5_-Y"
      },
      "source": [
        "беда с длиной шага (вероятно, нужно менять armijo backtracking)"
      ]
    },
    {
      "cell_type": "code",
      "metadata": {
        "colab": {
          "base_uri": "https://localhost:8080/"
        },
        "id": "LkObst8_gdTJ",
        "outputId": "7ddced7e-173f-4b09-c85b-ea6d64a37f13"
      },
      "source": [
        "x"
      ],
      "execution_count": 9,
      "outputs": [
        {
          "output_type": "execute_result",
          "data": {
            "text/plain": [
              "DeviceArray([-0.02623977,  0.14906824,  0.9863243 ,  0.0652263 ], dtype=float32)"
            ]
          },
          "metadata": {
            "tags": []
          },
          "execution_count": 9
        }
      ]
    },
    {
      "cell_type": "markdown",
      "metadata": {
        "id": "Z6SXoJMEgeuB"
      },
      "source": [
        "хм"
      ]
    },
    {
      "cell_type": "code",
      "metadata": {
        "colab": {
          "base_uri": "https://localhost:8080/",
          "height": 283
        },
        "id": "T5-jS48fgXfG",
        "outputId": "3432a098-9775-405b-d36f-7c2cdff346a0"
      },
      "source": [
        "plt.plot(residuals)"
      ],
      "execution_count": 10,
      "outputs": [
        {
          "output_type": "execute_result",
          "data": {
            "text/plain": [
              "[<matplotlib.lines.Line2D at 0x7f735fceb290>]"
            ]
          },
          "metadata": {
            "tags": []
          },
          "execution_count": 10
        },
        {
          "output_type": "display_data",
          "data": {
            "image/png": "[encoded data removed]",
            "text/plain": [
              "<Figure size 432x288 with 1 Axes>"
            ]
          },
          "metadata": {
            "tags": [],
            "needs_background": "light"
          }
        }
      ]
    },
    {
      "cell_type": "code",
      "metadata": {
        "id": "VO2w62Yig06V",
        "colab": {
          "base_uri": "https://localhost:8080/"
        },
        "outputId": "59c47b9a-74e7-4856-83af-7644503c3fd3"
      },
      "source": [
        "A @ x"
      ],
      "execution_count": 11,
      "outputs": [
        {
          "output_type": "execute_result",
          "data": {
            "text/plain": [
              "DeviceArray([0.8940379, 2.620206 , 7.1050715, 4.271683 ], dtype=float32)"
            ]
          },
          "metadata": {
            "tags": []
          },
          "execution_count": 11
        }
      ]
    },
    {
      "cell_type": "code",
      "metadata": {
        "colab": {
          "base_uri": "https://localhost:8080/"
        },
        "id": "ZjnMm1XBeNkV",
        "outputId": "f39e5036-1964-40a7-c662-245c33abb369"
      },
      "source": [
        "b"
      ],
      "execution_count": 12,
      "outputs": [
        {
          "output_type": "execute_result",
          "data": {
            "text/plain": [
              "DeviceArray([1., 2., 3., 4.], dtype=float32)"
            ]
          },
          "metadata": {
            "tags": []
          },
          "execution_count": 12
        }
      ]
    },
    {
      "cell_type": "markdown",
      "metadata": {
        "id": "naik839xs65R"
      },
      "source": [
        "точность получилась откровенно говоря не очень. Попробуем генерировать системы с заведомо низкоранговым решением, и решать их"
      ]
    },
    {
      "cell_type": "code",
      "metadata": {
        "id": "52vuRVeU7Ie4"
      },
      "source": [
        "def lowrank_approximation(x, rk):\n",
        "  u, s, v = np.linalg.svd(x)\n",
        "  s[rk:] = 0\n",
        "  return u @ np.diag(s) @ v\n",
        "\n",
        "def system_with_lowrank_solution(n, rk):\n",
        "  ns = int(jnp.round(jnp.sqrt(n)))\n",
        "\n",
        "  truex = lowrank_approximation(random.random((ns, ns)), rk)\n",
        "  \n",
        "  modes = (ns, ns, ns, ns)\n",
        "  Acores = ttax.random.tensor(jaxkey, modes, tt_rank=rk)\n",
        "\n",
        "  Amatrix = ttax.full(Acores).reshape((n, n))\n",
        "\n",
        "  Amatrix = Amatrix @ Amatrix.T\n",
        "  \n",
        "  truex = truex.reshape((n, 1))\n",
        "  b = Amatrix @ truex\n",
        "  return Amatrix, b, truex"
      ],
      "execution_count": 15,
      "outputs": []
    },
    {
      "cell_type": "markdown",
      "metadata": {
        "id": "yxJymCwIErhG"
      },
      "source": [
        "проверим, что работает генерация низкоранговых систем"
      ]
    },
    {
      "cell_type": "code",
      "metadata": {
        "id": "ohXB8d1a61ak"
      },
      "source": [
        "n, rk = 4, 2\n",
        "A, b, truex = system_with_lowrank_solution(n**2, rk)\n",
        "assert np.linalg.matrix_rank(truex.reshape((n, n))) == rk\n",
        "\n",
        "n, rk = 16, 2\n",
        "A, b, truex = system_with_lowrank_solution(n**2, rk)\n",
        "assert np.linalg.matrix_rank(truex.reshape((n, n))) == rk\n",
        "\n",
        "n, rk = 32, 8\n",
        "A, b, truex = system_with_lowrank_solution(n**2, rk)\n",
        "assert np.linalg.matrix_rank(truex.reshape((n, n))) == rk"
      ],
      "execution_count": 16,
      "outputs": []
    },
    {
      "cell_type": "markdown",
      "metadata": {
        "id": "LAd1eV90FTPb"
      },
      "source": [
        "Ну все, теперь Риман точно должен работать"
      ]
    },
    {
      "cell_type": "code",
      "metadata": {
        "id": "FIMCSj4qFX94"
      },
      "source": [
        "n, rk = 2, 3\n",
        "A, b, truex = system_with_lowrank_solution(n**2, rk)"
      ],
      "execution_count": 41,
      "outputs": []
    },
    {
      "cell_type": "code",
      "metadata": {
        "colab": {
          "base_uri": "https://localhost:8080/"
        },
        "id": "34d4vfn1cNQq",
        "outputId": "63236e15-f2d6-4523-f7c2-2cb29283e43a"
      },
      "source": [
        "np.array(A)"
      ],
      "execution_count": 42,
      "outputs": [
        {
          "output_type": "execute_result",
          "data": {
            "text/plain": [
              "array([[ 130.50633 ,  -62.52637 ,   84.75357 , -123.037674],\n",
              "       [ -62.52637 ,  133.1512  ,  -86.35906 ,  -47.43609 ],\n",
              "       [  84.75357 ,  -86.35906 ,   78.172424,  -35.49914 ],\n",
              "       [-123.037674,  -47.43609 ,  -35.49914 ,  228.35161 ]],\n",
              "      dtype=float32)"
            ]
          },
          "metadata": {
            "tags": []
          },
          "execution_count": 42
        }
      ]
    },
    {
      "cell_type": "code",
      "metadata": {
        "colab": {
          "base_uri": "https://localhost:8080/"
        },
        "id": "Wpk-3AuV7yUy",
        "outputId": "e51fbc4c-ee6b-437b-89f7-814295e93a7c"
      },
      "source": [
        "x, residuals, rels, energies = solve(A, b.reshape((n**2)), iters=200, tol=1e-2, debug=True)"
      ],
      "execution_count": 43,
      "outputs": [
        {
          "output_type": "stream",
          "text": [
            "0 th iteration: 133.47483825683594\n",
            "10 th iteration: 32.79779815673828\n",
            "20 th iteration: 10.398239135742188\n",
            "30 th iteration: 3.8323957920074463\n",
            "40 th iteration: 1.4413284063339233\n",
            "50 th iteration: 0.5595380067825317\n",
            "60 th iteration: 0.4882853031158447\n",
            "70 th iteration: 0.42625078558921814\n",
            "80 th iteration: 0.37215927243232727\n",
            "90 th iteration: 0.32495245337486267\n",
            "100 th iteration: 0.28387516736984253\n",
            "110 th iteration: 0.1704103648662567\n",
            "120 th iteration: 0.14858731627464294\n",
            "130 th iteration: 0.1893022656440735\n",
            "140 th iteration: 0.11305707693099976\n",
            "150 th iteration: 0.09861176460981369\n",
            "160 th iteration: 0.08601967245340347\n",
            "170 th iteration: 0.07504349201917648\n",
            "180 th iteration: 0.09640561789274216\n",
            "190 th iteration: 0.026147790253162384\n"
          ],
          "name": "stdout"
        }
      ]
    },
    {
      "cell_type": "code",
      "metadata": {
        "colab": {
          "base_uri": "https://localhost:8080/",
          "height": 1000
        },
        "id": "7r7e2H3CGB8p",
        "outputId": "21c31296-182b-493e-cb69-9bbf988426b7"
      },
      "source": [
        "plt.figure(figsize=(11, 11))\n",
        "\n",
        "\n",
        "ax1 = plt.subplot(311)\n",
        "plt.semilogy()\n",
        "plt.plot(residuals)\n",
        "plt.setp(ax1.get_xticklabels(), fontsize=6)\n",
        "\n",
        "ax2 = plt.subplot(312, sharex=ax1)\n",
        "plt.semilogy()\n",
        "\n",
        "plt.plot(rels)\n",
        "# make these tick labels invisible\n",
        "plt.setp(ax2.get_xticklabels(), visible=False)\n",
        "\n",
        "ax3 = plt.subplot(313, sharex=ax2)\n",
        "plt.semilogy()\n",
        "\n",
        "plt.plot([abs(x) for x in energies][20:])\n",
        "# make these tick labels invisible\n",
        "plt.setp(ax3.get_xticklabels(), visible=False)"
      ],
      "execution_count": 44,
      "outputs": [
        {
          "output_type": "execute_result",
          "data": {
            "text/plain": [
              "[None,\n",
              " None,\n",
              " None,\n",
              " None,\n",
              " None,\n",
              " None,\n",
              " None,\n",
              " None,\n",
              " None,\n",
              " None,\n",
              " None,\n",
              " None,\n",
              " None,\n",
              " None,\n",
              " None,\n",
              " None,\n",
              " None,\n",
              " None,\n",
              " None,\n",
              " None,\n",
              " None,\n",
              " None]"
            ]
          },
          "metadata": {
            "tags": []
          },
          "execution_count": 44
        },
        {
          "output_type": "display_data",
          "data": {
            "image/png": "[encoded data removed]",
            "text/plain": [
              "<Figure size 792x792 with 3 Axes>"
            ]
          },
          "metadata": {
            "tags": [],
            "needs_background": "light"
          }
        }
      ]
    },
    {
      "cell_type": "markdown",
      "metadata": {
        "id": "gdYHIEMOGGLV"
      },
      "source": [
        "Действительно, работает, однако важно следить за длиной шага (снова привет armijo backtracking) (TODO)\n",
        "Проверим на примере посложнее"
      ]
    },
    {
      "cell_type": "code",
      "metadata": {
        "id": "ty0aCv9XGv_G"
      },
      "source": [
        "n, rk = 32, 2\n",
        "A, b, truex = system_with_lowrank_solution(n**2, rk)"
      ],
      "execution_count": 50,
      "outputs": []
    },
    {
      "cell_type": "code",
      "metadata": {
        "colab": {
          "base_uri": "https://localhost:8080/",
          "height": 523
        },
        "id": "Lx6--AhHG3SD",
        "outputId": "620ca781-c854-4aba-fa1c-833587bab078"
      },
      "source": [
        "x, residuals = solve(A, b.reshape((n**2)), iters=200, tol=1e-2, debug=True)"
      ],
      "execution_count": 51,
      "outputs": [
        {
          "output_type": "stream",
          "text": [
            "0 th iteration: 1633419.25\n",
            "10 th iteration: 277352.6875\n",
            "20 th iteration: 93104.8828125\n",
            "30 th iteration: 33907.578125\n",
            "40 th iteration: 12439.8798828125\n",
            "50 th iteration: 4564.50634765625\n",
            "60 th iteration: 222.71009826660156\n",
            "70 th iteration: 221.80418395996094\n",
            "80 th iteration: 451.85491943359375\n",
            "90 th iteration: 152.3198699951172\n",
            "100 th iteration: 1496.3240966796875\n",
            "110 th iteration: 156.1248016357422\n",
            "120 th iteration: 148.73719787597656\n",
            "130 th iteration: 457.2685852050781\n",
            "140 th iteration: 554.1596069335938\n",
            "150 th iteration: 367.6994934082031\n",
            "160 th iteration: 459.0318603515625\n",
            "170 th iteration: 93.38673400878906\n",
            "180 th iteration: 672.6717529296875\n",
            "190 th iteration: 727.6612548828125\n"
          ],
          "name": "stdout"
        },
        {
          "output_type": "error",
          "ename": "ValueError",
          "evalue": "ignored",
          "traceback": [
            "\u001b[0;31m---------------------------------------------------------------------------\u001b[0m",
            "\u001b[0;31mValueError\u001b[0m                                Traceback (most recent call last)",
            "\u001b[0;32m<ipython-input-51-1396772d32c3>\u001b[0m in \u001b[0;36m<module>\u001b[0;34m()\u001b[0m\n\u001b[0;32m----> 1\u001b[0;31m \u001b[0mx\u001b[0m\u001b[0;34m,\u001b[0m \u001b[0mresiduals\u001b[0m \u001b[0;34m=\u001b[0m \u001b[0msolve\u001b[0m\u001b[0;34m(\u001b[0m\u001b[0mA\u001b[0m\u001b[0;34m,\u001b[0m \u001b[0mb\u001b[0m\u001b[0;34m.\u001b[0m\u001b[0mreshape\u001b[0m\u001b[0;34m(\u001b[0m\u001b[0;34m(\u001b[0m\u001b[0mn\u001b[0m\u001b[0;34m**\u001b[0m\u001b[0;36m2\u001b[0m\u001b[0;34m)\u001b[0m\u001b[0;34m)\u001b[0m\u001b[0;34m,\u001b[0m \u001b[0miters\u001b[0m\u001b[0;34m=\u001b[0m\u001b[0;36m200\u001b[0m\u001b[0;34m,\u001b[0m \u001b[0mtol\u001b[0m\u001b[0;34m=\u001b[0m\u001b[0;36m1e-2\u001b[0m\u001b[0;34m,\u001b[0m \u001b[0mdebug\u001b[0m\u001b[0;34m=\u001b[0m\u001b[0;32mTrue\u001b[0m\u001b[0;34m)\u001b[0m\u001b[0;34m\u001b[0m\u001b[0;34m\u001b[0m\u001b[0m\n\u001b[0m",
            "\u001b[0;31mValueError\u001b[0m: too many values to unpack (expected 2)"
          ]
        }
      ]
    },
    {
      "cell_type": "code",
      "metadata": {
        "colab": {
          "base_uri": "https://localhost:8080/",
          "height": 297
        },
        "id": "pxYWp3jaHs0W",
        "outputId": "4f2893ab-cef6-4fd2-e302-49d3298b9b5d"
      },
      "source": [
        "plt.xlabel(\"i\")\n",
        "plt.ylabel(\"residual\")\n",
        "plt.semilogy()\n",
        "plt.plot(residuals)"
      ],
      "execution_count": 24,
      "outputs": [
        {
          "output_type": "execute_result",
          "data": {
            "text/plain": [
              "[<matplotlib.lines.Line2D at 0x7f6b9c778510>]"
            ]
          },
          "metadata": {
            "tags": []
          },
          "execution_count": 24
        },
        {
          "output_type": "display_data",
          "data": {
            "image/png": "[encoded data removed]",
            "text/plain": [
              "<Figure size 432x288 with 1 Axes>"
            ]
          },
          "metadata": {
            "tags": [],
            "needs_background": "light"
          }
        }
      ]
    },
    {
      "cell_type": "markdown",
      "metadata": {
        "id": "PM6p1d8Yh9mb"
      },
      "source": [
        "# Теперь с ttax"
      ]
    },
    {
      "cell_type": "markdown",
      "metadata": {
        "id": "VyUg8Ii_Iwcl"
      },
      "source": [
        "в прошлом пункте мы генерили систему, просто развертывая тензор в матрицу и умножая на вектор.\n",
        "Теперь хочется делать чуть умнее"
      ]
    },
    {
      "cell_type": "code",
      "metadata": {
        "id": "n5EBBox8h8No"
      },
      "source": [
        "def ttax_squeeze(A):\n",
        "  \"\"\"\n",
        "    converts a TT representation of A with 2n 3d factors into \n",
        "    a n-factor 4d representation convenient for TT-TT multiplication\n",
        "  \"\"\"\n",
        "  return [\n",
        "          jnp.einsum('abi,icd->abcd', A.tt_cores[i], A.tt_cores[i + 1],\n",
        "                        precision=jax.lax.Precision.HIGHEST)\n",
        "          for i in range(0, len(A.tt_cores), 2)\n",
        "  ]\n",
        "\n",
        "def ttax_matmul(operator_cores, vector_cores):\n",
        "  \"\"\"\n",
        "  ### этот einsum я подглядел у Ивана\n",
        "  \"\"\"\n",
        "  return ttax.base_class.TT([\n",
        "      jnp.einsum('abic,eig->aebcg', operator_cores[i], vector_cores.tt_cores[i], precision=jax.lax.Precision.HIGHEST).reshape((\n",
        "            operator_cores[i].shape[0] * vector_cores.tt_ranks[i], operator_cores[i].shape[1],\n",
        "            operator_cores[i].shape[3] * vector_cores.tt_ranks[i + 1]), order=\"F\",\n",
        "      )\n",
        "      for i in range(len(vector_cores.tt_cores))\n",
        "  ])"
      ],
      "execution_count": 53,
      "outputs": []
    },
    {
      "cell_type": "code",
      "metadata": {
        "id": "QCR9k8yMvTSh"
      },
      "source": [
        "def ttax_make_objective(A, b):\n",
        "  \"\"\"\n",
        "  returns a callable functional of x\n",
        "  where A is a generic callable operator on x' space\n",
        "    0.5 * x*A*x - x*b \n",
        "  \"\"\"\n",
        "  return lambda x: (0.5 * ttax.flat_inner(x, A(x)) - ttax.flat_inner(x, b))\n",
        "\n",
        "def ttax_norm(x):\n",
        "  \"\"\"\n",
        "   returns a norm of a tensor x \n",
        "    <x, x>^0.5 \n",
        "  \"\"\"\n",
        "  return jnp.sqrt(ttax.flat_inner(x, x))\n",
        "\n",
        "def ttax_make_residual(A, b):\n",
        "  \"\"\"\n",
        "   returns a callable functional of x\n",
        "   where A is a generic callable operator on x' space\n",
        "    |A*x - b| \n",
        "  \"\"\"\n",
        "  return lambda x: ttax_norm(ttax.orthogonalize(A(x) + (-1)*b))"
      ],
      "execution_count": 54,
      "outputs": []
    },
    {
      "cell_type": "code",
      "metadata": {
        "id": "skYB69j9wI_T"
      },
      "source": [
        "def ttax_retract(TT, v, r):\n",
        "  \"\"\"\n",
        "  returns retraction R(T, v) = T + v\n",
        "  while rounding result to the closest tensor of rank r\n",
        "  \"\"\"\n",
        "  return ttax.orthogonalize(ttax.round(TT + v, max_tt_rank=r))\n",
        "\n",
        "def ttax_armijo_backtracking(init, grad, mul, beta, func, x, rk):\n",
        "    \"\"\"\n",
        "    using this one\n",
        "    \"\"\"\n",
        "    alpha = init\n",
        "    while func(x) < func(ttax_retract(x, -alpha*grad, rk)) + mul*alpha*ttax_norm(grad)**2:\n",
        "        alpha *= beta\n",
        "    return alpha\n",
        "\n",
        "def transpose_operator(operator_cores):\n",
        "    cores = [jnp.einsum('aijb->ajib', operator_cores[i]) for i in range(len(operator_cores))]\n",
        "    return cores"
      ],
      "execution_count": 55,
      "outputs": []
    },
    {
      "cell_type": "code",
      "metadata": {
        "id": "q6si51gopzlL"
      },
      "source": [
        "def ttax_system_with_lowrank_solution(shape, rk):\n",
        "\n",
        "  x = ttax.random.tensor(jaxkey, shape, tt_rank=rk)\n",
        "  \n",
        "  operatorshape = shape + shape\n",
        "  for i in range(len(shape)):\n",
        "    operatorshape[2*i] = shape[i]\n",
        "    operatorshape[2*i + 1] = shape[i]\n",
        "  print(operatorshape)\n",
        "  \n",
        "  A3dcores = ttax.random.tensor(jaxkey, operatorshape)\n",
        "  A4dcores = ttax_squeeze(A3dcores)\n",
        "\n",
        "  A = lambda x: ttax_matmul(A4dcores, x)\n",
        "  At = lambda x: ttax_matmul(transpose_operator(A4dcores), x)\n",
        "  ATA = lambda x: At( A( x ) )\n",
        "\n",
        "  b = ATA( x )\n",
        "  return ATA, b, x"
      ],
      "execution_count": 61,
      "outputs": []
    },
    {
      "cell_type": "code",
      "metadata": {
        "id": "zmwxnMBLh8b8"
      },
      "source": [
        "def ttax_solve(A, b, x0, rk, iters=500, tol=1e-2, debug=False):\n",
        "  residual = ttax_make_residual(A, b)\n",
        "  objective = ttax_make_objective(A, b)\n",
        "\n",
        "  riemann_grad_at = ttax.autodiff.grad(objective)\n",
        "\n",
        "  x = ttax.orthogonalize(x0)\n",
        "\n",
        "  residuals = []\n",
        "\n",
        "  i = 0\n",
        "\n",
        "  while residual(x) > tol and i < iters:\n",
        "    riemann_grad = ttax.orthogonalize(riemann_grad_at(x))\n",
        "    alpha = ttax_armijo_backtracking(1, riemann_grad, 1e-4, 0.8, objective, x, rk)\n",
        "    \n",
        "    x = ttax_retract(x, (-alpha)*riemann_grad, rk)\n",
        "\n",
        "    residuals.append( residual(x) )   \n",
        "    if i % 10 == 0 and debug:\n",
        "      print(f\"{i} th iteration: {residuals[-1]}\")\n",
        "\n",
        "\n",
        "    i += 1\n",
        "\n",
        "  return x, residuals"
      ],
      "execution_count": 62,
      "outputs": []
    },
    {
      "cell_type": "code",
      "metadata": {
        "colab": {
          "base_uri": "https://localhost:8080/"
        },
        "id": "SloYl7Q1SrnD",
        "outputId": "7c03bf93-3cd4-4949-a621-240238d6bc5d"
      },
      "source": [
        "shape = [2, 2, 2]\n",
        "rk = 3\n",
        "A, b, truex = ttax_system_with_lowrank_solution(shape, rk)"
      ],
      "execution_count": 68,
      "outputs": [
        {
          "output_type": "stream",
          "text": [
            "[2, 2, 2, 2, 2, 2]\n"
          ],
          "name": "stdout"
        }
      ]
    },
    {
      "cell_type": "code",
      "metadata": {
        "id": "ueGR9B15rxD3"
      },
      "source": [
        ""
      ],
      "execution_count": 72,
      "outputs": []
    },
    {
      "cell_type": "code",
      "metadata": {
        "id": "cLtTIbS8Sq5H"
      },
      "source": [
        "x, residuals = ttax_solve(A, b, x0=b, rk=rk, iters=200, tol=1e-1, debug=True)"
      ],
      "execution_count": null,
      "outputs": []
    },
    {
      "cell_type": "code",
      "metadata": {
        "colab": {
          "base_uri": "https://localhost:8080/",
          "height": 283
        },
        "id": "TDcAI7k-Z6fE",
        "outputId": "34c2bdaf-897a-433f-9315-1cb6c19d8082"
      },
      "source": [
        "plt.semilogy()\n",
        "plt.plot(residuals)"
      ],
      "execution_count": 66,
      "outputs": [
        {
          "output_type": "execute_result",
          "data": {
            "text/plain": [
              "[<matplotlib.lines.Line2D at 0x7f9a0593fdd0>]"
            ]
          },
          "metadata": {
            "tags": []
          },
          "execution_count": 66
        },
        {
          "output_type": "display_data",
          "data": {
            "image/png": "[encoded data removed]",
            "text/plain": [
              "<Figure size 432x288 with 1 Axes>"
            ]
          },
          "metadata": {
            "tags": [],
            "needs_background": "light"
          }
        }
      ]
    },
    {
      "cell_type": "markdown",
      "metadata": {
        "id": "v5-9hMUjOnPu"
      },
      "source": [
        "Попробуем на рандомном примере. Ожидаем, что ничего не получится"
      ]
    },
    {
      "cell_type": "code",
      "metadata": {
        "id": "gDcWtUcbh8mx"
      },
      "source": [
        "rank = 2\n",
        "\n",
        "modes_A = [rank] * 8\n",
        "modes_v = [rank] * 4\n",
        "\n",
        "A = ttax.random.tensor(jaxkey, modes_A)\n",
        "A = ttax_squeeze(A)\n",
        "A_at = lambda x: ttax_matmul(A, x)\n",
        "\n",
        "t = ttax.random.tensor(jaxkey, modes_v, tt_rank=rank)"
      ],
      "execution_count": 30,
      "outputs": []
    },
    {
      "cell_type": "code",
      "metadata": {
        "colab": {
          "base_uri": "https://localhost:8080/"
        },
        "id": "ldHmtmK3SdVM",
        "outputId": "062b244e-33fc-4816-8801-375dc686304c"
      },
      "source": [
        "x, residuals = ttax_solve(A_at, t, t, rank, iters=10, tol=1e-1, debug=True)"
      ],
      "execution_count": 31,
      "outputs": [
        {
          "output_type": "stream",
          "text": [
            "0 th iteration: 132043.15625\n"
          ],
          "name": "stdout"
        }
      ]
    },
    {
      "cell_type": "code",
      "metadata": {
        "colab": {
          "base_uri": "https://localhost:8080/",
          "height": 279
        },
        "id": "SoKAeQnlSb7H",
        "outputId": "4b4ed87e-7d71-480f-9e6a-253741eb3690"
      },
      "source": [
        "plt.xlabel(\"i\")\n",
        "plt.ylabel(\"residual\")\n",
        "plt.semilogy()\n",
        "plt.show(residuals)"
      ],
      "execution_count": 32,
      "outputs": [
        {
          "output_type": "display_data",
          "data": {
            "image/png": "[encoded data removed]",
            "text/plain": [
              "<Figure size 432x288 with 1 Axes>"
            ]
          },
          "metadata": {
            "tags": [],
            "needs_background": "light"
          }
        }
      ]
    },
    {
      "cell_type": "code",
      "metadata": {
        "colab": {
          "base_uri": "https://localhost:8080/"
        },
        "id": "xOhdhSjHO3DJ",
        "outputId": "58f5231e-d10c-4b75-dae7-068e27773c87"
      },
      "source": [
        "print(residuals)"
      ],
      "execution_count": 34,
      "outputs": [
        {
          "output_type": "stream",
          "text": [
            "[DeviceArray(132043.16, dtype=float32), DeviceArray(4714738., dtype=float32), DeviceArray(1.2732396e+09, dtype=float32), DeviceArray(5.848451e+10, dtype=float32), DeviceArray(1.4089597e+13, dtype=float32), DeviceArray(6.935541e+14, dtype=float32), DeviceArray(1.5795935e+17, dtype=float32), DeviceArray(8.089952e+18, dtype=float32), DeviceArray(inf, dtype=float32), DeviceArray(nan, dtype=float32)]\n"
          ],
          "name": "stdout"
        }
      ]
    },
    {
      "cell_type": "markdown",
      "metadata": {
        "id": "w9p94NLnsZbo"
      },
      "source": [
        "Не работает, как и ожидалось. Осталось написать создание системы с низкоранговым решением , на нем должно заработать"
      ]
    },
    {
      "cell_type": "code",
      "metadata": {
        "id": "A6XBmoJawfCg"
      },
      "source": [
        "def generic_retract(T, v, rk):\n",
        "  \"\"\"\n",
        "  returns retraction R(T, v) = T + v\n",
        "  \"\"\"\n",
        "  return ttax.round(ttax.orthogonalize(T + v), max_tt_rank=rk)\n",
        "\n",
        "def generic_armijo_backtracking(init, grad, mul, beta, func, x, rk):\n",
        "    \"\"\"\n",
        "    using this one\n",
        "    \"\"\"\n",
        "    alpha = init\n",
        "    i = 0\n",
        "    iters = 50\n",
        "    while func(x) < func(generic_retract(x, -alpha*grad, rk)) + mul*alpha*ttax_norm(grad)**2:\n",
        "        alpha *= beta\n",
        "        if i > iters:\n",
        "          break\n",
        "        i += 1\n",
        "    return alpha"
      ],
      "execution_count": 217,
      "outputs": []
    },
    {
      "cell_type": "code",
      "metadata": {
        "id": "HGCMVv1MwfvS"
      },
      "source": [
        "def generic_gd(objective, initial, rk, residual=None, iters=200, tol=1e-2, debug=False):\n",
        "  riemann_grad_at = ttax.autodiff.grad(objective)\n",
        "  \n",
        "  if residual is None:\n",
        "    residual = lambda x: x\n",
        "    tol = jnp.inf\n",
        "\n",
        "  residuals = []\n",
        "  \n",
        "  x = initial\n",
        "  i = 0\n",
        "\n",
        "  while i < iters:\n",
        "    riemann_grad = ttax.orthogonalize(riemann_grad_at(ttax.orthogonalize(x)))\n",
        "    alpha = generic_armijo_backtracking(1, riemann_grad, 1e-4, 0.8, objective, x, rk)\n",
        "    \n",
        "    x = generic_retract(x, (-alpha)*riemann_grad, rk)\n",
        "\n",
        "    if residual is not None:\n",
        "      r = residual(ttax.orthogonalize(x))\n",
        "      residuals.append( r )   \n",
        "      if r < tol:\n",
        "        break\n",
        "\n",
        "    if i % 10 == 0 and debug:\n",
        "      print(f\"{i} th iteration, residual {residuals[-1]}\")\n",
        "\n",
        "    i += 1\n",
        "\n",
        "  return x, residuals"
      ],
      "execution_count": 218,
      "outputs": []
    },
    {
      "cell_type": "code",
      "metadata": {
        "id": "0sxSSqTJDlUq"
      },
      "source": [
        "y = lambda A, rk: (lambda x: ttax.flat_inner(A + (-1)*x, A + (-1)*x)**2)"
      ],
      "execution_count": 219,
      "outputs": []
    },
    {
      "cell_type": "code",
      "metadata": {
        "id": "2yyJO4xPJwTD"
      },
      "source": [
        "n, rk = 100, 5"
      ],
      "execution_count": 220,
      "outputs": []
    },
    {
      "cell_type": "code",
      "metadata": {
        "colab": {
          "base_uri": "https://localhost:8080/"
        },
        "id": "PnXgXdR0Gsgb",
        "outputId": "7d6586da-b393-48f1-bc15-1c46792b7eac"
      },
      "source": [
        "A = ttax.random.tensor(jaxkey, shape=(n, n), tt_rank=rk)\n",
        "np.array(ttax.full(A))[0:3, 0:3]"
      ],
      "execution_count": 221,
      "outputs": [
        {
          "output_type": "execute_result",
          "data": {
            "text/plain": [
              "array([[ 1.6139864 , -0.31247276,  0.7863133 ],\n",
              "       [-0.27515656, -1.1745789 , -0.09724277],\n",
              "       [ 5.061904  ,  0.23673698,  1.6336261 ]], dtype=float32)"
            ]
          },
          "metadata": {
            "tags": []
          },
          "execution_count": 221
        }
      ]
    },
    {
      "cell_type": "code",
      "metadata": {
        "id": "ZIZYVZ1tGQyg"
      },
      "source": [
        "yA = y(A, rk)"
      ],
      "execution_count": 222,
      "outputs": []
    },
    {
      "cell_type": "code",
      "metadata": {
        "id": "dXa1SqPXG8Os"
      },
      "source": [
        "init = ttax.random.tensor(jax.random.PRNGKey(41), shape=(n, n), tt_rank=rk)"
      ],
      "execution_count": 223,
      "outputs": []
    },
    {
      "cell_type": "code",
      "metadata": {
        "colab": {
          "base_uri": "https://localhost:8080/",
          "height": 475
        },
        "id": "mlAAKynlGCHY",
        "outputId": "0ac43f16-fb25-420a-8be6-97793695d8e4"
      },
      "source": [
        "x, res = generic_gd(yA, init, rk, debug=True, residual=yA, tol=1e-3)"
      ],
      "execution_count": 224,
      "outputs": [
        {
          "output_type": "stream",
          "text": [
            "0 th iteration, residual 280707923968.0\n",
            "10 th iteration, residual nan\n",
            "20 th iteration, residual nan\n",
            "30 th iteration, residual nan\n",
            "40 th iteration, residual nan\n",
            "50 th iteration, residual nan\n",
            "60 th iteration, residual nan\n",
            "70 th iteration, residual nan\n",
            "80 th iteration, residual nan\n"
          ],
          "name": "stdout"
        },
        {
          "output_type": "error",
          "ename": "KeyboardInterrupt",
          "evalue": "ignored",
          "traceback": [
            "\u001b[0;31m---------------------------------------------------------------------------\u001b[0m",
            "\u001b[0;31mKeyboardInterrupt\u001b[0m                         Traceback (most recent call last)",
            "\u001b[0;32m<ipython-input-224-be1cfa29671b>\u001b[0m in \u001b[0;36m<module>\u001b[0;34m()\u001b[0m\n\u001b[0;32m----> 1\u001b[0;31m \u001b[0mx\u001b[0m\u001b[0;34m,\u001b[0m \u001b[0mres\u001b[0m \u001b[0;34m=\u001b[0m \u001b[0mgeneric_gd\u001b[0m\u001b[0;34m(\u001b[0m\u001b[0myA\u001b[0m\u001b[0;34m,\u001b[0m \u001b[0minit\u001b[0m\u001b[0;34m,\u001b[0m \u001b[0mrk\u001b[0m\u001b[0;34m,\u001b[0m \u001b[0mdebug\u001b[0m\u001b[0;34m=\u001b[0m\u001b[0;32mTrue\u001b[0m\u001b[0;34m,\u001b[0m \u001b[0mresidual\u001b[0m\u001b[0;34m=\u001b[0m\u001b[0myA\u001b[0m\u001b[0;34m,\u001b[0m \u001b[0mtol\u001b[0m\u001b[0;34m=\u001b[0m\u001b[0;36m1e-3\u001b[0m\u001b[0;34m)\u001b[0m\u001b[0;34m\u001b[0m\u001b[0;34m\u001b[0m\u001b[0m\n\u001b[0m",
            "\u001b[0;32m<ipython-input-218-3ef167441f55>\u001b[0m in \u001b[0;36mgeneric_gd\u001b[0;34m(objective, initial, rk, residual, iters, tol, debug)\u001b[0m\n\u001b[1;32m     12\u001b[0m \u001b[0;34m\u001b[0m\u001b[0m\n\u001b[1;32m     13\u001b[0m   \u001b[0;32mwhile\u001b[0m \u001b[0mi\u001b[0m \u001b[0;34m<\u001b[0m \u001b[0miters\u001b[0m\u001b[0;34m:\u001b[0m\u001b[0;34m\u001b[0m\u001b[0;34m\u001b[0m\u001b[0m\n\u001b[0;32m---> 14\u001b[0;31m     \u001b[0mriemann_grad\u001b[0m \u001b[0;34m=\u001b[0m \u001b[0mttax\u001b[0m\u001b[0;34m.\u001b[0m\u001b[0morthogonalize\u001b[0m\u001b[0;34m(\u001b[0m\u001b[0mriemann_grad_at\u001b[0m\u001b[0;34m(\u001b[0m\u001b[0mttax\u001b[0m\u001b[0;34m.\u001b[0m\u001b[0morthogonalize\u001b[0m\u001b[0;34m(\u001b[0m\u001b[0mx\u001b[0m\u001b[0;34m)\u001b[0m\u001b[0;34m)\u001b[0m\u001b[0;34m)\u001b[0m\u001b[0;34m\u001b[0m\u001b[0;34m\u001b[0m\u001b[0m\n\u001b[0m\u001b[1;32m     15\u001b[0m     \u001b[0malpha\u001b[0m \u001b[0;34m=\u001b[0m \u001b[0mgeneric_armijo_backtracking\u001b[0m\u001b[0;34m(\u001b[0m\u001b[0;36m1\u001b[0m\u001b[0;34m,\u001b[0m \u001b[0mriemann_grad\u001b[0m\u001b[0;34m,\u001b[0m \u001b[0;36m1e-4\u001b[0m\u001b[0;34m,\u001b[0m \u001b[0;36m0.8\u001b[0m\u001b[0;34m,\u001b[0m \u001b[0mobjective\u001b[0m\u001b[0;34m,\u001b[0m \u001b[0mx\u001b[0m\u001b[0;34m,\u001b[0m \u001b[0mrk\u001b[0m\u001b[0;34m)\u001b[0m\u001b[0;34m\u001b[0m\u001b[0;34m\u001b[0m\u001b[0m\n\u001b[1;32m     16\u001b[0m \u001b[0;34m\u001b[0m\u001b[0m\n",
            "\u001b[0;32m/usr/local/lib/python3.7/dist-packages/ttax/autodiff.py\u001b[0m in \u001b[0;36m_grad\u001b[0;34m(x)\u001b[0m\n\u001b[1;32m     68\u001b[0m       \u001b[0;32mreturn\u001b[0m \u001b[0mfunc\u001b[0m\u001b[0;34m(\u001b[0m\u001b[0mx_projection\u001b[0m\u001b[0;34m)\u001b[0m\u001b[0;34m\u001b[0m\u001b[0;34m\u001b[0m\u001b[0m\n\u001b[1;32m     69\u001b[0m \u001b[0;34m\u001b[0m\u001b[0m\n\u001b[0;32m---> 70\u001b[0;31m     \u001b[0mfunction_value\u001b[0m\u001b[0;34m,\u001b[0m \u001b[0mcores_grad\u001b[0m \u001b[0;34m=\u001b[0m \u001b[0mjax\u001b[0m\u001b[0;34m.\u001b[0m\u001b[0mvalue_and_grad\u001b[0m\u001b[0;34m(\u001b[0m\u001b[0maugmented_func\u001b[0m\u001b[0;34m)\u001b[0m\u001b[0;34m(\u001b[0m\u001b[0mdeltas\u001b[0m\u001b[0;34m)\u001b[0m\u001b[0;34m\u001b[0m\u001b[0;34m\u001b[0m\u001b[0m\n\u001b[0m\u001b[1;32m     71\u001b[0m \u001b[0;34m\u001b[0m\u001b[0m\n\u001b[1;32m     72\u001b[0m     \u001b[0mdeltas\u001b[0m \u001b[0;34m=\u001b[0m \u001b[0m_enforce_gauge_conditions\u001b[0m\u001b[0;34m(\u001b[0m\u001b[0mcores_grad\u001b[0m\u001b[0;34m,\u001b[0m \u001b[0mleft\u001b[0m\u001b[0;34m)\u001b[0m\u001b[0;34m\u001b[0m\u001b[0;34m\u001b[0m\u001b[0m\n",
            "\u001b[0;32m/usr/local/lib/python3.7/dist-packages/jax/_src/traceback_util.py\u001b[0m in \u001b[0;36mreraise_with_filtered_traceback\u001b[0;34m(*args, **kwargs)\u001b[0m\n\u001b[1;32m    181\u001b[0m     \u001b[0m__tracebackhide__\u001b[0m \u001b[0;34m=\u001b[0m \u001b[0;32mTrue\u001b[0m\u001b[0;34m\u001b[0m\u001b[0;34m\u001b[0m\u001b[0m\n\u001b[1;32m    182\u001b[0m     \u001b[0;32mtry\u001b[0m\u001b[0;34m:\u001b[0m\u001b[0;34m\u001b[0m\u001b[0;34m\u001b[0m\u001b[0m\n\u001b[0;32m--> 183\u001b[0;31m       \u001b[0;32mreturn\u001b[0m \u001b[0mfun\u001b[0m\u001b[0;34m(\u001b[0m\u001b[0;34m*\u001b[0m\u001b[0margs\u001b[0m\u001b[0;34m,\u001b[0m \u001b[0;34m**\u001b[0m\u001b[0mkwargs\u001b[0m\u001b[0;34m)\u001b[0m\u001b[0;34m\u001b[0m\u001b[0;34m\u001b[0m\u001b[0m\n\u001b[0m\u001b[1;32m    184\u001b[0m     \u001b[0;32mexcept\u001b[0m \u001b[0mException\u001b[0m \u001b[0;32mas\u001b[0m \u001b[0me\u001b[0m\u001b[0;34m:\u001b[0m\u001b[0;34m\u001b[0m\u001b[0;34m\u001b[0m\u001b[0m\n\u001b[1;32m    185\u001b[0m       \u001b[0mmode\u001b[0m \u001b[0;34m=\u001b[0m \u001b[0mfiltering_mode\u001b[0m\u001b[0;34m(\u001b[0m\u001b[0;34m)\u001b[0m\u001b[0;34m\u001b[0m\u001b[0;34m\u001b[0m\u001b[0m\n",
            "\u001b[0;32m/usr/local/lib/python3.7/dist-packages/jax/_src/api.py\u001b[0m in \u001b[0;36mvalue_and_grad_f\u001b[0;34m(*args, **kwargs)\u001b[0m\n\u001b[1;32m    899\u001b[0m     \u001b[0mtree_map\u001b[0m\u001b[0;34m(\u001b[0m\u001b[0mpartial\u001b[0m\u001b[0;34m(\u001b[0m\u001b[0m_check_input_dtype_grad\u001b[0m\u001b[0;34m,\u001b[0m \u001b[0mholomorphic\u001b[0m\u001b[0;34m,\u001b[0m \u001b[0mallow_int\u001b[0m\u001b[0;34m)\u001b[0m\u001b[0;34m,\u001b[0m \u001b[0mdyn_args\u001b[0m\u001b[0;34m)\u001b[0m\u001b[0;34m\u001b[0m\u001b[0;34m\u001b[0m\u001b[0m\n\u001b[1;32m    900\u001b[0m     \u001b[0;32mif\u001b[0m \u001b[0;32mnot\u001b[0m \u001b[0mhas_aux\u001b[0m\u001b[0;34m:\u001b[0m\u001b[0;34m\u001b[0m\u001b[0;34m\u001b[0m\u001b[0m\n\u001b[0;32m--> 901\u001b[0;31m       \u001b[0mans\u001b[0m\u001b[0;34m,\u001b[0m \u001b[0mvjp_py\u001b[0m \u001b[0;34m=\u001b[0m \u001b[0m_vjp\u001b[0m\u001b[0;34m(\u001b[0m\u001b[0mf_partial\u001b[0m\u001b[0;34m,\u001b[0m \u001b[0;34m*\u001b[0m\u001b[0mdyn_args\u001b[0m\u001b[0;34m,\u001b[0m \u001b[0mreduce_axes\u001b[0m\u001b[0;34m=\u001b[0m\u001b[0mreduce_axes\u001b[0m\u001b[0;34m)\u001b[0m\u001b[0;34m\u001b[0m\u001b[0;34m\u001b[0m\u001b[0m\n\u001b[0m\u001b[1;32m    902\u001b[0m     \u001b[0;32melse\u001b[0m\u001b[0;34m:\u001b[0m\u001b[0;34m\u001b[0m\u001b[0;34m\u001b[0m\u001b[0m\n\u001b[1;32m    903\u001b[0m       ans, vjp_py, aux = _vjp(\n",
            "\u001b[0;32m/usr/local/lib/python3.7/dist-packages/jax/_src/api.py\u001b[0m in \u001b[0;36m_vjp\u001b[0;34m(fun, has_aux, reduce_axes, *primals)\u001b[0m\n\u001b[1;32m   1995\u001b[0m     \u001b[0mflat_fun\u001b[0m\u001b[0;34m,\u001b[0m \u001b[0mout_tree\u001b[0m \u001b[0;34m=\u001b[0m \u001b[0mflatten_fun_nokwargs\u001b[0m\u001b[0;34m(\u001b[0m\u001b[0mfun\u001b[0m\u001b[0;34m,\u001b[0m \u001b[0min_tree\u001b[0m\u001b[0;34m)\u001b[0m\u001b[0;34m\u001b[0m\u001b[0;34m\u001b[0m\u001b[0m\n\u001b[1;32m   1996\u001b[0m     out_primal, out_vjp = ad.vjp(\n\u001b[0;32m-> 1997\u001b[0;31m         flat_fun, primals_flat, reduce_axes=reduce_axes)\n\u001b[0m\u001b[1;32m   1998\u001b[0m     \u001b[0mout_tree\u001b[0m \u001b[0;34m=\u001b[0m \u001b[0mout_tree\u001b[0m\u001b[0;34m(\u001b[0m\u001b[0;34m)\u001b[0m\u001b[0;34m\u001b[0m\u001b[0;34m\u001b[0m\u001b[0m\n\u001b[1;32m   1999\u001b[0m   \u001b[0;32melse\u001b[0m\u001b[0;34m:\u001b[0m\u001b[0;34m\u001b[0m\u001b[0;34m\u001b[0m\u001b[0m\n",
            "\u001b[0;32m/usr/local/lib/python3.7/dist-packages/jax/interpreters/ad.py\u001b[0m in \u001b[0;36mvjp\u001b[0;34m(traceable, primals, has_aux, reduce_axes)\u001b[0m\n\u001b[1;32m    113\u001b[0m \u001b[0;32mdef\u001b[0m \u001b[0mvjp\u001b[0m\u001b[0;34m(\u001b[0m\u001b[0mtraceable\u001b[0m\u001b[0;34m,\u001b[0m \u001b[0mprimals\u001b[0m\u001b[0;34m,\u001b[0m \u001b[0mhas_aux\u001b[0m\u001b[0;34m=\u001b[0m\u001b[0;32mFalse\u001b[0m\u001b[0;34m,\u001b[0m \u001b[0mreduce_axes\u001b[0m\u001b[0;34m=\u001b[0m\u001b[0;34m(\u001b[0m\u001b[0;34m)\u001b[0m\u001b[0;34m)\u001b[0m\u001b[0;34m:\u001b[0m\u001b[0;34m\u001b[0m\u001b[0;34m\u001b[0m\u001b[0m\n\u001b[1;32m    114\u001b[0m   \u001b[0;32mif\u001b[0m \u001b[0;32mnot\u001b[0m \u001b[0mhas_aux\u001b[0m\u001b[0;34m:\u001b[0m\u001b[0;34m\u001b[0m\u001b[0;34m\u001b[0m\u001b[0m\n\u001b[0;32m--> 115\u001b[0;31m     \u001b[0mout_primals\u001b[0m\u001b[0;34m,\u001b[0m \u001b[0mpvals\u001b[0m\u001b[0;34m,\u001b[0m \u001b[0mjaxpr\u001b[0m\u001b[0;34m,\u001b[0m \u001b[0mconsts\u001b[0m \u001b[0;34m=\u001b[0m \u001b[0mlinearize\u001b[0m\u001b[0;34m(\u001b[0m\u001b[0mtraceable\u001b[0m\u001b[0;34m,\u001b[0m \u001b[0;34m*\u001b[0m\u001b[0mprimals\u001b[0m\u001b[0;34m)\u001b[0m\u001b[0;34m\u001b[0m\u001b[0;34m\u001b[0m\u001b[0m\n\u001b[0m\u001b[1;32m    116\u001b[0m   \u001b[0;32melse\u001b[0m\u001b[0;34m:\u001b[0m\u001b[0;34m\u001b[0m\u001b[0;34m\u001b[0m\u001b[0m\n\u001b[1;32m    117\u001b[0m     \u001b[0mout_primals\u001b[0m\u001b[0;34m,\u001b[0m \u001b[0mpvals\u001b[0m\u001b[0;34m,\u001b[0m \u001b[0mjaxpr\u001b[0m\u001b[0;34m,\u001b[0m \u001b[0mconsts\u001b[0m\u001b[0;34m,\u001b[0m \u001b[0maux\u001b[0m \u001b[0;34m=\u001b[0m \u001b[0mlinearize\u001b[0m\u001b[0;34m(\u001b[0m\u001b[0mtraceable\u001b[0m\u001b[0;34m,\u001b[0m \u001b[0;34m*\u001b[0m\u001b[0mprimals\u001b[0m\u001b[0;34m,\u001b[0m \u001b[0mhas_aux\u001b[0m\u001b[0;34m=\u001b[0m\u001b[0;32mTrue\u001b[0m\u001b[0;34m)\u001b[0m\u001b[0;34m\u001b[0m\u001b[0;34m\u001b[0m\u001b[0m\n",
            "\u001b[0;32m/usr/local/lib/python3.7/dist-packages/jax/interpreters/ad.py\u001b[0m in \u001b[0;36mlinearize\u001b[0;34m(traceable, *primals, **kwargs)\u001b[0m\n\u001b[1;32m    100\u001b[0m   \u001b[0m_\u001b[0m\u001b[0;34m,\u001b[0m \u001b[0min_tree\u001b[0m \u001b[0;34m=\u001b[0m \u001b[0mtree_flatten\u001b[0m\u001b[0;34m(\u001b[0m\u001b[0;34m(\u001b[0m\u001b[0;34m(\u001b[0m\u001b[0mprimals\u001b[0m\u001b[0;34m,\u001b[0m \u001b[0mprimals\u001b[0m\u001b[0;34m)\u001b[0m\u001b[0;34m,\u001b[0m \u001b[0;34m{\u001b[0m\u001b[0;34m}\u001b[0m\u001b[0;34m)\u001b[0m\u001b[0;34m)\u001b[0m\u001b[0;34m\u001b[0m\u001b[0;34m\u001b[0m\u001b[0m\n\u001b[1;32m    101\u001b[0m   \u001b[0mjvpfun_flat\u001b[0m\u001b[0;34m,\u001b[0m \u001b[0mout_tree\u001b[0m \u001b[0;34m=\u001b[0m \u001b[0mflatten_fun\u001b[0m\u001b[0;34m(\u001b[0m\u001b[0mjvpfun\u001b[0m\u001b[0;34m,\u001b[0m \u001b[0min_tree\u001b[0m\u001b[0;34m)\u001b[0m\u001b[0;34m\u001b[0m\u001b[0;34m\u001b[0m\u001b[0m\n\u001b[0;32m--> 102\u001b[0;31m   \u001b[0mjaxpr\u001b[0m\u001b[0;34m,\u001b[0m \u001b[0mout_pvals\u001b[0m\u001b[0;34m,\u001b[0m \u001b[0mconsts\u001b[0m \u001b[0;34m=\u001b[0m \u001b[0mpe\u001b[0m\u001b[0;34m.\u001b[0m\u001b[0mtrace_to_jaxpr\u001b[0m\u001b[0;34m(\u001b[0m\u001b[0mjvpfun_flat\u001b[0m\u001b[0;34m,\u001b[0m \u001b[0min_pvals\u001b[0m\u001b[0;34m)\u001b[0m\u001b[0;34m\u001b[0m\u001b[0;34m\u001b[0m\u001b[0m\n\u001b[0m\u001b[1;32m    103\u001b[0m   \u001b[0mout_primals_pvals\u001b[0m\u001b[0;34m,\u001b[0m \u001b[0mout_tangents_pvals\u001b[0m \u001b[0;34m=\u001b[0m \u001b[0mtree_unflatten\u001b[0m\u001b[0;34m(\u001b[0m\u001b[0mout_tree\u001b[0m\u001b[0;34m(\u001b[0m\u001b[0;34m)\u001b[0m\u001b[0;34m,\u001b[0m \u001b[0mout_pvals\u001b[0m\u001b[0;34m)\u001b[0m\u001b[0;34m\u001b[0m\u001b[0;34m\u001b[0m\u001b[0m\n\u001b[1;32m    104\u001b[0m   \u001b[0;32massert\u001b[0m \u001b[0mall\u001b[0m\u001b[0;34m(\u001b[0m\u001b[0mout_primal_pval\u001b[0m\u001b[0;34m.\u001b[0m\u001b[0mis_known\u001b[0m\u001b[0;34m(\u001b[0m\u001b[0;34m)\u001b[0m \u001b[0;32mfor\u001b[0m \u001b[0mout_primal_pval\u001b[0m \u001b[0;32min\u001b[0m \u001b[0mout_primals_pvals\u001b[0m\u001b[0;34m)\u001b[0m\u001b[0;34m\u001b[0m\u001b[0;34m\u001b[0m\u001b[0m\n",
            "\u001b[0;32m/usr/local/lib/python3.7/dist-packages/jax/interpreters/partial_eval.py\u001b[0m in \u001b[0;36mtrace_to_jaxpr\u001b[0;34m(fun, pvals, instantiate)\u001b[0m\n\u001b[1;32m    503\u001b[0m   \u001b[0;32mwith\u001b[0m \u001b[0mcore\u001b[0m\u001b[0;34m.\u001b[0m\u001b[0mnew_main\u001b[0m\u001b[0;34m(\u001b[0m\u001b[0mJaxprTrace\u001b[0m\u001b[0;34m)\u001b[0m \u001b[0;32mas\u001b[0m \u001b[0mmain\u001b[0m\u001b[0;34m:\u001b[0m\u001b[0;34m\u001b[0m\u001b[0;34m\u001b[0m\u001b[0m\n\u001b[1;32m    504\u001b[0m     \u001b[0mfun\u001b[0m \u001b[0;34m=\u001b[0m \u001b[0mtrace_to_subjaxpr\u001b[0m\u001b[0;34m(\u001b[0m\u001b[0mfun\u001b[0m\u001b[0;34m,\u001b[0m \u001b[0mmain\u001b[0m\u001b[0;34m,\u001b[0m \u001b[0minstantiate\u001b[0m\u001b[0;34m)\u001b[0m\u001b[0;34m\u001b[0m\u001b[0;34m\u001b[0m\u001b[0m\n\u001b[0;32m--> 505\u001b[0;31m     \u001b[0mjaxpr\u001b[0m\u001b[0;34m,\u001b[0m \u001b[0;34m(\u001b[0m\u001b[0mout_pvals\u001b[0m\u001b[0;34m,\u001b[0m \u001b[0mconsts\u001b[0m\u001b[0;34m,\u001b[0m \u001b[0menv\u001b[0m\u001b[0;34m)\u001b[0m \u001b[0;34m=\u001b[0m \u001b[0mfun\u001b[0m\u001b[0;34m.\u001b[0m\u001b[0mcall_wrapped\u001b[0m\u001b[0;34m(\u001b[0m\u001b[0mpvals\u001b[0m\u001b[0;34m)\u001b[0m\u001b[0;34m\u001b[0m\u001b[0;34m\u001b[0m\u001b[0m\n\u001b[0m\u001b[1;32m    506\u001b[0m     \u001b[0;32massert\u001b[0m \u001b[0;32mnot\u001b[0m \u001b[0menv\u001b[0m\u001b[0;34m\u001b[0m\u001b[0;34m\u001b[0m\u001b[0m\n\u001b[1;32m    507\u001b[0m     \u001b[0;32mdel\u001b[0m \u001b[0mmain\u001b[0m\u001b[0;34m,\u001b[0m \u001b[0mfun\u001b[0m\u001b[0;34m,\u001b[0m \u001b[0menv\u001b[0m\u001b[0;34m\u001b[0m\u001b[0;34m\u001b[0m\u001b[0m\n",
            "\u001b[0;32m/usr/local/lib/python3.7/dist-packages/jax/linear_util.py\u001b[0m in \u001b[0;36mcall_wrapped\u001b[0;34m(self, *args, **kwargs)\u001b[0m\n\u001b[1;32m    164\u001b[0m \u001b[0;34m\u001b[0m\u001b[0m\n\u001b[1;32m    165\u001b[0m     \u001b[0;32mtry\u001b[0m\u001b[0;34m:\u001b[0m\u001b[0;34m\u001b[0m\u001b[0;34m\u001b[0m\u001b[0m\n\u001b[0;32m--> 166\u001b[0;31m       \u001b[0mans\u001b[0m \u001b[0;34m=\u001b[0m \u001b[0mself\u001b[0m\u001b[0;34m.\u001b[0m\u001b[0mf\u001b[0m\u001b[0;34m(\u001b[0m\u001b[0;34m*\u001b[0m\u001b[0margs\u001b[0m\u001b[0;34m,\u001b[0m \u001b[0;34m**\u001b[0m\u001b[0mdict\u001b[0m\u001b[0;34m(\u001b[0m\u001b[0mself\u001b[0m\u001b[0;34m.\u001b[0m\u001b[0mparams\u001b[0m\u001b[0;34m,\u001b[0m \u001b[0;34m**\u001b[0m\u001b[0mkwargs\u001b[0m\u001b[0;34m)\u001b[0m\u001b[0;34m)\u001b[0m\u001b[0;34m\u001b[0m\u001b[0;34m\u001b[0m\u001b[0m\n\u001b[0m\u001b[1;32m    167\u001b[0m     \u001b[0;32mexcept\u001b[0m\u001b[0;34m:\u001b[0m\u001b[0;34m\u001b[0m\u001b[0;34m\u001b[0m\u001b[0m\n\u001b[1;32m    168\u001b[0m       \u001b[0;31m# Some transformations yield from inside context managers, so we have to\u001b[0m\u001b[0;34m\u001b[0m\u001b[0;34m\u001b[0m\u001b[0;34m\u001b[0m\u001b[0m\n",
            "\u001b[0;32m/usr/local/lib/python3.7/dist-packages/ttax/autodiff.py\u001b[0m in \u001b[0;36maugmented_func\u001b[0;34m(d)\u001b[0m\n\u001b[1;32m     66\u001b[0m     \u001b[0;32mdef\u001b[0m \u001b[0maugmented_func\u001b[0m\u001b[0;34m(\u001b[0m\u001b[0md\u001b[0m\u001b[0;34m)\u001b[0m\u001b[0;34m:\u001b[0m\u001b[0;34m\u001b[0m\u001b[0;34m\u001b[0m\u001b[0m\n\u001b[1;32m     67\u001b[0m       \u001b[0mx_projection\u001b[0m \u001b[0;34m=\u001b[0m \u001b[0mriemannian\u001b[0m\u001b[0;34m.\u001b[0m\u001b[0mdeltas_to_tangent\u001b[0m\u001b[0;34m(\u001b[0m\u001b[0md\u001b[0m\u001b[0;34m,\u001b[0m \u001b[0mx\u001b[0m\u001b[0;34m)\u001b[0m\u001b[0;34m\u001b[0m\u001b[0;34m\u001b[0m\u001b[0m\n\u001b[0;32m---> 68\u001b[0;31m       \u001b[0;32mreturn\u001b[0m \u001b[0mfunc\u001b[0m\u001b[0;34m(\u001b[0m\u001b[0mx_projection\u001b[0m\u001b[0;34m)\u001b[0m\u001b[0;34m\u001b[0m\u001b[0;34m\u001b[0m\u001b[0m\n\u001b[0m\u001b[1;32m     69\u001b[0m \u001b[0;34m\u001b[0m\u001b[0m\n\u001b[1;32m     70\u001b[0m     \u001b[0mfunction_value\u001b[0m\u001b[0;34m,\u001b[0m \u001b[0mcores_grad\u001b[0m \u001b[0;34m=\u001b[0m \u001b[0mjax\u001b[0m\u001b[0;34m.\u001b[0m\u001b[0mvalue_and_grad\u001b[0m\u001b[0;34m(\u001b[0m\u001b[0maugmented_func\u001b[0m\u001b[0;34m)\u001b[0m\u001b[0;34m(\u001b[0m\u001b[0mdeltas\u001b[0m\u001b[0;34m)\u001b[0m\u001b[0;34m\u001b[0m\u001b[0;34m\u001b[0m\u001b[0m\n",
            "\u001b[0;32m<ipython-input-219-6fe91a4804c9>\u001b[0m in \u001b[0;36m<lambda>\u001b[0;34m(x)\u001b[0m\n\u001b[0;32m----> 1\u001b[0;31m \u001b[0my\u001b[0m \u001b[0;34m=\u001b[0m \u001b[0;32mlambda\u001b[0m \u001b[0mA\u001b[0m\u001b[0;34m,\u001b[0m \u001b[0mrk\u001b[0m\u001b[0;34m:\u001b[0m \u001b[0;34m(\u001b[0m\u001b[0;32mlambda\u001b[0m \u001b[0mx\u001b[0m\u001b[0;34m:\u001b[0m \u001b[0mttax\u001b[0m\u001b[0;34m.\u001b[0m\u001b[0mflat_inner\u001b[0m\u001b[0;34m(\u001b[0m\u001b[0mA\u001b[0m \u001b[0;34m+\u001b[0m \u001b[0;34m(\u001b[0m\u001b[0;34m-\u001b[0m\u001b[0;36m1\u001b[0m\u001b[0;34m)\u001b[0m\u001b[0;34m*\u001b[0m\u001b[0mx\u001b[0m\u001b[0;34m,\u001b[0m \u001b[0mA\u001b[0m \u001b[0;34m+\u001b[0m \u001b[0;34m(\u001b[0m\u001b[0;34m-\u001b[0m\u001b[0;36m1\u001b[0m\u001b[0;34m)\u001b[0m\u001b[0;34m*\u001b[0m\u001b[0mx\u001b[0m\u001b[0;34m)\u001b[0m\u001b[0;34m**\u001b[0m\u001b[0;36m2\u001b[0m\u001b[0;34m)\u001b[0m\u001b[0;34m\u001b[0m\u001b[0;34m\u001b[0m\u001b[0m\n\u001b[0m",
            "\u001b[0;32m/usr/local/lib/python3.7/dist-packages/ttax/base_class.py\u001b[0m in \u001b[0;36m__add__\u001b[0;34m(self, other)\u001b[0m\n\u001b[1;32m     22\u001b[0m     \u001b[0;31m# We can't import ops in the beginning since it creates cyclic dependencies.\u001b[0m\u001b[0;34m\u001b[0m\u001b[0;34m\u001b[0m\u001b[0;34m\u001b[0m\u001b[0m\n\u001b[1;32m     23\u001b[0m     \u001b[0;32mfrom\u001b[0m \u001b[0mttax\u001b[0m \u001b[0;32mimport\u001b[0m \u001b[0mops\u001b[0m\u001b[0;34m\u001b[0m\u001b[0;34m\u001b[0m\u001b[0m\n\u001b[0;32m---> 24\u001b[0;31m     \u001b[0;32mreturn\u001b[0m \u001b[0mops\u001b[0m\u001b[0;34m.\u001b[0m\u001b[0madd\u001b[0m\u001b[0;34m(\u001b[0m\u001b[0mself\u001b[0m\u001b[0;34m,\u001b[0m \u001b[0mother\u001b[0m\u001b[0;34m)\u001b[0m\u001b[0;34m\u001b[0m\u001b[0;34m\u001b[0m\u001b[0m\n\u001b[0m\u001b[1;32m     25\u001b[0m \u001b[0;34m\u001b[0m\u001b[0m\n\u001b[1;32m     26\u001b[0m   \u001b[0;32mdef\u001b[0m \u001b[0m__rmul__\u001b[0m\u001b[0;34m(\u001b[0m\u001b[0mself\u001b[0m\u001b[0;34m,\u001b[0m \u001b[0mother\u001b[0m\u001b[0;34m)\u001b[0m\u001b[0;34m:\u001b[0m\u001b[0;34m\u001b[0m\u001b[0;34m\u001b[0m\u001b[0m\n",
            "\u001b[0;32m/usr/local/lib/python3.7/dist-packages/ttax/ops.py\u001b[0m in \u001b[0;36mvectorized_func\u001b[0;34m(*args, **kwargs)\u001b[0m\n\u001b[1;32m     39\u001b[0m       \u001b[0mtt_arg\u001b[0m \u001b[0;34m=\u001b[0m \u001b[0margs\u001b[0m\u001b[0;34m[\u001b[0m\u001b[0;36m0\u001b[0m\u001b[0;34m]\u001b[0m  \u001b[0;31m# TODO: what if only kwargs are present?\u001b[0m\u001b[0;34m\u001b[0m\u001b[0;34m\u001b[0m\u001b[0m\n\u001b[1;32m     40\u001b[0m       \u001b[0;32mif\u001b[0m \u001b[0mtt_arg\u001b[0m\u001b[0;34m.\u001b[0m\u001b[0mnum_batch_dims\u001b[0m \u001b[0;34m==\u001b[0m \u001b[0;36m0\u001b[0m\u001b[0;34m:\u001b[0m\u001b[0;34m\u001b[0m\u001b[0;34m\u001b[0m\u001b[0m\n\u001b[0;32m---> 41\u001b[0;31m         \u001b[0;32mreturn\u001b[0m \u001b[0mfunc\u001b[0m\u001b[0;34m(\u001b[0m\u001b[0;34m*\u001b[0m\u001b[0margs\u001b[0m\u001b[0;34m,\u001b[0m \u001b[0;34m**\u001b[0m\u001b[0mkwargs\u001b[0m\u001b[0;34m)\u001b[0m\u001b[0;34m\u001b[0m\u001b[0;34m\u001b[0m\u001b[0m\n\u001b[0m\u001b[1;32m     42\u001b[0m       \u001b[0;32melse\u001b[0m\u001b[0;34m:\u001b[0m\u001b[0;34m\u001b[0m\u001b[0;34m\u001b[0m\u001b[0m\n\u001b[1;32m     43\u001b[0m         \u001b[0;32mif\u001b[0m \u001b[0mnum_batch_args\u001b[0m \u001b[0;32mis\u001b[0m \u001b[0;32mnot\u001b[0m \u001b[0;32mNone\u001b[0m\u001b[0;34m:\u001b[0m\u001b[0;34m\u001b[0m\u001b[0;34m\u001b[0m\u001b[0m\n",
            "\u001b[0;32m/usr/local/lib/python3.7/dist-packages/ttax/ops.py\u001b[0m in \u001b[0;36madd\u001b[0;34m(tt_a, tt_b)\u001b[0m\n\u001b[1;32m    211\u001b[0m   \u001b[0mtt_b\u001b[0m \u001b[0;34m=\u001b[0m \u001b[0munwrap_tt\u001b[0m\u001b[0;34m(\u001b[0m\u001b[0mtt_b\u001b[0m\u001b[0;34m)\u001b[0m\u001b[0;34m\u001b[0m\u001b[0;34m\u001b[0m\u001b[0m\n\u001b[1;32m    212\u001b[0m \u001b[0;34m\u001b[0m\u001b[0m\n\u001b[0;32m--> 213\u001b[0;31m   \u001b[0;32mif\u001b[0m \u001b[0;32mnot\u001b[0m \u001b[0mare_shapes_equal\u001b[0m\u001b[0;34m(\u001b[0m\u001b[0mtt_a\u001b[0m\u001b[0;34m,\u001b[0m \u001b[0mtt_b\u001b[0m\u001b[0;34m)\u001b[0m\u001b[0;34m:\u001b[0m\u001b[0;34m\u001b[0m\u001b[0;34m\u001b[0m\u001b[0m\n\u001b[0m\u001b[1;32m    214\u001b[0m     raise ValueError('Types of the arguments or their tensor '\n\u001b[1;32m    215\u001b[0m                      \u001b[0;34m'shapes are different, addition is not '\u001b[0m\u001b[0;34m\u001b[0m\u001b[0;34m\u001b[0m\u001b[0m\n",
            "\u001b[0;32m/usr/local/lib/python3.7/dist-packages/ttax/ops.py\u001b[0m in \u001b[0;36mare_shapes_equal\u001b[0;34m(tt_a, tt_b)\u001b[0m\n\u001b[1;32m    300\u001b[0m   \u001b[0;32mif\u001b[0m \u001b[0mtt_a\u001b[0m\u001b[0;34m.\u001b[0m\u001b[0mis_tt_matrix\u001b[0m \u001b[0;34m!=\u001b[0m \u001b[0mtt_b\u001b[0m\u001b[0;34m.\u001b[0m\u001b[0mis_tt_matrix\u001b[0m\u001b[0;34m:\u001b[0m\u001b[0;34m\u001b[0m\u001b[0;34m\u001b[0m\u001b[0m\n\u001b[1;32m    301\u001b[0m     \u001b[0mtensor_check\u001b[0m \u001b[0;34m=\u001b[0m \u001b[0;32mFalse\u001b[0m\u001b[0;34m\u001b[0m\u001b[0;34m\u001b[0m\u001b[0m\n\u001b[0;32m--> 302\u001b[0;31m   if jnp.any(jnp.array(tt_a.raw_tensor_shape) != \n\u001b[0m\u001b[1;32m    303\u001b[0m             jnp.array(tt_b.raw_tensor_shape)):\n\u001b[1;32m    304\u001b[0m     \u001b[0mtensor_check\u001b[0m \u001b[0;34m=\u001b[0m \u001b[0;32mFalse\u001b[0m\u001b[0;34m\u001b[0m\u001b[0;34m\u001b[0m\u001b[0m\n",
            "\u001b[0;32m/usr/local/lib/python3.7/dist-packages/jax/_src/numpy/lax_numpy.py\u001b[0m in \u001b[0;36marray\u001b[0;34m(object, dtype, copy, order, ndmin)\u001b[0m\n\u001b[1;32m   3065\u001b[0m     \u001b[0;32mraise\u001b[0m \u001b[0mTypeError\u001b[0m\u001b[0;34m(\u001b[0m\u001b[0;34m\"Unexpected input type for array: {}\"\u001b[0m\u001b[0;34m.\u001b[0m\u001b[0mformat\u001b[0m\u001b[0;34m(\u001b[0m\u001b[0mtype\u001b[0m\u001b[0;34m(\u001b[0m\u001b[0mobject\u001b[0m\u001b[0;34m)\u001b[0m\u001b[0;34m)\u001b[0m\u001b[0;34m)\u001b[0m\u001b[0;34m\u001b[0m\u001b[0;34m\u001b[0m\u001b[0m\n\u001b[1;32m   3066\u001b[0m \u001b[0;34m\u001b[0m\u001b[0m\n\u001b[0;32m-> 3067\u001b[0;31m   \u001b[0mout\u001b[0m \u001b[0;34m=\u001b[0m \u001b[0mlax\u001b[0m\u001b[0;34m.\u001b[0m\u001b[0m_convert_element_type\u001b[0m\u001b[0;34m(\u001b[0m\u001b[0mout\u001b[0m\u001b[0;34m,\u001b[0m \u001b[0mdtype\u001b[0m\u001b[0;34m,\u001b[0m \u001b[0mweak_type\u001b[0m\u001b[0;34m=\u001b[0m\u001b[0mweak_type\u001b[0m\u001b[0;34m)\u001b[0m\u001b[0;34m\u001b[0m\u001b[0;34m\u001b[0m\u001b[0m\n\u001b[0m\u001b[1;32m   3068\u001b[0m \u001b[0;34m\u001b[0m\u001b[0m\n\u001b[1;32m   3069\u001b[0m   \u001b[0;32mif\u001b[0m \u001b[0mndmin\u001b[0m \u001b[0;34m>\u001b[0m \u001b[0mndim\u001b[0m\u001b[0;34m(\u001b[0m\u001b[0mout\u001b[0m\u001b[0;34m)\u001b[0m\u001b[0;34m:\u001b[0m\u001b[0;34m\u001b[0m\u001b[0;34m\u001b[0m\u001b[0m\n",
            "\u001b[0;32m/usr/local/lib/python3.7/dist-packages/jax/_src/lax/lax.py\u001b[0m in \u001b[0;36m_convert_element_type\u001b[0;34m(operand, new_dtype, weak_type)\u001b[0m\n\u001b[1;32m    430\u001b[0m   \u001b[0;31m# un-canonicalized operands to be passed in.\u001b[0m\u001b[0;34m\u001b[0m\u001b[0;34m\u001b[0m\u001b[0;34m\u001b[0m\u001b[0m\n\u001b[1;32m    431\u001b[0m   \u001b[0mold_dtype\u001b[0m \u001b[0;34m=\u001b[0m \u001b[0mnp\u001b[0m\u001b[0;34m.\u001b[0m\u001b[0mresult_type\u001b[0m\u001b[0;34m(\u001b[0m\u001b[0moperand\u001b[0m\u001b[0;34m)\u001b[0m\u001b[0;34m\u001b[0m\u001b[0;34m\u001b[0m\u001b[0m\n\u001b[0;32m--> 432\u001b[0;31m   \u001b[0mold_weak_type\u001b[0m \u001b[0;34m=\u001b[0m \u001b[0mdtypes\u001b[0m\u001b[0;34m.\u001b[0m\u001b[0mis_weakly_typed\u001b[0m\u001b[0;34m(\u001b[0m\u001b[0moperand\u001b[0m\u001b[0;34m)\u001b[0m\u001b[0;34m\u001b[0m\u001b[0;34m\u001b[0m\u001b[0m\n\u001b[0m\u001b[1;32m    433\u001b[0m \u001b[0;34m\u001b[0m\u001b[0m\n\u001b[1;32m    434\u001b[0m   \u001b[0mnew_dtype\u001b[0m \u001b[0;34m=\u001b[0m \u001b[0mdtypes\u001b[0m\u001b[0;34m.\u001b[0m\u001b[0mcanonicalize_dtype\u001b[0m\u001b[0;34m(\u001b[0m\u001b[0mnew_dtype\u001b[0m \u001b[0;32mor\u001b[0m \u001b[0mold_dtype\u001b[0m\u001b[0;34m)\u001b[0m\u001b[0;34m\u001b[0m\u001b[0;34m\u001b[0m\u001b[0m\n",
            "\u001b[0;31mKeyboardInterrupt\u001b[0m: "
          ]
        }
      ]
    },
    {
      "cell_type": "code",
      "metadata": {
        "colab": {
          "base_uri": "https://localhost:8080/"
        },
        "id": "fieITfojGF_G",
        "outputId": "3651068d-d5ba-4088-9b26-aea904a3ebf6"
      },
      "source": [
        "np.array(ttax.full(x))[0:3, 0:3]"
      ],
      "execution_count": 195,
      "outputs": [
        {
          "output_type": "execute_result",
          "data": {
            "text/plain": [
              "array([[ 1.725393  , -1.7029924 ,  0.867786  ],\n",
              "       [-3.5478938 ,  1.2832911 , -0.77704906],\n",
              "       [-1.504541  , -1.377178  , -1.8509235 ]], dtype=float32)"
            ]
          },
          "metadata": {
            "tags": []
          },
          "execution_count": 195
        }
      ]
    },
    {
      "cell_type": "code",
      "metadata": {
        "colab": {
          "base_uri": "https://localhost:8080/"
        },
        "id": "67UWVXSQH0ZM",
        "outputId": "b58c0e9d-1300-4444-b44a-4350f6bedbda"
      },
      "source": [
        "res"
      ],
      "execution_count": 196,
      "outputs": [
        {
          "output_type": "execute_result",
          "data": {
            "text/plain": [
              "[DeviceArray(427213.34, dtype=float32),\n",
              " DeviceArray(127397.65, dtype=float32),\n",
              " DeviceArray(89643.7, dtype=float32),\n",
              " DeviceArray(52895.78, dtype=float32),\n",
              " DeviceArray(21947.332, dtype=float32),\n",
              " DeviceArray(10177.889, dtype=float32),\n",
              " DeviceArray(7929.2397, dtype=float32),\n",
              " DeviceArray(2684.2732, dtype=float32),\n",
              " DeviceArray(503.11038, dtype=float32),\n",
              " DeviceArray(304.9241, dtype=float32),\n",
              " DeviceArray(258.7402, dtype=float32),\n",
              " DeviceArray(111.906334, dtype=float32),\n",
              " DeviceArray(60.108948, dtype=float32),\n",
              " DeviceArray(14.844092, dtype=float32),\n",
              " DeviceArray(2.7070694, dtype=float32),\n",
              " DeviceArray(0.7483825, dtype=float32),\n",
              " DeviceArray(0.26544347, dtype=float32),\n",
              " DeviceArray(0.04692244, dtype=float32),\n",
              " DeviceArray(1.4428404e-05, dtype=float32)]"
            ]
          },
          "metadata": {
            "tags": []
          },
          "execution_count": 196
        }
      ]
    },
    {
      "cell_type": "code",
      "metadata": {
        "id": "52zAjnYHIcT9"
      },
      "source": [
        ""
      ],
      "execution_count": null,
      "outputs": []
    }
  ]
}