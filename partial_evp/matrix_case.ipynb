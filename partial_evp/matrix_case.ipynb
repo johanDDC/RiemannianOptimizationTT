{
 "cells": [
  {
   "cell_type": "markdown",
   "metadata": {},
   "source": [
    "### Задача:\n",
    "Будем решать частичную задачу на собственные значения на многообразии $S^{n-1}$\n",
    "методами Римановой оптимизации.\n",
    "\n",
    "### Описание алгоритма:\n",
    "Пусть у нас фиксирована матрица $A \\in \\mathbb{R}^{n\\times n}$. Тогда для\n",
    "фиксированной матрицы $A$ определим отношение Реллея $f\\colon S^{n - 1} \\to \\mathbb{R}$\n",
    "по правилу\n",
    "\n",
    "\\begin{align*}\n",
    "x \\mapsto (x, Ax)\n",
    "\\end{align*}\n",
    "\n",
    "\n",
    "Решать задачу будем при помощи Риманова градиентного спуска: пусть имеется некоторое\n",
    "начальное приближение $x_0 \\in S^{n-1}$. Тогда на $k+1$-ой итерации алгоритма\n",
    "\n",
    "1. Считаем $\\nabla f(x_k)$ методами autodiff;\n",
    "2. Считаем $\\nabla_R f(x_k)$ (Риманов градиент) по правилу $\\nabla_R f(x_k) = P_{T_{x_k}S^{n-1}}(\\nabla f(x_k))$;\n",
    "3. Вычисляем длину шага $\\alpha_k$ при помощи Armijo backtracking;\n",
    "4. $x_{k+1} =\\mathcal{R}_{x_k}(-\\alpha_k \\nabla_R f(x_k)) \\to \\min_{x \\in S^{n-1}} f(x)$;\n",
    "\n",
    "Здесь $\\mathcal{R}_{x}\\colon T_xS^{n-1} \\to S^{n-1}$ — стандартная ретракция\n",
    "\\begin{align*}\n",
    "v \\mapsto \\frac{x + v}{\\|x + v\\|_2}\n",
    "\\end{align*}.\n",
    "\n",
    "Считаем, что алгоритм сошёлся, когда для заданного $\\varepsilon > 0$ выполнено\n",
    "\n",
    "\\begin{align*}\n",
    "\\|Ax_k - f(x_k)x_k\\|_2 < \\varepsilon\n",
    "\\end{align*}."
   ]
  },
  {
   "cell_type": "code",
   "execution_count": 1,
   "metadata": {
    "pycharm": {
     "name": "#%%\n"
    }
   },
   "outputs": [],
   "source": [
    "import jax\n",
    "import jax.numpy as jnp\n",
    "from numpy import random\n",
    "import matplotlib.pyplot as plt\n",
    "import scipy\n",
    "%matplotlib inline"
   ]
  },
  {
   "cell_type": "code",
   "execution_count": 2,
   "metadata": {
    "pycharm": {
     "name": "#%%\n"
    }
   },
   "outputs": [],
   "source": [
    "make_rayleigh = lambda A: lambda x: jnp.inner(x, A @ x)\n",
    "\n",
    "def retraction(x, v):\n",
    "    res = x + v\n",
    "    return res / jnp.linalg.norm(res)\n",
    "\n",
    "make_residual = lambda A: lambda x, rayleigh_x: jnp.linalg.norm(A @ x - rayleigh_x * x)\n",
    "orthoprojector = lambda x, v: v - jnp.inner(x, v) * x"
   ]
  },
  {
   "cell_type": "markdown",
   "metadata": {},
   "source": [
    "#### Armijo backtracking\n",
    "Идея: имеется некоторое начальное приближение $\\alpha_0$, на каждой итерации алгоритм\n",
    "выполняет умножение $\\alpha_{k+1} = \\beta\\alpha_k$, $\\beta \\in (0, 1)$, до тех\n",
    "пор, пока не выполнено уcловие Армихо-Голдштейна:\n",
    "\n",
    "\\begin{align*}\n",
    "f(x) - f(\\mathcal{R}_{x}(-\\alpha_k \\nabla_R f(x))) \\geq m\\alpha_k\\|\\nabla_R f(x)\\|^2\n",
    "\\end{align*}\n",
    "\n",
    "где $m \\in (0, 1)$. Литература сообщает, что обычно $m = 10^{-4}, \\beta \\in \\{0.5, 0.8\\}$."
   ]
  },
  {
   "cell_type": "code",
   "execution_count": 6,
   "metadata": {
    "pycharm": {
     "name": "#%%\n"
    }
   },
   "outputs": [],
   "source": [
    "def armijo_backtracking(init, grad, mul, beta, func, x):\n",
    "    alpha = init\n",
    "    iters = 0\n",
    "    while func(x) - func(retraction(x, -alpha * grad)) < \\\n",
    "        mul * alpha * jnp.linalg.norm(grad) ** 2:\n",
    "        alpha *= beta\n",
    "        if iters >= 40:\n",
    "            break\n",
    "        iters += 1\n",
    "    return alpha"
   ]
  },
  {
   "cell_type": "code",
   "execution_count": 15,
   "metadata": {
    "pycharm": {
     "name": "#%%\n"
    }
   },
   "outputs": [],
   "source": [
    "def predefine_GD(A):\n",
    "    rayleigh = make_rayleigh(A)\n",
    "    residual = make_residual(A)\n",
    "\n",
    "    def riemanGD(init, tol, max_iter = None, debug = False):\n",
    "        x = init\n",
    "        residuals = [residual(x, rayleigh(x))]\n",
    "        iters = 0\n",
    "        regular_grad = jax.grad(rayleigh)\n",
    "        rieman_grad = orthoprojector(x, regular_grad(x))\n",
    "        if debug == True:\n",
    "            print(\"№\\tresidual\")\n",
    "        while jnp.linalg.norm(rieman_grad) > tol:\n",
    "            alpha = armijo_backtracking(jnp.inner(x, A @ rieman_grad) / rayleigh(rieman_grad), rieman_grad, 1E-4, 0.8, rayleigh, x)\n",
    "            x = retraction(x, -alpha*rieman_grad)\n",
    "            iters += 1\n",
    "            residuals.append(residual(x, rayleigh(x)))\n",
    "            rieman_grad = orthoprojector(x, regular_grad(x))\n",
    "            if debug == True:\n",
    "                print(\"{}\\t{}\".format(iters, residual(x, rayleigh(x))))\n",
    "            if (max_iter is not None and iters >= max_iter):\n",
    "                break\n",
    "\n",
    "        return x, residuals\n",
    "\n",
    "    return riemanGD"
   ]
  },
  {
   "cell_type": "markdown",
   "metadata": {},
   "source": [
    "#### Иргушечный тест и промежуточные выводы"
   ]
  },
  {
   "cell_type": "code",
   "execution_count": 16,
   "metadata": {
    "pycharm": {
     "name": "#%%\n"
    }
   },
   "outputs": [
    {
     "name": "stdout",
     "output_type": "stream",
     "text": [
      "Toy test: A = diag(24, 12, 0, -7)\n",
      "№\tresidual\n",
      "1\t5.507750511169434\n",
      "2\t2.0413432121276855\n",
      "3\t1.0505763292312622\n",
      "4\t0.6844627261161804\n",
      "5\t0.42927026748657227\n",
      "6\t0.27214673161506653\n",
      "7\t0.17176738381385803\n",
      "8\t0.10848671197891235\n",
      "9\t0.06857158988714218\n",
      "10\t0.04328195005655289\n",
      "11\t0.027409469708800316\n",
      "12\t0.017271004617214203\n",
      "13\t0.01053637359291315\n",
      "14\t0.006074962671846151\n",
      "15\t0.004626623820513487\n",
      "16\t0.0017208900535479188\n",
      "17\t0.0017207986675202847\n",
      "18\t0.0017207070486620069\n",
      "19\t0.001720615429803729\n",
      "20\t0.001720523927360773\n",
      "found eigenvalue -7.0\n"
     ]
    }
   ],
   "source": [
    "print(\"Toy test: A = diag(24, 12, 0, -7)\")\n",
    "init_x = random.randn(4)\n",
    "init_x = jnp.array(init_x / jnp.linalg.norm(init_x))\n",
    "tolerance = 1E-8\n",
    "A = jnp.diagflat(jnp.array([24, 12, 0, -7]))\n",
    "riemanGD = predefine_GD(A)\n",
    "vec, rs = riemanGD(init_x, tolerance, 20, True)\n",
    "print(\"found eigenvalue {}\".format(make_rayleigh(A)(vec)))"
   ]
  },
  {
   "cell_type": "markdown",
   "metadata": {},
   "source": [
    "Итого на диагональной матрице $4\\times4$ метод нашёл правильное младшее\n",
    "собственное значение и сошёлся за 50 итераций, что, как мне кажется, довольно грустно.\n",
    "\n",
    "Кроме того видно, что на последних нескольких итерациях метод уже ничего не делал, но при\n",
    "этом ошибка довольно большая. Вероятно это связано с использованием типа float32.\n",
    "\n",
    "P.S. Ясно, что неплохое начальное приближение можно получить из степенного метода,\n",
    "что нам абсолютно не интересно, т.к. не пригодится при обобщении метода на\n",
    "многомерный случай."
   ]
  },
  {
   "cell_type": "markdown",
   "metadata": {},
   "source": [
    "#### Больше тестов\n",
    "\n",
    "Создадим большие плотные симметричные матрицы с не очень большими\n",
    "собственными значениями, и будем запускать метод на них с потолком в 50 итераций.\n",
    "Везде будем использовать факт, что если $A$ - симметричная матрица, то\n",
    "$C^TAC$ - тоже симметричная, при условии, что $\\det C \\neq 0$.\n",
    "\n",
    "Сначала запустим метод с потенциально плохими матрицами $C$:"
   ]
  },
  {
   "cell_type": "code",
   "execution_count": 17,
   "metadata": {
    "pycharm": {
     "name": "#%%\n"
    },
    "scrolled": false
   },
   "outputs": [
    {
     "name": "stdout",
     "output_type": "stream",
     "text": [
      "Actual -34424572.0, found -32117520.0, err 2307052.0\n",
      "Actual -34210688.0, found -803656.125, err 33407032.0\n",
      "Actual -32958564.0, found -212506.609375, err 32746058.0\n",
      "Actual -34553268.0, found -33881868.0, err 671400.0\n",
      "Actual -33303548.0, found 1842177.0, err 35145724.0\n",
      "Actual -35154672.0, found -34158840.0, err 995832.0\n",
      "Actual -33082176.0, found -24899536.0, err 8182640.0\n"
     ]
    },
    {
     "data": {
      "text/plain": "<Figure size 432x288 with 1 Axes>",
      "image/png": "[encoded data removed]"
     },
     "metadata": {
      "needs_background": "light"
     },
     "output_type": "display_data"
    }
   ],
   "source": [
    "n = 7\n",
    "dim = 1000\n",
    "tolerance = 4E-3\n",
    "graphs = []\n",
    "for i in range(n):\n",
    "    A = jnp.diagflat(jnp.array(random.randint(-200, 200, dim)))\n",
    "    C = jnp.array(10 * random.randn(dim, dim))\n",
    "    A = C.T @ A @ C\n",
    "    answ = jnp.linalg.eigh(A)[0][0]\n",
    "    riemanGD = predefine_GD(A)\n",
    "    init_x = random.randn(dim)\n",
    "    init_x = jnp.array(init_x / jnp.linalg.norm(init_x))\n",
    "    vec, rs = riemanGD(init_x, tolerance, 20)\n",
    "    graphs.append(plt.plot(rs))\n",
    "    eival = make_rayleigh(A)(vec)\n",
    "    print(\"Actual {}, found {}, err {}\".format(answ, eival, jnp.abs(answ - eival)))\n",
    "\n",
    "plt.xlabel(\"Iteration\")\n",
    "plt.ylabel(\"Residual\")\n",
    "plt.semilogy()\n",
    "plt.show(graphs)"
   ]
  },
  {
   "cell_type": "markdown",
   "metadata": {},
   "source": [
    "А теперь запретим матрицам $C$ не быть ортогональными:"
   ]
  },
  {
   "cell_type": "code",
   "execution_count": 18,
   "metadata": {
    "pycharm": {
     "name": "#%%\n"
    }
   },
   "outputs": [
    {
     "name": "stdout",
     "output_type": "stream",
     "text": [
      "Actual 1, found 1.6555993556976318, err 0.6555993556976318\n",
      "Actual 1, found 2.5486338138580322, err 1.5486338138580322\n",
      "Actual 2, found 2.557899236679077, err 0.5578992366790771\n",
      "Actual 2, found 2.3236868381500244, err 0.3236868381500244\n",
      "Actual 1, found 2.4670257568359375, err 1.4670257568359375\n",
      "Actual 1, found 2.1753461360931396, err 1.1753461360931396\n",
      "Actual 1, found 2.1798365116119385, err 1.1798365116119385\n",
      "Actual 1, found 1.0681568384170532, err 0.06815683841705322\n",
      "Actual 1, found 1.7457318305969238, err 0.7457318305969238\n",
      "Actual 1, found 1.668211817741394, err 0.668211817741394\n"
     ]
    },
    {
     "data": {
      "text/plain": "<Figure size 432x288 with 1 Axes>",
      "image/png": "[encoded data removed]"
     },
     "metadata": {
      "needs_background": "light"
     },
     "output_type": "display_data"
    }
   ],
   "source": [
    "n = 10\n",
    "dim = 1000\n",
    "tolerance = 4E-3\n",
    "graphs = []\n",
    "for i in range(n):\n",
    "    A = jnp.diagflat(jnp.array(random.randint(1, 400, dim)))\n",
    "    answ = jnp.amin(jnp.diag(A))\n",
    "    C = jnp.array(10 * random.randn(dim, dim))\n",
    "    C = jnp.linalg.qr(C)[0]\n",
    "    A = C.T @ A @ C\n",
    "    riemanGD = predefine_GD(A)\n",
    "    init_x = random.randn(dim)\n",
    "    init_x = jnp.array(init_x / jnp.linalg.norm(init_x))\n",
    "    vec, rs = riemanGD(init_x, tolerance, 100)\n",
    "    graphs.append(plt.plot(rs))\n",
    "    eival = make_rayleigh(A)(vec)\n",
    "    print(\"Actual {}, found {}, err {}\".format(answ, eival, jnp.abs(answ - eival)))\n",
    "\n",
    "plt.xlabel(\"Iteration\")\n",
    "plt.ylabel(\"Residual\")\n",
    "plt.semilogy()\n",
    "plt.show(graphs)"
   ]
  },
  {
   "cell_type": "markdown",
   "metadata": {
    "pycharm": {
     "name": "#%% md\n"
    }
   },
   "source": [
    "##### Вывод\n",
    "Для плохих матриц сходимость приняла ислам, а для хороших\n",
    "вполне пристойно за 100 итераций сходится к правильному собственному значению.\n",
    "Примечательно так же то, что первые 10 итераций ошибка растёт, потом резко снижается,\n",
    "и далее ведёт себя, как при обычном градиентном спуске. Чем обусловлено такое поведение,\n",
    "я сказать затрудняюсь...\n",
    "\n",
    "Предлагаю взять какую-нибудь плохую матрицу и посмотреть, за сколько итераций метод\n",
    "для неё сойдётся к чему-то адекватному."
   ]
  },
  {
   "cell_type": "code",
   "execution_count": 19,
   "metadata": {
    "pycharm": {
     "name": "#%%\n"
    },
    "scrolled": false
   },
   "outputs": [
    {
     "data": {
      "text/plain": "<Figure size 432x288 with 1 Axes>",
      "image/png": "[encoded data removed]"
     },
     "metadata": {
      "needs_background": "light"
     },
     "output_type": "display_data"
    }
   ],
   "source": [
    "dim = 1000\n",
    "tolerance = 4E-3\n",
    "A = jnp.diagflat(jnp.array(random.randint(1, 400, dim)))\n",
    "answ = jnp.amin(A)\n",
    "C = jnp.array(10 * random.randn(dim, dim))\n",
    "A = C.T @ A @ C\n",
    "riemanGD = predefine_GD(A)\n",
    "init_x = random.randn(dim)\n",
    "init_x = jnp.array(init_x / jnp.linalg.norm(init_x))\n",
    "vec, rs = riemanGD(init_x, tolerance, 3500)\n",
    "plt.xlabel(\"Iteration\")\n",
    "plt.ylabel(\"Residual\")\n",
    "plt.semilogy()\n",
    "plt.show(plt.plot(rs))"
   ]
  },
  {
   "cell_type": "code",
   "execution_count": 23,
   "metadata": {
    "pycharm": {
     "name": "#%%\n"
    }
   },
   "outputs": [
    {
     "name": "stdout",
     "output_type": "stream",
     "text": [
      "Found 5016.33837890625, actual 5.341063499450684\n"
     ]
    }
   ],
   "source": [
    "print(\"Found {}, actual {}\".format(make_rayleigh(A)(vec), jnp.linalg.eigh(A)[0][0]))"
   ]
  },
  {
   "cell_type": "markdown",
   "metadata": {
    "pycharm": {
     "name": "#%% md\n"
    }
   },
   "source": [
    "Сошлось, блин."
   ]
  },
  {
   "cell_type": "markdown",
   "metadata": {
    "pycharm": {
     "name": "#%% md\n"
    }
   },
   "source": [
    "### Ищем несколько собственных значений\n",
    "\n",
    "Глобально идея та же самая, только теперь вместо одного вектора $x_k$ у нас\n",
    "будет матрица с нормированными столбцами $X_k$, которую мы будем воспринимать\n",
    "как коллекцию векторов, лежащих на сфере. Эту матрицу мы будем ортогонализовывать\n",
    "на каждой итерации, чтобы разные столбцы сошлись к собственным векторам, лежащим\n",
    "в разных собственных подпространствах.\n",
    "\n",
    "Немного переделаем алгоритм: пусть у нас всё ещё есть фиксированная матрица\n",
    "$A \\in \\mathbb{R}^{n\\times n}$. Тогда новое \"отношение Реллея\" будет иметь вид\n",
    "$f\\colon S^{n-1} \\to \\mathbb{R}^m$ по правилу $X \\mapsto diag(X^TAX)$, где $m$ —\n",
    "сколько собственных значений мы хотим найти. Соответветственно, если\n",
    "$X_0 \\in (S^{n-1})^m$ — начальное приближение, то на $k+1$-ой итерации\n",
    "алгоритма\n",
    "\n",
    "1. Считаем $\\nabla f(X_k)$ (матрица, где каждый столбец это $\\nabla f(X_k^{(i)})$) методами autodiff;\n",
    "2. Считаем $\\nabla_R f(X_k)$ (аналогично) по правилу $\\nabla_R f(X_k^{(i)}) = P_{T_{X_k^{(i)}}S^{n-1}}(\\nabla f(X_k^{(i)}))$;\n",
    "3. Вычисляем длину шага $\\alpha_k^i$ при помощи Armijo backtracking для каждого столбца;\n",
    "4. $X_{k+1} =\\mathcal{R}_{X_k}(-\\nabla_R f(X_k)\\alpha_k) \\to \\min_{X \\in (S^{n-1})^m} f(X)$;\n",
    "\n",
    "Здесь $\\alpha_k$ — диагональная матрица с длинами шагов, а\n",
    "$\\mathcal{R}_{X_k} \\colon \\mathbb{R}^{n\\times m} \\to (S^{n-1})^m$ — новая\n",
    "ретракция по правилу $M \\mapsto QR(X_k + M)$.\n",
    "\n",
    "А теперь со всем этим дерьмом мы попытаемся взлететь....\n",
    "\n",
    "P.S. Хорошая попытка, но такое отношение Реллея не получится продифференцировать.\n",
    "Придётся вернуть старое отношение и применять его к каждому столбцу.\n"
   ]
  },
  {
   "cell_type": "code",
   "execution_count": 24,
   "metadata": {
    "pycharm": {
     "name": "#%%\n"
    }
   },
   "outputs": [],
   "source": [
    "make_rayleigh = lambda A: lambda x: jnp.inner(x, A @ x)\n",
    "\n",
    "def new_retraction(X, M):\n",
    "    res = X + M\n",
    "    return jnp.linalg.qr(res)[0]\n",
    "\n",
    "make_residual = lambda A: lambda X: jnp.linalg.norm(A @ X - X @ (X.T @ (A @ X)))"
   ]
  },
  {
   "cell_type": "code",
   "execution_count": 25,
   "metadata": {
    "pycharm": {
     "name": "#%%\n"
    }
   },
   "outputs": [],
   "source": [
    "def predefine_GD_multiple_eigenvals(A):\n",
    "    rayleigh = make_rayleigh(A)\n",
    "    residual = make_residual(A)\n",
    "\n",
    "    def riemanGD_multiple_eigenvals(init, tol, max_iter = None, debug = False):\n",
    "        X = init\n",
    "        residuals = [residual(X)]\n",
    "        iters = 0\n",
    "        if debug == True:\n",
    "            print(\"№\\tresidual\")\n",
    "        while residual(X) > tol:\n",
    "            regular_grad = jax.grad(rayleigh)\n",
    "            rieman_grad = jnp.array([orthoprojector(X[:, i], regular_grad(X[:, i])) for i in range(X.shape[1])]).T\n",
    "            alpha = jnp.array([armijo_backtracking(jnp.inner(X[:, i], A @ rieman_grad[:, i]) / rayleigh(rieman_grad[:, i]), rieman_grad[:, i], 1E-4, 0.8, rayleigh, X[:, i]) for i in range(X.shape[1])])\n",
    "            # alpha = jnp.array([armijo_backtracking(10, rieman_grad[:, i], 1E-4, 0.8, rayleigh, X[:, i]) for i in range(X.shape[1])])\n",
    "            X = new_retraction(X, -rieman_grad @ jnp.diagflat(alpha))\n",
    "            iters += 1\n",
    "            residuals.append(residual(X))\n",
    "            if debug == True:\n",
    "                print(\"{}\\t{}\".format(iters, residual(X)))\n",
    "            if max_iter is not None and iters >= max_iter:\n",
    "                break\n",
    "\n",
    "        return X, residuals\n",
    "\n",
    "    return riemanGD_multiple_eigenvals"
   ]
  },
  {
   "cell_type": "code",
   "execution_count": 28,
   "metadata": {
    "pycharm": {
     "name": "#%%\n"
    }
   },
   "outputs": [
    {
     "name": "stdout",
     "output_type": "stream",
     "text": [
      "Toy test: A = diag(24, 12, 0, -7)\n"
     ]
    }
   ],
   "source": [
    "print(\"Toy test: A = diag(24, 12, 0, -7)\")\n",
    "init_X = random.randn(4, 3)\n",
    "init_X = jnp.linalg.qr(init_X)[0]\n",
    "tolerance = 4E-3\n",
    "A = jnp.diagflat(jnp.array([24, 12, 0, -7]))\n",
    "riemanGD_multiple_eigenvals = predefine_GD_multiple_eigenvals(A)\n",
    "vec = riemanGD_multiple_eigenvals(init_X, tolerance, 108)[0]"
   ]
  },
  {
   "cell_type": "code",
   "execution_count": 29,
   "metadata": {
    "pycharm": {
     "name": "#%%\n"
    }
   },
   "outputs": [
    {
     "name": "stdout",
     "output_type": "stream",
     "text": [
      "-7.0\n",
      "-1.696875e-07\n",
      "12.000001\n"
     ]
    }
   ],
   "source": [
    "print(make_rayleigh(A)(vec[:, 0]))\n",
    "print(make_rayleigh(A)(vec[:, 1]))\n",
    "print(make_rayleigh(A)(vec[:, 2]))\n",
    "\n"
   ]
  },
  {
   "cell_type": "markdown",
   "metadata": {
    "pycharm": {
     "name": "#%% md\n"
    }
   },
   "source": [
    "Жесть, оно сработало. Запускать его на больших тестах нет никакого желания, но оно\n",
    "работает, а это уже больше, чем я ожидал...."
   ]
  }
 ],
 "metadata": {
  "kernelspec": {
   "display_name": "Python 3",
   "language": "python",
   "name": "python3"
  },
  "language_info": {
   "codemirror_mode": {
    "name": "ipython",
    "version": 3
   },
   "file_extension": ".py",
   "mimetype": "text/x-python",
   "name": "python",
   "nbconvert_exporter": "python",
   "pygments_lexer": "ipython3",
   "version": "3.8.10"
  }
 },
 "nbformat": 4,
 "nbformat_minor": 1
}