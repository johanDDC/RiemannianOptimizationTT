{
 "cells": [
  {
   "cell_type": "markdown",
   "source": [
    "### Задача:\n",
    "Будем решать частичную задачу на собственные значения на многообразии $S^{n-1}$\n",
    "методами Римановой оптимизации.\n",
    "\n",
    "### Описание алгоритма:\n",
    "Пусть у нас фиксирована матрица $A \\in \\mathbb{R}^{n\\times n}$. Тогда для\n",
    "фиксированной матрицы $A$ определим $\\it{отношение~ Реллея}$ $f\\colon S^{n - 1} \\to \\mathbb{R}$\n",
    "по правилу\n",
    "\\begin{align*}\n",
    "x \\mapsto (x, Ax)\n",
    "\\end{align*}\n",
    ".\n",
    "\n",
    "Решать задачу будем при помощи Риманова градиентного спуска: пусть имеется некоторое\n",
    "начальное приближение $x_0 \\in S^{n-1}$. Тогда на $k+1$-ой итерации алгоритма\n",
    "\n",
    "1. Считаем $\\nabla f(x_k)$ методами autodiff;\n",
    "2. Считаем $\\nabla_R f(x_k)$ (Риманов градиент) по правилу $\\nabla_R f(x_k) = P_{T_{x_k}S^{n-1}}(\\nabla f(x_k))$;\n",
    "3. Вычисляем длину шага $\\alpha_k$ при помощи Armijo backtracking;\n",
    "4. $x_{k+1} =\\mathcal{R}_{x_k}(-\\alpha_k \\nabla_R f(x_k)) \\to \\min_{x \\in S^{n-1}} f(x)$;\n",
    "\n",
    "Здесь $\\mathcal{R}_{x}\\colon T_xS^{n-1} \\to S^{n-1}$ — стандартная ретракция\n",
    "\\begin{align*}\n",
    "v \\mapsto \\frac{x + v}{\\|x + v\\|_2}\n",
    "\\end{align*}.\n",
    "\n",
    "Считаем, что алгоритм сошёлся, когда для заданного $\\varepsilon > 0$ выполнено\n",
    "\n",
    "\\begin{align*}\n",
    "\\|Ax_k - f(x_k)x_k\\|_2 < \\varepsilon\n",
    "\\end{align*}."
   ],
   "metadata": {
    "collapsed": false
   }
  },
  {
   "cell_type": "code",
   "execution_count": 25,
   "outputs": [],
   "source": [
    "import jax\n",
    "import jax.numpy as jnp\n",
    "from numpy import random\n",
    "import matplotlib.pyplot as plt\n",
    "import scipy.sparse\n",
    "%matplotlib inline"
   ],
   "metadata": {
    "collapsed": false,
    "pycharm": {
     "name": "#%%\n"
    }
   }
  },
  {
   "cell_type": "code",
   "execution_count": 2,
   "outputs": [],
   "source": [
    "make_rayleigh = lambda A: lambda x: jnp.inner(x, A @ x)\n",
    "\n",
    "def retraction(x, v):\n",
    "    res = x + v\n",
    "    return res / jnp.linalg.norm(res)\n",
    "\n",
    "make_residual = lambda A: lambda x, rayleigh_x: jnp.linalg.norm(A @ x - rayleigh_x * x)\n",
    "orthoprojector = lambda x: jnp.eye(len(x)) - jnp.outer(x, x)"
   ],
   "metadata": {
    "collapsed": false,
    "pycharm": {
     "name": "#%%\n"
    }
   }
  },
  {
   "cell_type": "markdown",
   "source": [
    "#### Armijo backtracking\n",
    "Идея: имеется некоторое начальное приближение $\\alpha_0$, на каждой итерации алгоритм\n",
    "выполняет умножение $\\alpha_{k+1} = \\beta\\alpha_k$, $\\beta \\in (0, 1)$, до тех\n",
    "пор, пока не выполнено уcловие Армихо-Голдштейна:\n",
    "\n",
    "\\begin{align*}\n",
    "f(x) - f(\\mathcal{R}_{x}(-\\alpha_k \\nabla_R f(x))) \\geq m\\alpha_k\\|\\nabla_R f(x)\\|^2\n",
    "\\end{align*}\n",
    "\n",
    "где $m \\in (0, 1)$. Литература сообщает, что обычно $m = 10^{-4}, \\beta \\in \\{0.5, 0.8\\}$."
   ],
   "metadata": {
    "collapsed": false
   }
  },
  {
   "cell_type": "code",
   "execution_count": 3,
   "outputs": [],
   "source": [
    "def armijo_backtracking(init, grad, mul, beta, func, x):\n",
    "    alpha = init\n",
    "    while func(x) - func(retraction(x, -alpha * grad)) < \\\n",
    "        mul * alpha * jnp.linalg.norm(grad) ** 2:\n",
    "        alpha *= beta\n",
    "    return alpha"
   ],
   "metadata": {
    "collapsed": false,
    "pycharm": {
     "name": "#%%\n"
    }
   }
  },
  {
   "cell_type": "code",
   "execution_count": 92,
   "outputs": [],
   "source": [
    "def predefine_GD(A):\n",
    "    rayleigh = make_rayleigh(A)\n",
    "    residual = make_residual(A)\n",
    "\n",
    "    def riemanGD(init, tol, max_iter = None, debug = False):\n",
    "        x = init\n",
    "        residuals = [residual(x, rayleigh(x))]\n",
    "        iters = 0\n",
    "        if debug == True:\n",
    "            print(\"№\\tresidual\")\n",
    "        while residual(x, rayleigh(x)) > tol:\n",
    "            regular_grad = jax.grad(rayleigh)\n",
    "            P = orthoprojector(x)\n",
    "            rieman_grad = P @ regular_grad(x)\n",
    "            alpha = armijo_backtracking(10, rieman_grad, 1E-4, 0.8, rayleigh, x)\n",
    "            x = retraction(x, -alpha*rieman_grad)\n",
    "            iters += 1\n",
    "            residuals.append(residual(x, rayleigh(x)))\n",
    "            if debug == True:\n",
    "                print(\"{}\\t{}\".format(iters, residual(x, rayleigh(x))))\n",
    "            if max_iter is not None and iters >= max_iter:\n",
    "                break\n",
    "\n",
    "        return x, residuals\n",
    "\n",
    "    return riemanGD"
   ],
   "metadata": {
    "collapsed": false,
    "pycharm": {
     "name": "#%%\n"
    }
   }
  },
  {
   "cell_type": "markdown",
   "source": [
    "#### Иргушечный тест и промежуточные выводы"
   ],
   "metadata": {
    "collapsed": false
   }
  },
  {
   "cell_type": "code",
   "execution_count": 65,
   "outputs": [
    {
     "name": "stdout",
     "output_type": "stream",
     "text": [
      "Toy test: A = diag(24, 12, 0, -7)\n",
      "№\tresidual\n",
      "1\t12.497602462768555\n",
      "2\t5.624430179595947\n",
      "3\t4.6260666847229\n",
      "4\t3.979995012283325\n",
      "5\t3.5015034675598145\n",
      "6\t2.6293909549713135\n",
      "7\t2.3973453044891357\n",
      "8\t1.8457330465316772\n",
      "9\t1.706756591796875\n",
      "10\t1.3283768892288208\n",
      "11\t1.038434386253357\n",
      "12\t0.813911497592926\n",
      "13\t0.638949453830719\n",
      "14\t0.5980278849601746\n",
      "15\t0.4700210988521576\n",
      "16\t0.3696073293685913\n",
      "17\t0.29073938727378845\n",
      "18\t0.27247506380081177\n",
      "19\t0.25536876916885376\n",
      "20\t0.23934508860111237\n",
      "21\t0.22433410584926605\n",
      "22\t0.17652328312397003\n",
      "23\t0.16546978056430817\n",
      "24\t0.13021574914455414\n",
      "25\t0.1024768278002739\n",
      "26\t0.08064894378185272\n",
      "27\t0.07560639083385468\n",
      "28\t0.05950305983424187\n",
      "29\t0.046829961240291595\n",
      "30\t0.03685619682073593\n",
      "31\t0.034552495926618576\n",
      "32\t0.027193667367100716\n",
      "33\t0.025493988767266273\n",
      "34\t0.023900553584098816\n",
      "35\t0.018810369074344635\n",
      "36\t0.014804271049797535\n",
      "37\t0.011651371605694294\n",
      "38\t0.010923157446086407\n",
      "39\t0.010240455158054829\n",
      "40\t0.008059524931013584\n",
      "41\t0.006343072280287743\n",
      "42\t0.004992176778614521\n",
      "43\t0.0021447520703077316\n",
      "44\t0.0021447520703077316\n",
      "45\t0.0021447520703077316\n",
      "46\t0.0021447520703077316\n",
      "47\t0.0021447520703077316\n",
      "48\t0.0021447520703077316\n",
      "49\t0.0021447520703077316\n",
      "50\t0.0021447520703077316\n",
      "found eigenvalue -7.0\n"
     ]
    }
   ],
   "source": [
    "print(\"Toy test: A = diag(24, 12, 0, -7)\")\n",
    "init_x = random.randn(4)\n",
    "init_x = jnp.array(init_x / jnp.linalg.norm(init_x))\n",
    "tolerance = 1E-8\n",
    "A = jnp.diagflat(jnp.array([24, 12, 0, -7]))\n",
    "riemanGD = predefine_GD(A)\n",
    "vec = riemanGD(init_x, tolerance, 50, True)[0]\n",
    "print(\"found eigenvalue {}\".format(make_rayleigh(A)(vec)))"
   ],
   "metadata": {
    "collapsed": false,
    "pycharm": {
     "name": "#%%\n"
    }
   }
  },
  {
   "cell_type": "markdown",
   "source": [
    "Итого на диагональной матрице $4\\times4$ метод нашёл правильное младшее\n",
    "собственное значение и сошёлся за 50 итераций, что, как мне кажется, довольно грустно.\n",
    "\n",
    "Кроме того видно, что на последних нескольких итерациях метод уже ничего не делал, но при\n",
    "этом ошибка довольно большая. Вероятно это связано с использованием типа float32.\n",
    "\n",
    "P.S. Ясно, что неплохое начальное приближение можно получить из степенного метода,\n",
    "что нам абсолютно не интересно, т.к. не пригодится при обобщении метода на\n",
    "многомерный случай."
   ],
   "metadata": {
    "collapsed": false
   }
  },
  {
   "cell_type": "markdown",
   "source": [
    "#### Больше тестов\n",
    "\n",
    "Создадим большие плотные симметричные матрицы с не очень большими\n",
    "собственными значениями, и будем запускать метод на них с потолком в 50 итераций.\n",
    "Везде будем использовать факт, что если $A$ - симметричная матрица, то\n",
    "$C^TAC$ - тоже симметричная, при условии, что $\\det C \\neq 0$.\n",
    "\n",
    "Сначала запустим метод с потенциально плохими матрицами $C$:"
   ],
   "metadata": {
    "collapsed": false
   }
  },
  {
   "cell_type": "code",
   "execution_count": 66,
   "outputs": [
    {
     "name": "stdout",
     "output_type": "stream",
     "text": [
      "Actual -199, found -34359736.0, err 34359536.0\n",
      "Actual -200, found -34146464.0, err 34146264.0\n",
      "Actual -200, found -34578136.0, err 34577936.0\n",
      "Actual -200, found -35182704.0, err 35182504.0\n",
      "Actual -198, found -32054508.0, err 32054310.0\n",
      "Actual -200, found -33017618.0, err 33017418.0\n",
      "Actual -200, found -34957672.0, err 34957472.0\n",
      "Actual -200, found -34115312.0, err 34115112.0\n",
      "Actual -200, found -32206176.0, err 32205976.0\n",
      "Actual -200, found -33761812.0, err 33761612.0\n"
     ]
    },
    {
     "data": {
      "text/plain": "<Figure size 432x288 with 1 Axes>",
      "image/png": "[encoded data removed]"
     },
     "metadata": {
      "needs_background": "light"
     },
     "output_type": "display_data"
    }
   ],
   "source": [
    "n = 10\n",
    "dim = 1000\n",
    "tolerance = 4E-3\n",
    "graphs = []\n",
    "for i in range(n):\n",
    "    A = jnp.diagflat(jnp.array(random.randint(-200, 200, dim)))\n",
    "    answ = jnp.amin(A)\n",
    "    C = jnp.array(10 * random.randn(dim, dim))\n",
    "    A = C.T @ A @ C\n",
    "    riemanGD = predefine_GD(A)\n",
    "    init_x = random.randn(dim)\n",
    "    init_x = jnp.array(init_x / jnp.linalg.norm(init_x))\n",
    "    vec, rs = riemanGD(init_x, tolerance, 50)\n",
    "    graphs.append(plt.plot(rs))\n",
    "    eival = make_rayleigh(A)(vec)\n",
    "    print(\"Actual {}, found {}, err {}\".format(answ, eival, jnp.abs(answ - eival)))\n",
    "\n",
    "plt.xlabel(\"Iteration\")\n",
    "plt.ylabel(\"Residual\")\n",
    "plt.semilogy()\n",
    "plt.show(graphs)"
   ],
   "metadata": {
    "collapsed": false,
    "pycharm": {
     "name": "#%%\n"
    }
   }
  },
  {
   "cell_type": "markdown",
   "source": [
    "А теперь запретим матрицам $C$ не быть ортогональными:"
   ],
   "metadata": {
    "collapsed": false
   }
  },
  {
   "cell_type": "code",
   "execution_count": 67,
   "outputs": [
    {
     "name": "stdout",
     "output_type": "stream",
     "text": [
      "Actual -200, found -198.96253967285156, err 1.0374603271484375\n",
      "Actual -200, found -199.6404571533203, err 0.3595428466796875\n",
      "Actual -200, found -199.69378662109375, err 0.30621337890625\n",
      "Actual -200, found -199.5835418701172, err 0.4164581298828125\n",
      "Actual -200, found -199.3016357421875, err 0.6983642578125\n",
      "Actual -200, found -199.292724609375, err 0.707275390625\n",
      "Actual -200, found -199.19821166992188, err 0.801788330078125\n",
      "Actual -200, found -199.88504028320312, err 0.114959716796875\n",
      "Actual -200, found -199.67955017089844, err 0.3204498291015625\n",
      "Actual -200, found -199.2705841064453, err 0.7294158935546875\n"
     ]
    },
    {
     "data": {
      "text/plain": "<Figure size 432x288 with 1 Axes>",
      "image/png": "[encoded data removed]"
     },
     "metadata": {
      "needs_background": "light"
     },
     "output_type": "display_data"
    }
   ],
   "source": [
    "n = 10\n",
    "dim = 1000\n",
    "tolerance = 4E-3\n",
    "graphs = []\n",
    "for i in range(n):\n",
    "    A = jnp.diagflat(jnp.array(random.randint(-200, 200, dim)))\n",
    "    answ = jnp.amin(A)\n",
    "    C = jnp.array(10 * random.randn(dim, dim))\n",
    "    C = jnp.linalg.qr(C)[0]\n",
    "    A = C.T @ A @ C\n",
    "    riemanGD = predefine_GD(A)\n",
    "    init_x = random.randn(dim)\n",
    "    init_x = jnp.array(init_x / jnp.linalg.norm(init_x))\n",
    "    vec, rs = riemanGD(init_x, tolerance, 100)\n",
    "    graphs.append(plt.plot(rs))\n",
    "    eival = make_rayleigh(A)(vec)\n",
    "    print(\"Actual {}, found {}, err {}\".format(answ, eival, jnp.abs(answ - eival)))\n",
    "\n",
    "plt.xlabel(\"Iteration\")\n",
    "plt.ylabel(\"Residual\")\n",
    "plt.semilogy()\n",
    "plt.show(graphs)"
   ],
   "metadata": {
    "collapsed": false,
    "pycharm": {
     "name": "#%%\n"
    }
   }
  },
  {
   "cell_type": "markdown",
   "source": [
    "##### Вывод\n",
    "Для плохих матриц сходимость приняла ислам, а для хороших\n",
    "вполне пристойно за 100 итераций сходится к правильному собственному значению.\n",
    "Примечательно так же то, что первые 10 итераций ошибка растёт, потом резко снижается,\n",
    "и далее ведёт себя, как при обычном градиентном спуске. Чем обусловлено такое поведение,\n",
    "я сказать затрудняюсь...\n",
    "\n",
    "Предлагаю взять какую-нибудь плохую матрицу и посмотреть, за сколько итераций метод\n",
    "для неё сойдётся к чему-то адекватному."
   ],
   "metadata": {
    "collapsed": false,
    "pycharm": {
     "name": "#%% md\n"
    }
   }
  },
  {
   "cell_type": "code",
   "execution_count": 88,
   "outputs": [
    {
     "data": {
      "text/plain": "<Figure size 432x288 with 1 Axes>",
      "image/png": "[encoded data removed]"
     },
     "metadata": {
      "needs_background": "light"
     },
     "output_type": "display_data"
    }
   ],
   "source": [
    "dim = 1000\n",
    "tolerance = 4E-3\n",
    "A = jnp.diagflat(jnp.array(random.randint(-200, 200, dim)))\n",
    "answ = jnp.amin(A)\n",
    "C = jnp.array(10 * random.randn(dim, dim))\n",
    "A = C.T @ A @ C\n",
    "riemanGD = predefine_GD(A)\n",
    "init_x = random.randn(dim)\n",
    "init_x = jnp.array(init_x / jnp.linalg.norm(init_x))\n",
    "vec, rs = riemanGD(init_x, tolerance, 250)\n",
    "plt.xlabel(\"Iteration\")\n",
    "plt.ylabel(\"Residual\")\n",
    "plt.semilogy()\n",
    "plt.show(plt.plot(rs))"
   ],
   "metadata": {
    "collapsed": false,
    "pycharm": {
     "name": "#%%\n"
    }
   }
  },
  {
   "cell_type": "code",
   "execution_count": 89,
   "outputs": [
    {
     "data": {
      "text/plain": "DeviceArray(-34650670., dtype=float32)"
     },
     "execution_count": 89,
     "metadata": {},
     "output_type": "execute_result"
    }
   ],
   "source": [
    "make_rayleigh(A)(vec)\n"
   ],
   "metadata": {
    "collapsed": false,
    "pycharm": {
     "name": "#%%\n"
    }
   }
  },
  {
   "cell_type": "markdown",
   "source": [
    "Сошлось, блин."
   ],
   "metadata": {
    "collapsed": false,
    "pycharm": {
     "name": "#%% md\n"
    }
   }
  },
  {
   "cell_type": "markdown",
   "source": [
    "### Ищем несколько собственных значений\n",
    "\n",
    "Глобально идея та же самая, только теперь вместо одного вектора $x_k$ у нас\n",
    "будет матрица с нормированными столбцами $X_k$, которую мы будем воспринимать\n",
    "как коллекцию векторов, лежащих на сфере. Эту матрицу мы будем ортогонализовывать\n",
    "на каждой итерации, чтобы разные столбцы сошлись к собственным векторам, лежащим\n",
    "в разных собственных подпространствах.\n",
    "\n",
    "Немного переделаем алгоритм: пусть у нас всё ещё есть фиксированная матрица\n",
    "$A \\in \\mathbb{R}^{n\\times n}$. Тогда новое \"отношение Реллея\" будет иметь вид\n",
    "$f\\colon S^{n-1} \\to \\mathbb{R}^m$ по правилу $X \\mapsto diag(X^TAX)$, где $m$ —\n",
    "сколько собственных значений мы хотим найти. Соответветственно, если\n",
    "$X_0 \\in (S^{n-1})^m$ — начальное приближение, то на $k+1$-ой итерации\n",
    "алгоритма\n",
    "\n",
    "1. Считаем $\\nabla f(X_k)$ (матрица, где каждый столбец это $\\nabla f(X_k^{(i)})$) методами autodiff;\n",
    "2. Считаем $\\nabla_R f(X_k)$ (аналогично) по правилу $\\nabla_R f(X_k^{(i)}) = P_{T_{X_k^{(i)}}S^{n-1}}(\\nabla f(X_k^{(i)}))$;\n",
    "3. Вычисляем длину шага $\\alpha_k^i$ при помощи Armijo backtracking для каждого столбца;\n",
    "4. $X_{k+1} =\\mathcal{R}_{X_k}(-\\nabla_R f(X_k)\\alpha_k) \\to \\min_{X \\in (S^{n-1})^m} f(X)$;\n",
    "\n",
    "Здесь $\\alpha_k$ — диагональная матрица с длинами шагов, а\n",
    "$\\mathcal{R}_{X_k} \\colon \\mathbb{R}^{n\\times m} \\to (S^{n-1})^m$ — новая\n",
    "ретракция по правилу $M \\mapsto QR(X_k + M)$.\n",
    "\n",
    "А теперь со всем этим дерьмом мы попытаемся взлететь....\n",
    "\n",
    "P.S. Хорошая попытка, но такое отношение Реллея не получится продифференцировать.\n",
    "Придётся вернуть старое отношение и применять его к каждому столбцу.\n"
   ],
   "metadata": {
    "collapsed": false,
    "pycharm": {
     "name": "#%% md\n"
    }
   }
  },
  {
   "cell_type": "code",
   "execution_count": 20,
   "outputs": [],
   "source": [
    "make_rayleigh = lambda A: lambda x: jnp.inner(x, A @ x)\n",
    "\n",
    "def new_retraction(X, M):\n",
    "    res = X + M\n",
    "    return jnp.linalg.qr(res)[0]\n",
    "\n",
    "make_residual = lambda A: lambda X: jnp.linalg.norm(A @ X - X @ (X.T @ (A @ X)))"
   ],
   "metadata": {
    "collapsed": false,
    "pycharm": {
     "name": "#%%\n"
    }
   }
  },
  {
   "cell_type": "code",
   "execution_count": 21,
   "outputs": [],
   "source": [
    "def predefine_GD_multiple_eigenvals(A):\n",
    "    rayleigh = make_rayleigh(A)\n",
    "    residual = make_residual(A)\n",
    "\n",
    "    def riemanGD_multiple_eigenvals(init, tol, max_iter = None, debug = False):\n",
    "        X = init\n",
    "        residuals = [residual(X)]\n",
    "        iters = 0\n",
    "        if debug == True:\n",
    "            print(\"№\\tresidual\")\n",
    "        while residual(X) > tol:\n",
    "            regular_grad = jax.grad(rayleigh)\n",
    "            P = jnp.array([orthoprojector(X[:, i]) for i in range(X.shape[1])])\n",
    "            rieman_grad = jnp.array([P[i] @ regular_grad(X[:, i]) for i in range(X.shape[1])]).T\n",
    "            # rieman_grad = jnp.array([P[i] @ regular_grad(X[:, i]) for i in range(X.shape[1])])\n",
    "            alpha = jnp.array([armijo_backtracking(10, rieman_grad[:, i], 1E-4, 0.8, rayleigh, X[:, i]) for i in range(X.shape[1])])\n",
    "            X = new_retraction(X, -rieman_grad @ jnp.diagflat(alpha))\n",
    "            iters += 1\n",
    "            residuals.append(residual(X))\n",
    "            if debug == True:\n",
    "                print(\"{}\\t{}\".format(iters, residual(X)))\n",
    "            if max_iter is not None and iters >= max_iter:\n",
    "                break\n",
    "\n",
    "        return X, residuals\n",
    "\n",
    "    return riemanGD_multiple_eigenvals"
   ],
   "metadata": {
    "collapsed": false,
    "pycharm": {
     "name": "#%%\n"
    }
   }
  },
  {
   "cell_type": "code",
   "execution_count": 205,
   "outputs": [
    {
     "name": "stdout",
     "output_type": "stream",
     "text": [
      "Toy test: A = diag(24, 12, 0, -7)\n",
      "№\tresidual\n",
      "1\t10.02748966217041\n",
      "2\t3.4817159175872803\n",
      "3\t0.4458751380443573\n",
      "4\t0.15850038826465607\n",
      "5\t0.08101204037666321\n",
      "6\t0.08528738468885422\n",
      "7\t0.15879331529140472\n",
      "8\t0.3456290662288666\n",
      "9\t0.7878841161727905\n",
      "10\t1.786104679107666\n",
      "11\t3.713104248046875\n",
      "12\t5.803286552429199\n",
      "13\t6.208337306976318\n",
      "14\t6.432803153991699\n",
      "15\t6.211984157562256\n",
      "16\t6.214503288269043\n",
      "17\t6.120805263519287\n",
      "18\t6.1126275062561035\n",
      "19\t6.067671298980713\n",
      "20\t6.06010103225708\n",
      "21\t6.040382385253906\n",
      "22\t6.032987117767334\n",
      "23\t6.02579402923584\n",
      "24\t6.0196404457092285\n",
      "25\t6.01495361328125\n",
      "26\t6.011295318603516\n",
      "27\t6.008194923400879\n",
      "28\t6.006038665771484\n",
      "29\t6.00356388092041\n",
      "30\t6.001966953277588\n",
      "31\t5.999105930328369\n",
      "32\t5.997056007385254\n",
      "33\t5.992273330688477\n",
      "34\t5.987917423248291\n",
      "35\t5.978078365325928\n",
      "36\t5.9671173095703125\n",
      "37\t5.945052146911621\n",
      "38\t5.916943550109863\n",
      "39\t5.865636825561523\n",
      "40\t5.794182777404785\n",
      "41\t5.672691822052002\n",
      "42\t5.492953300476074\n",
      "43\t5.202481269836426\n",
      "44\t4.75941801071167\n",
      "45\t4.07941198348999\n",
      "46\t3.098459482192993\n",
      "47\t2.8547775745391846\n",
      "48\t2.736386299133301\n",
      "49\t2.671002149581909\n",
      "50\t2.632718324661255\n",
      "51\t2.6095869541168213\n",
      "52\t2.5953528881073\n",
      "53\t2.5865020751953125\n",
      "54\t2.580963611602783\n",
      "55\t2.577484607696533\n",
      "56\t2.5752875804901123\n",
      "57\t2.573901891708374\n",
      "58\t2.5730221271514893\n",
      "59\t2.5724704265594482\n",
      "60\t1.6728068590164185\n",
      "61\t1.2008429765701294\n",
      "62\t0.8923776149749756\n",
      "63\t0.6741352677345276\n",
      "64\t0.5137143731117249\n",
      "65\t0.3933715224266052\n",
      "66\t0.30206000804901123\n",
      "67\t0.23232239484786987\n",
      "68\t0.1788584440946579\n",
      "69\t0.13778026401996613\n",
      "70\t0.10617829114198685\n",
      "71\t0.08184947073459625\n",
      "72\t0.06311389803886414\n",
      "73\t0.04868486896157265\n",
      "74\t0.03757501393556595\n",
      "75\t0.029025645926594734\n",
      "76\t0.022453350946307182\n",
      "77\t0.017409903928637505\n",
      "78\t0.0135511364787817\n",
      "79\t0.01061307918280363\n",
      "80\t0.008393293246626854\n",
      "81\t0.006736118346452713\n"
     ]
    }
   ],
   "source": [
    "print(\"Toy test: A = diag(24, 12, 0, -7)\")\n",
    "init_X = random.randn(4, 3)\n",
    "init_X = jnp.linalg.qr(init_X)[0]\n",
    "tolerance = 7E-3\n",
    "A = jnp.diagflat(jnp.array([24, 12, 0, -7]))\n",
    "riemanGD_multiple_eigenvals = predefine_GD_multiple_eigenvals(A)\n",
    "vec = riemanGD_multiple_eigenvals(init_X, tolerance, 108, True)[0]"
   ],
   "metadata": {
    "collapsed": false,
    "pycharm": {
     "name": "#%%\n"
    }
   }
  },
  {
   "cell_type": "code",
   "execution_count": 206,
   "outputs": [
    {
     "name": "stdout",
     "output_type": "stream",
     "text": [
      "-7.0\n",
      "3.2512362e-16\n",
      "12.0\n"
     ]
    }
   ],
   "source": [
    "print(make_rayleigh(A)(vec[:, 0]))\n",
    "print(make_rayleigh(A)(vec[:, 1]))\n",
    "print(make_rayleigh(A)(vec[:, 2]))\n",
    "\n"
   ],
   "metadata": {
    "collapsed": false,
    "pycharm": {
     "name": "#%%\n"
    }
   }
  },
  {
   "cell_type": "markdown",
   "source": [
    "Жесть, оно сработало. Запускать его на больших тестах нет никакого желания, но оно\n",
    "работает, а это уже больше, чем я ожидал...."
   ],
   "metadata": {
    "collapsed": false,
    "pycharm": {
     "name": "#%% md\n"
    }
   }
  }
 ],
 "metadata": {
  "kernelspec": {
   "display_name": "Python 3",
   "language": "python",
   "name": "python3"
  },
  "language_info": {
   "codemirror_mode": {
    "name": "ipython",
    "version": 2
   },
   "file_extension": ".py",
   "mimetype": "text/x-python",
   "name": "python",
   "nbconvert_exporter": "python",
   "pygments_lexer": "ipython2",
   "version": "2.7.6"
  }
 },
 "nbformat": 4,
 "nbformat_minor": 0
}