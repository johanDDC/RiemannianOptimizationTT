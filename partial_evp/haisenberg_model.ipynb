{
 "cells": [
  {
   "cell_type": "markdown",
   "metadata": {
    "collapsed": true,
    "pycharm": {
     "name": "#%% md\n"
    }
   },
   "source": [
    "## Тестирование\n",
    "\n",
    "Здесь будем тестировать решение многомерной задачи на собственные значения на\n",
    "реальных тензорах. В данном случае будем искать собственные значения\n",
    "Гамильтонианов — матриц, определяемых следующим образом\n",
    "\n",
    "\\begin{align*}\n",
    "    &H = \\sum_{i=1}^{d-1} \\mathbf{S}_i\\mathbf{S}_{i+1} =\n",
    "    \\sum_{i=1}^{d-1} \\left( S_i^XS_{i+1}^X + S_i^YS_{i+1}^Y + S_i^ZS_{i+1}^Z \\right)\\\\\n",
    "    &S_i^{\\{X, Y, Z\\}} = \\underbrace{I_2 \\otimes \\ldots \\otimes \\underbrace{S_{\\{X, Y, Z\\}}}_{i-\\mathrm{th}} \\otimes \\ldots \\otimes I_2}_{d\\ \\ \\mathrm{factors}}\n",
    "\\end{align*}\n",
    "\n",
    "Матрицы $S_{\\{X, Y, Z\\}}$ имеют вид\n",
    "\n",
    "\\begin{align*}\n",
    "&S_X =\n",
    "\\frac{1}{2}\n",
    "\\begin{pmatrix}\n",
    "0 & 1\\\\\n",
    "1 & 0\n",
    "\\end{pmatrix}\n",
    "&&S_Y =\n",
    "\\frac{1}{2}\n",
    "\\begin{pmatrix}\n",
    "0 & -i\\\\\n",
    "i & 0\n",
    "\\end{pmatrix}\n",
    "&&&S_Z =\n",
    "\\frac{1}{2}\n",
    "\\begin{pmatrix}\n",
    "1 & 0\\\\\n",
    "0 & -1\n",
    "\\end{pmatrix}\n",
    "\\end{align*}\n",
    "\n",
    "Первое что можно заметить, это то, что матрицы вида $S_Y$ содержат комплексные\n",
    "элементы, что довольно грустно, т.к. с комплексной арифметикой работать не хочется.\n",
    "Посмотрим на матрицу $S_i^YS_{i+1}^Y$ поближе:\n",
    "\n",
    "\\begin{align*}\n",
    "    S_i^YS_{i+1}^Y = &(\\underbrace{I_2 \\otimes \\ldots \\otimes S_Y \\otimes I_2 \\otimes \\ldots \\otimes I_2}_{A} \\otimes I_2)\n",
    "    (\\underbrace{I_2 \\otimes \\ldots \\otimes I_2 \\otimes S_Y \\otimes \\ldots \\otimes I_2}_{B} \\otimes I_2) =\\\\\n",
    "    =& AB \\otimes I_2 = \\Diamond\n",
    "\\end{align*}\n",
    "\n",
    "После некоторого количества таких развёрток, использования свойств кронекерова\n",
    "произведения и слияния $\\underbrace{I_2 \\otimes \\ldots \\otimes I_2}_{i\\ \\ \\mathrm{times}} = I_{2^i}$ получаем такую картину:\n",
    "\n",
    "\\begin{align*}\n",
    "    \\Diamond =& A'B' \\otimes \\widetilde{I} = (A'' \\otimes I)(B'' \\otimes S_Y) \\otimes \\widetilde{I} =\n",
    "    A''B'' \\otimes S_Y \\otimes \\widetilde{I} =\\\\\n",
    "    =& (\\widetilde{\\widetilde{A}} \\otimes S_Y)(\\widetilde{\\widetilde{B}} \\otimes I)\n",
    "    \\otimes S_Y \\otimes \\widetilde{I} = \\widetilde{\\widetilde{A}}\\widetilde{\\widetilde{B}}\n",
    "    \\otimes S_Y \\otimes S_Y \\otimes \\widetilde{I} =\n",
    "    \\widetilde{\\widetilde{I}} \\otimes S_Y \\otimes S_Y \\otimes \\widetilde{I}\n",
    "\\end{align*}\n",
    "\n",
    "Теперь посмотрим на матрицу $S_Y \\otimes S_Y$:\n",
    "\n",
    "\\begin{align*}\n",
    "    &S_Y \\otimes S_Y = \\frac{1}{2}\n",
    "\\begin{pmatrix}\n",
    "0 & -i\\\\\n",
    "i & 0\n",
    "\\end{pmatrix}\n",
    "\\otimes\n",
    "\\frac{1}{2}\n",
    "\\begin{pmatrix}\n",
    "0 & -i\\\\\n",
    "i & 0\n",
    "\\end{pmatrix} = \\frac{1}{4}\n",
    "\\begin{pmatrix}\n",
    "0 & 0 & 0 & -1\\\\\n",
    "0 & 0 & 1 & 0\\\\\n",
    "0 & -1 & 0 & 0\\\\\n",
    "1 & 0 & 0 & 0\\\\\n",
    "\\end{pmatrix}\n",
    "\\end{align*}\n",
    "\n",
    "О как здорово, получается матрица $S_i^YS_{i+1}^Y$ целиком вещественная,\n",
    "несмотря на то, что множители комплексные. Значит можно придумать, как\n",
    "считать Гамильтониан не прибегая к комплексной арифметике. На худой конец\n",
    "можно его построить с использованием комплексной арифметики, а потом\n",
    "комплексную часть у всех элементов обрезать, т.к. очевидно, что Гамильтониан\n",
    "тоже целиком вещественный.\n",
    "\n",
    "Теперь поближе посмотрим на выражение $S_i^XS_{i+1}^X + S_i^YS_{i+1}^Y$:\n",
    "\n",
    "\\begin{align*}\n",
    "    S_i^XS_{i+1}^X + S_i^YS_{i+1}^Y =&\n",
    "    \\widetilde{\\widetilde{I}} \\otimes S_X \\otimes S_X \\otimes \\widetilde{I}\n",
    "    + \\widetilde{\\widetilde{I}} \\otimes S_Y \\otimes S_Y \\otimes \\widetilde{I} =\\\\\n",
    "    =&\n",
    "    \\widetilde{\\widetilde{I}} \\otimes (S_X \\otimes S_X + S_Y \\otimes S_Y) \\otimes \\widetilde{I}\\\\\n",
    "\\end{align*}\n",
    "\n",
    "\\begin{align*}\n",
    "    &S_X \\otimes S_X = \\frac{1}{4}\n",
    "    \\begin{pmatrix}\n",
    "        0 & 0 & 0 & 1\\\\\n",
    "        0 & 0 & 1 & 0\\\\\n",
    "        0 & 1 & 0 & 0\\\\\n",
    "        1 & 0 & 0 & 0\\\\\n",
    "    \\end{pmatrix}\n",
    "    &&S_Y \\otimes S_Y = \\frac{1}{4}\n",
    "    \\begin{pmatrix}\n",
    "        0 & 0 & 0 & -1\\\\\n",
    "        0 & 0 & 1 & 0\\\\\n",
    "        0 & -1 & 0 & 0\\\\\n",
    "        1 & 0 & 0 & 0\\\\\n",
    "    \\end{pmatrix}\n",
    "\\end{align*}\n",
    "\n",
    "\\begin{align*}\n",
    "    S_X \\otimes S_X + S_Y \\otimes S_Y =& \\frac{1}{4}\n",
    "    \\begin{pmatrix}\n",
    "        0 & 0 & 0 & 0\\\\\n",
    "        0 & 0 & 2 & 0\\\\\n",
    "        0 & 0 & 0 & 0\\\\\n",
    "        2 & 0 & 0 & 0\\\\\n",
    "    \\end{pmatrix}\n",
    "    =\\frac{1}{2}\n",
    "    \\begin{pmatrix}\n",
    "        0 & 0 & 0 & 0\\\\\n",
    "        0 & 0 & 1 & 0\\\\\n",
    "        0 & 0 & 0 & 0\\\\\n",
    "        1 & 0 & 0 & 0\\\\\n",
    "    \\end{pmatrix} =\\\\\\\\\n",
    "    =& \\frac{1}{2}\n",
    "    \\begin{pmatrix}\n",
    "    0 & E_3\\\\\n",
    "    E_3 & 0\n",
    "    \\end{pmatrix} = \\frac{1}{2} (I_2^{\\bot} \\otimes E_3)\n",
    "\\end{align*}\n",
    "\n",
    "Где $E_3$ — третья матричная единица (третий базисный вектор из стандартного базиса\n",
    "пространства $\\mathbb{R}^{2\\times2}$), $I_2^{\\bot}$ — матрица циклической перестановки\n",
    "порядка $2$. Теперь можно развернуть выражение в обратную\n",
    "сторону и написать новое определение Гамильтониана:\n",
    "\n",
    "\\begin{align*}\n",
    "    H =& \\sum_{i=1}^{d-1} \\left( S_i^XS_{i+1}^X + S_i^YS_{i+1}^Y + S_i^ZS_{i+1}^Z \\right) =\\\\\n",
    "    =& \\sum_{i=1}^{d-1} \\left( \\frac{1}{2}\\left(\\widetilde{\\widetilde{I}} \\otimes I_2^{\\bot} \\otimes E_3 \\otimes \\widetilde{I} \\right) + S_i^ZS_{i+1}^Z\\right)\n",
    "\\end{align*}\n",
    "\n",
    "Здесь $I_2^{\\bot}$ стоит на $i$-ой позиции, а $E_3$ на $(i+1)$-ой.\n",
    "Такое можно уже запрограммировать. Остаётся придумать, как представить Гамильтониан\n",
    "в виде TT-тензора."
   ]
  },
  {
   "cell_type": "code",
   "execution_count": 1,
   "outputs": [],
   "source": [
    "import jax\n",
    "import jax.numpy as jnp\n",
    "import numpy as np\n",
    "from numpy import random\n",
    "import ttax\n",
    "import matplotlib.pyplot as plt\n",
    "%matplotlib inline"
   ],
   "metadata": {
    "collapsed": false,
    "pycharm": {
     "name": "#%%\n"
    }
   }
  },
  {
   "cell_type": "code",
   "execution_count": 2,
   "outputs": [],
   "source": [
    "def tt_kron(a : ttax.base_class.TTMatrix, b : ttax.base_class.TTMatrix):\n",
    "    a_cores = a.tt_cores\n",
    "    if type(a_cores) is list:\n",
    "        a_cores = jnp.array(a_cores)\n",
    "    b_cores = b.tt_cores\n",
    "    if type(b_cores) is list:\n",
    "        b_cores = jnp.array(b_cores)\n",
    "    return ttax.base_class.TTMatrix(jnp.concatenate((a_cores, b_cores)))\n",
    "\n",
    "def apply_operator(operator_tt : ttax.base_class.TTMatrix, vec_tt : ttax.base_class.TT):\n",
    "    \"\"\"\n",
    "      Calculate matrix multiplication of given TT-matrix and TT\n",
    "\n",
    "      :param operator_tt:\n",
    "      :param vec_tt:\n",
    "      :rerurn: the result of inner product\n",
    "      :rtype: `WrappedTT`\n",
    "    \"\"\"\n",
    "    return ttax.base_class.TT([\n",
    "        jnp.einsum('abic,eig->aebcg', operator_tt.tt_cores[i], vec_tt.tt_cores[i]).reshape((\n",
    "            operator_tt.tt_cores[i].shape[0] * vec_tt.tt_ranks[i], operator_tt.tt_cores[i].shape[1],\n",
    "            operator_tt.tt_cores[i].shape[3] * vec_tt.tt_ranks[i + 1]), order=\"F\",\n",
    "        )\n",
    "        for i in range(len(vec_tt.tt_cores))\n",
    "    ])"
   ],
   "metadata": {
    "collapsed": false,
    "pycharm": {
     "name": "#%%\n"
    }
   }
  },
  {
   "cell_type": "code",
   "execution_count": 3,
   "outputs": [
    {
     "name": "stderr",
     "output_type": "stream",
     "text": [
      "WARNING:absl:No GPU/TPU found, falling back to CPU. (Set TF_CPP_MIN_LOG_LEVEL=0 and rerun for more info.)\n"
     ]
    },
    {
     "name": "stdout",
     "output_type": "stream",
     "text": [
      "TTMatrix(tt_cores=DeviceArray([[[[[ 0.5],\n",
      "                [ 0. ]],\n",
      "\n",
      "               [[ 0. ],\n",
      "                [-0.5]]]],\n",
      "\n",
      "\n",
      "\n",
      "             [[[[ 0.5],\n",
      "                [ 0. ]],\n",
      "\n",
      "               [[ 0. ],\n",
      "                [-0.5]]]]], dtype=float32))\n"
     ]
    }
   ],
   "source": [
    "E = ttax.base_class.TTMatrix(jnp.array([jnp.eye(2).reshape((1,2,2,1), order=\"F\")]))\n",
    "E2 = tt_kron(E, E)\n",
    "sz = jnp.array([[1, 0], [0, -1]])\n",
    "sz = 0.5 * ttax.base_class.TTMatrix(jnp.array([sz.reshape((1,2,2,1), order=\"F\")]))\n",
    "print(tt_kron(sz, sz))"
   ],
   "metadata": {
    "collapsed": false,
    "pycharm": {
     "name": "#%%\n"
    }
   }
  },
  {
   "cell_type": "code",
   "execution_count": 4,
   "outputs": [],
   "source": [
    "def gen_SZ(S, i, d):\n",
    "    E = ttax.base_class.TTMatrix(jnp.array([jnp.eye(2).reshape((1,2,2,1), order=\"F\")]))\n",
    "    res = S\n",
    "    for j in range(i):\n",
    "        res = tt_kron(E, res)\n",
    "    for j in range(d - i - 1):\n",
    "        res = tt_kron(res, E)\n",
    "    return res\n",
    "\n",
    "def gen_SX_plus_SY(E_3, I_bot, i, d):\n",
    "    E = ttax.base_class.TTMatrix(jnp.array([jnp.eye(2).reshape((1,2,2,1), order=\"F\")]))\n",
    "    res = I_bot\n",
    "    for j in range(i):\n",
    "        res = tt_kron(E, res)\n",
    "    res = tt_kron(res, E_3)\n",
    "    for j in range(d - i - 2):\n",
    "        res = tt_kron(res, E)\n",
    "    return res\n",
    "\n",
    "def gen_Hamiltonian(d):\n",
    "    sz = jnp.array([[1, 0], [0, -1]])\n",
    "    sz = 0.5 * ttax.base_class.TTMatrix([sz.reshape((1,2,2,1), order=\"F\")])\n",
    "    E_3 = jnp.array([[0, 0], [1, 0]])\n",
    "    E_3 = ttax.base_class.TTMatrix([E_3.reshape((1,2,2,1), order=\"F\")])\n",
    "    I_bot = jnp.array([[0, 1], [1, 0]])\n",
    "    I_bot = ttax.base_class.TTMatrix([I_bot.reshape((1,2,2,1), order=\"F\")])\n",
    "    SSZ = [gen_SZ(sz, i, d) for i in range(d)]\n",
    "    SSX_plus_SSY = [gen_SX_plus_SY(E_3, I_bot, i, d) for i in range(d)]\n",
    "    zero_tensor = ttax.base_class.TTMatrix([jnp.zeros((1, 2, 2, 1))])\n",
    "    H = gen_SZ(zero_tensor, 0, d)\n",
    "    for i in range(d - 1):\n",
    "        H += 0.5 * SSX_plus_SSY[i] + SSZ[i] @ SSZ[i + 1]\n",
    "    return H"
   ],
   "metadata": {
    "collapsed": false,
    "pycharm": {
     "name": "#%%\n"
    }
   }
  },
  {
   "cell_type": "code",
   "execution_count": 91,
   "outputs": [],
   "source": [
    "make_rayleigh = lambda A: lambda x: ttax.flat_inner(x, A(x)) / ttax.flat_inner(x, x)\n",
    "norm = lambda x: jnp.sqrt(ttax.flat_inner(ttax.orthogonalize(x), ttax.orthogonalize(x)))\n",
    "residual = lambda A, x, eig: norm(A(x) + (-eig) * x) / norm(x)\n",
    "retraction = lambda T, rk: ttax.round(ttax.orthogonalize(T), max_tt_rank=rk)\n",
    "\n",
    "def armijo_backtracking(init, grad, rk, mul, beta, func, x):\n",
    "    alpha = init\n",
    "    iters = 0\n",
    "    optimal_x = retraction(x + (-alpha) * grad, rk)\n",
    "    while func(x) - func(optimal_x) < mul * alpha * norm(grad) ** 2:\n",
    "        alpha *= beta\n",
    "        iters += 1\n",
    "        optimal_x = retraction(x + (-alpha) * grad, rk)\n",
    "        if iters > 40:\n",
    "            break\n",
    "    return optimal_x\n",
    "\n",
    "def riemanGD(A, init, tol, rk, max_iter = None, debug = False):\n",
    "    rayleigh = make_rayleigh(A)\n",
    "    rieman_grad = ttax.autodiff.grad(rayleigh)\n",
    "    x = ttax.orthogonalize(init)\n",
    "    residuals = [residual(A, x, rayleigh(x))]\n",
    "    iters = 0\n",
    "    if debug == True:\n",
    "        print(\"№\\tresidual\")\n",
    "    while residuals[-1] > tol:\n",
    "        rieman_x = rieman_grad(x)\n",
    "        x = armijo_backtracking(1, rieman_x, rk, 1E-4, 0.5, rayleigh, x)\n",
    "        iters += 1\n",
    "        residuals.append(residual(A, x, rayleigh(x)))\n",
    "        if debug == True:\n",
    "            print(\"{}\\t{}\".format(iters, residual(A, x, rayleigh(x))))\n",
    "        if (max_iter is not None and iters >= max_iter):\n",
    "        # if (max_iter is not None and iters >= max_iter) or (len(residuals) > 2 and residuals[-2] == residuals[-1]):\n",
    "            break\n",
    "\n",
    "    return x, residuals"
   ],
   "metadata": {
    "collapsed": false,
    "pycharm": {
     "name": "#%%\n"
    }
   }
  },
  {
   "cell_type": "code",
   "execution_count": 55,
   "outputs": [
    {
     "name": "stdout",
     "output_type": "stream",
     "text": [
      "([2, 2, 2], [2, 2, 2])\n"
     ]
    }
   ],
   "source": [
    "H = gen_Hamiltonian(3)\n",
    "print(H.raw_tensor_shape)\n",
    "# J = jnp.kron(jnp.array([[0, 1], [-1, 0]]), jnp.eye(4))\n",
    "# J = ttax.base_class.TTMatrix([J.reshape((1,2,2,1), order=\"F\")])"
   ],
   "metadata": {
    "collapsed": false,
    "pycharm": {
     "name": "#%%\n"
    }
   }
  },
  {
   "cell_type": "code",
   "execution_count": 85,
   "outputs": [
    {
     "name": "stdout",
     "output_type": "stream",
     "text": [
      "60 2 60\n"
     ]
    }
   ],
   "source": [
    "d = 10\n",
    "rk = 2\n",
    "H = gen_Hamiltonian(d)\n",
    "n = H.raw_tensor_shape[0]\n",
    "H_round = ttax.round(H, 1)\n",
    "operator = lambda x: apply_operator(H_round, x)\n",
    "init = ttax.random.tensor(jax.random.PRNGKey(41), n, tt_rank=rk)\n",
    "print(d, rk, len(n))\n",
    "# print(H_round.tt_ranks, init.tt_ranks)"
   ],
   "metadata": {
    "collapsed": false,
    "pycharm": {
     "name": "#%%\n"
    }
   }
  },
  {
   "cell_type": "code",
   "execution_count": 76,
   "outputs": [],
   "source": [
    "f = lambda x: ttax.flat_inner(x, x)"
   ],
   "metadata": {
    "collapsed": false,
    "pycharm": {
     "name": "#%%\n"
    }
   }
  },
  {
   "cell_type": "code",
   "execution_count": null,
   "outputs": [
    {
     "name": "stdout",
     "output_type": "stream",
     "text": [
      "№\tresidual\n",
      "1\t0.4774336814880371\n",
      "2\t0.4774337708950043\n",
      "3\t0.477433979511261\n",
      "4\t0.47743335366249084\n",
      "5\t0.4774336516857147\n",
      "6\t0.4774341881275177\n",
      "7\t0.477433979511261\n",
      "8\t0.47743353247642517\n",
      "9\t0.4774332642555237\n",
      "10\t0.4774339497089386\n",
      "11\t0.47743380069732666\n",
      "12\t0.4774336516857147\n",
      "13\t0.4774335026741028\n",
      "14\t0.47743359208106995\n",
      "15\t0.4774341285228729\n"
     ]
    }
   ],
   "source": [
    "# x = ttax.random.tensor(jax.random.PRNGKey(42), n, tt_rank=2)\n",
    "# ttax.autodiff.grad(f)(init)\n",
    "# f(init)\n",
    "vec, residuals = riemanGD(operator, init, 1E-2, 2, 50, True)\n",
    "plt.semilogy()\n",
    "plt.show(plt.plot(residuals))"
   ],
   "metadata": {
    "collapsed": false,
    "pycharm": {
     "name": "#%%\n",
     "is_executing": true
    }
   }
  },
  {
   "cell_type": "code",
   "execution_count": 86,
   "outputs": [
    {
     "name": "stdout",
     "output_type": "stream",
     "text": [
      "(119, 2, 2, 119)\n",
      "[[[[0. 0. 0. ... 0. 0. 0.]\n",
      "   [0. 0. 0. ... 0. 0. 0.]]\n",
      "\n",
      "  [[0. 0. 0. ... 0. 0. 0.]\n",
      "   [0. 0. 0. ... 0. 0. 0.]]]\n",
      "\n",
      "\n",
      " [[[0. 0. 0. ... 0. 0. 0.]\n",
      "   [0. 0. 0. ... 0. 0. 0.]]\n",
      "\n",
      "  [[0. 0. 0. ... 0. 0. 0.]\n",
      "   [0. 0. 0. ... 0. 0. 0.]]]\n",
      "\n",
      "\n",
      " [[[0. 0. 0. ... 0. 0. 0.]\n",
      "   [0. 0. 0. ... 0. 0. 0.]]\n",
      "\n",
      "  [[0. 0. 0. ... 0. 0. 0.]\n",
      "   [0. 0. 0. ... 0. 0. 0.]]]\n",
      "\n",
      "\n",
      " ...\n",
      "\n",
      "\n",
      " [[[0. 0. 0. ... 0. 0. 0.]\n",
      "   [0. 0. 0. ... 0. 0. 0.]]\n",
      "\n",
      "  [[0. 0. 0. ... 0. 0. 0.]\n",
      "   [0. 0. 0. ... 0. 0. 0.]]]\n",
      "\n",
      "\n",
      " [[[0. 0. 0. ... 0. 0. 0.]\n",
      "   [0. 0. 0. ... 0. 0. 0.]]\n",
      "\n",
      "  [[0. 0. 0. ... 0. 0. 0.]\n",
      "   [0. 0. 0. ... 0. 0. 0.]]]\n",
      "\n",
      "\n",
      " [[[0. 0. 0. ... 0. 0. 0.]\n",
      "   [0. 0. 0. ... 0. 0. 0.]]\n",
      "\n",
      "  [[0. 0. 0. ... 0. 0. 0.]\n",
      "   [0. 0. 0. ... 0. 0. 0.]]]]\n"
     ]
    }
   ],
   "source": [
    "# print(make_rayleigh(operator)(vec), residuals[0] - residuals[-1])\n",
    "print(H.tt_cores[5].shape)\n",
    "print(H.tt_cores[5] + (-1) * H.tt_cores[3])\n",
    "# print(ttax.full(H_round).round(1))"
   ],
   "metadata": {
    "collapsed": false,
    "pycharm": {
     "name": "#%%\n"
    }
   }
  },
  {
   "cell_type": "code",
   "execution_count": null,
   "outputs": [],
   "source": [],
   "metadata": {
    "collapsed": false,
    "pycharm": {
     "name": "#%%\n"
    }
   }
  }
 ],
 "metadata": {
  "kernelspec": {
   "display_name": "Python 3",
   "language": "python",
   "name": "python3"
  },
  "language_info": {
   "codemirror_mode": {
    "name": "ipython",
    "version": 2
   },
   "file_extension": ".py",
   "mimetype": "text/x-python",
   "name": "python",
   "nbconvert_exporter": "python",
   "pygments_lexer": "ipython2",
   "version": "2.7.6"
  }
 },
 "nbformat": 4,
 "nbformat_minor": 0
}